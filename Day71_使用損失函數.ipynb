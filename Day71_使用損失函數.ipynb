{
  "nbformat": 4,
  "nbformat_minor": 0,
  "metadata": {
    "colab": {
      "name": "Day71-使用損失函數",
      "provenance": [],
      "include_colab_link": true
    },
    "kernelspec": {
      "name": "python3",
      "display_name": "Python 3"
    },
    "accelerator": "GPU"
  },
  "cells": [
    {
      "cell_type": "markdown",
      "metadata": {
        "id": "view-in-github",
        "colab_type": "text"
      },
      "source": [
        "<a href=\"https://colab.research.google.com/github/sam19980822/3rd-ML100Days/blob/master/Day71_%E4%BD%BF%E7%94%A8%E6%90%8D%E5%A4%B1%E5%87%BD%E6%95%B8.ipynb\" target=\"_parent\"><img src=\"https://colab.research.google.com/assets/colab-badge.svg\" alt=\"Open In Colab\"/></a>"
      ]
    },
    {
      "cell_type": "code",
      "metadata": {
        "id": "SwP76EhSlEpL",
        "colab_type": "code",
        "colab": {
          "base_uri": "https://localhost:8080/",
          "height": 98
        },
        "outputId": "8738f21c-59b1-43cd-dc7f-13b7da1b292a"
      },
      "source": [
        "from keras.datasets import cifar10\n",
        "import numpy as np\n",
        "np.random.seed(10)"
      ],
      "execution_count": 2,
      "outputs": [
        {
          "output_type": "stream",
          "text": [
            "Using TensorFlow backend.\n"
          ],
          "name": "stderr"
        },
        {
          "output_type": "display_data",
          "data": {
            "text/html": [
              "<p style=\"color: red;\">\n",
              "The default version of TensorFlow in Colab will soon switch to TensorFlow 2.x.<br>\n",
              "We recommend you <a href=\"https://www.tensorflow.org/guide/migrate\" target=\"_blank\">upgrade</a> now \n",
              "or ensure your notebook will continue to use TensorFlow 1.x via the <code>%tensorflow_version 1.x</code> magic:\n",
              "<a href=\"https://colab.research.google.com/notebooks/tensorflow_version.ipynb\" target=\"_blank\">more info</a>.</p>\n"
            ],
            "text/plain": [
              "<IPython.core.display.HTML object>"
            ]
          },
          "metadata": {
            "tags": []
          }
        }
      ]
    },
    {
      "cell_type": "code",
      "metadata": {
        "id": "5z8JG-Y0lLEn",
        "colab_type": "code",
        "colab": {
          "base_uri": "https://localhost:8080/",
          "height": 52
        },
        "outputId": "54e8037b-fb50-415a-95b8-e3ee52c9f3df"
      },
      "source": [
        "#取得Keras Dataset\n",
        "(x_img_train,y_label_train),(x_img_test,y_label_test)=cifar10.load_data()"
      ],
      "execution_count": 3,
      "outputs": [
        {
          "output_type": "stream",
          "text": [
            "Downloading data from https://www.cs.toronto.edu/~kriz/cifar-10-python.tar.gz\n",
            "170500096/170498071 [==============================] - 14s 0us/step\n"
          ],
          "name": "stdout"
        }
      ]
    },
    {
      "cell_type": "code",
      "metadata": {
        "id": "KHhxTsgzlpKk",
        "colab_type": "code",
        "colab": {
          "base_uri": "https://localhost:8080/",
          "height": 52
        },
        "outputId": "b4d81be2-c720-48d2-d2b9-cf3f5bb8c903"
      },
      "source": [
        "#確認 CIFAR10 Dataset 資料維度\n",
        "print(\"train data:\",'images:',x_img_train.shape,\n",
        "      \" labels:\",y_label_train.shape) \n",
        "print(\"test  data:\",'images:',x_img_test.shape ,\n",
        "      \" labels:\",y_label_test.shape) "
      ],
      "execution_count": 4,
      "outputs": [
        {
          "output_type": "stream",
          "text": [
            "train data: images: (50000, 32, 32, 3)  labels: (50000, 1)\n",
            "test  data: images: (10000, 32, 32, 3)  labels: (10000, 1)\n"
          ],
          "name": "stdout"
        }
      ]
    },
    {
      "cell_type": "code",
      "metadata": {
        "id": "h4wovQZulpUu",
        "colab_type": "code",
        "colab": {}
      },
      "source": [
        "#資料正規化\n",
        "x_img_train_normalize = x_img_train.astype('float32') / 255.0\n",
        "x_img_test_normalize = x_img_test.astype('float32') / 255.0"
      ],
      "execution_count": 0,
      "outputs": []
    },
    {
      "cell_type": "code",
      "metadata": {
        "id": "DRQ0fq7Plpgd",
        "colab_type": "code",
        "colab": {
          "base_uri": "https://localhost:8080/",
          "height": 34
        },
        "outputId": "c9149c79-8b04-4cd1-dbf6-cf144f118b26"
      },
      "source": [
        "#針對Label 做 ONE HOT ENCODE\n",
        "from keras.utils import np_utils\n",
        "y_label_train_OneHot = np_utils.to_categorical(y_label_train)\n",
        "y_label_test_OneHot = np_utils.to_categorical(y_label_test)\n",
        "y_label_test_OneHot.shape"
      ],
      "execution_count": 6,
      "outputs": [
        {
          "output_type": "execute_result",
          "data": {
            "text/plain": [
              "(10000, 10)"
            ]
          },
          "metadata": {
            "tags": []
          },
          "execution_count": 6
        }
      ]
    },
    {
      "cell_type": "code",
      "metadata": {
        "id": "lbhjdZBVlpj3",
        "colab_type": "code",
        "colab": {}
      },
      "source": [
        "from keras.models import Sequential\n",
        "from keras.layers import Dense, Dropout, Activation, Flatten\n",
        "from keras.layers import Conv2D, MaxPooling2D, ZeroPadding2D"
      ],
      "execution_count": 0,
      "outputs": []
    },
    {
      "cell_type": "code",
      "metadata": {
        "id": "CKftAaGKl2pO",
        "colab_type": "code",
        "colab": {
          "base_uri": "https://localhost:8080/",
          "height": 811
        },
        "outputId": "dedf076d-f52a-4428-ae30-8d0277c0444c"
      },
      "source": [
        "model = Sequential()\n",
        "#卷積層1與池化層1\n",
        "model.add(Conv2D(filters=32,kernel_size=(3,3),\n",
        "                 input_shape=(32, 32,3), \n",
        "                 activation='relu', \n",
        "                 padding='same'))\n",
        "\n",
        "model.add(Dropout(rate=0.25))\n",
        "model.add(MaxPooling2D(pool_size=(2, 2)))\n",
        "\n",
        "#卷積層2與池化層2\n",
        "model.add(Conv2D(filters=64, kernel_size=(3, 3), \n",
        "                 activation='relu', padding='same'))\n",
        "model.add(Dropout(0.25))\n",
        "model.add(MaxPooling2D(pool_size=(2, 2)))\n",
        "#建立神經網路(平坦層、隱藏層、輸出層)\n",
        "model.add(Flatten())\n",
        "model.add(Dropout(rate=0.25))\n",
        "model.add(Dense(1024, activation='relu'))\n",
        "model.add(Dropout(rate=0.25))\n",
        "model.add(Dense(10, activation='softmax'))\n",
        "#檢查model 的STACK\n",
        "print(model.summary())"
      ],
      "execution_count": 8,
      "outputs": [
        {
          "output_type": "stream",
          "text": [
            "WARNING:tensorflow:From /usr/local/lib/python3.6/dist-packages/keras/backend/tensorflow_backend.py:66: The name tf.get_default_graph is deprecated. Please use tf.compat.v1.get_default_graph instead.\n",
            "\n",
            "WARNING:tensorflow:From /usr/local/lib/python3.6/dist-packages/keras/backend/tensorflow_backend.py:541: The name tf.placeholder is deprecated. Please use tf.compat.v1.placeholder instead.\n",
            "\n",
            "WARNING:tensorflow:From /usr/local/lib/python3.6/dist-packages/keras/backend/tensorflow_backend.py:4432: The name tf.random_uniform is deprecated. Please use tf.random.uniform instead.\n",
            "\n",
            "WARNING:tensorflow:From /usr/local/lib/python3.6/dist-packages/keras/backend/tensorflow_backend.py:148: The name tf.placeholder_with_default is deprecated. Please use tf.compat.v1.placeholder_with_default instead.\n",
            "\n",
            "WARNING:tensorflow:From /usr/local/lib/python3.6/dist-packages/keras/backend/tensorflow_backend.py:3733: calling dropout (from tensorflow.python.ops.nn_ops) with keep_prob is deprecated and will be removed in a future version.\n",
            "Instructions for updating:\n",
            "Please use `rate` instead of `keep_prob`. Rate should be set to `rate = 1 - keep_prob`.\n",
            "WARNING:tensorflow:From /usr/local/lib/python3.6/dist-packages/keras/backend/tensorflow_backend.py:4267: The name tf.nn.max_pool is deprecated. Please use tf.nn.max_pool2d instead.\n",
            "\n",
            "Model: \"sequential_1\"\n",
            "_________________________________________________________________\n",
            "Layer (type)                 Output Shape              Param #   \n",
            "=================================================================\n",
            "conv2d_1 (Conv2D)            (None, 32, 32, 32)        896       \n",
            "_________________________________________________________________\n",
            "dropout_1 (Dropout)          (None, 32, 32, 32)        0         \n",
            "_________________________________________________________________\n",
            "max_pooling2d_1 (MaxPooling2 (None, 16, 16, 32)        0         \n",
            "_________________________________________________________________\n",
            "conv2d_2 (Conv2D)            (None, 16, 16, 64)        18496     \n",
            "_________________________________________________________________\n",
            "dropout_2 (Dropout)          (None, 16, 16, 64)        0         \n",
            "_________________________________________________________________\n",
            "max_pooling2d_2 (MaxPooling2 (None, 8, 8, 64)          0         \n",
            "_________________________________________________________________\n",
            "flatten_1 (Flatten)          (None, 4096)              0         \n",
            "_________________________________________________________________\n",
            "dropout_3 (Dropout)          (None, 4096)              0         \n",
            "_________________________________________________________________\n",
            "dense_1 (Dense)              (None, 1024)              4195328   \n",
            "_________________________________________________________________\n",
            "dropout_4 (Dropout)          (None, 1024)              0         \n",
            "_________________________________________________________________\n",
            "dense_2 (Dense)              (None, 10)                10250     \n",
            "=================================================================\n",
            "Total params: 4,224,970\n",
            "Trainable params: 4,224,970\n",
            "Non-trainable params: 0\n",
            "_________________________________________________________________\n",
            "None\n"
          ],
          "name": "stdout"
        }
      ]
    },
    {
      "cell_type": "markdown",
      "metadata": {
        "id": "2_310zhTmTXI",
        "colab_type": "text"
      },
      "source": [
        "# 載入之前訓練的模型"
      ]
    },
    {
      "cell_type": "code",
      "metadata": {
        "id": "hVApPx3dl22n",
        "colab_type": "code",
        "colab": {
          "base_uri": "https://localhost:8080/",
          "height": 34
        },
        "outputId": "cdc25590-f13d-4bbc-fb4a-b25f25b2258d"
      },
      "source": [
        "try:\n",
        "    model.load_weights(\"SaveModel/cifarCnnModel.h5\")\n",
        "    print(\"載入模型成功!繼續訓練模型\")\n",
        "except :    \n",
        "    print(\"載入模型失敗!開始訓練一個新模型\")"
      ],
      "execution_count": 9,
      "outputs": [
        {
          "output_type": "stream",
          "text": [
            "載入模型失敗!開始訓練一個新模型\n"
          ],
          "name": "stdout"
        }
      ]
    },
    {
      "cell_type": "markdown",
      "metadata": {
        "id": "gYdLmGK8meOq",
        "colab_type": "text"
      },
      "source": [
        "# 訓練模型"
      ]
    },
    {
      "cell_type": "code",
      "metadata": {
        "id": "FytZfO30mezD",
        "colab_type": "code",
        "colab": {}
      },
      "source": [
        "#定義一個繪圖函數\n",
        "import matplotlib.pyplot as plt\n",
        "%matplotlib inline\n",
        "\n",
        "def show_train_history(train_history,train,validation):\n",
        "    plt.plot(train_history.history[train])\n",
        "    plt.plot(train_history.history[validation])\n",
        "    plt.title('Train History')\n",
        "    plt.ylabel(train)\n",
        "    plt.xlabel('Epoch')\n",
        "    plt.legend(['train', 'validation'], loc='upper left')\n",
        "    plt.show()\n"
      ],
      "execution_count": 0,
      "outputs": []
    },
    {
      "cell_type": "markdown",
      "metadata": {
        "id": "dhxc458JmvIr",
        "colab_type": "text"
      },
      "source": [
        "使用MSE，看看效果如何"
      ]
    },
    {
      "cell_type": "code",
      "metadata": {
        "id": "l3R9JOITmhjx",
        "colab_type": "code",
        "colab": {
          "base_uri": "https://localhost:8080/",
          "height": 755
        },
        "outputId": "7d3498bc-f318-4492-c281-75776c566614"
      },
      "source": [
        "model.compile(loss='MSE', optimizer='sgd', metrics=['accuracy'])\n",
        "\n",
        "train_history=model.fit(x_img_train_normalize, y_label_train_OneHot,\n",
        "                        validation_split=0.25,\n",
        "                        epochs=12, batch_size=128, verbose=1)  \n",
        "\n",
        "show_train_history(train_history,'acc','val_acc')"
      ],
      "execution_count": 18,
      "outputs": [
        {
          "output_type": "stream",
          "text": [
            "Train on 37500 samples, validate on 12500 samples\n",
            "Epoch 1/12\n",
            "37500/37500 [==============================] - 4s 111us/step - loss: 0.0888 - acc: 0.1656 - val_loss: 0.0889 - val_acc: 0.2094\n",
            "Epoch 2/12\n",
            "37500/37500 [==============================] - 4s 97us/step - loss: 0.0886 - acc: 0.1705 - val_loss: 0.0888 - val_acc: 0.2122\n",
            "Epoch 3/12\n",
            "37500/37500 [==============================] - 4s 98us/step - loss: 0.0885 - acc: 0.1762 - val_loss: 0.0886 - val_acc: 0.2176\n",
            "Epoch 4/12\n",
            "37500/37500 [==============================] - 4s 98us/step - loss: 0.0883 - acc: 0.1826 - val_loss: 0.0885 - val_acc: 0.2226\n",
            "Epoch 5/12\n",
            "37500/37500 [==============================] - 4s 97us/step - loss: 0.0881 - acc: 0.1883 - val_loss: 0.0884 - val_acc: 0.2250\n",
            "Epoch 6/12\n",
            "37500/37500 [==============================] - 4s 97us/step - loss: 0.0879 - acc: 0.1918 - val_loss: 0.0882 - val_acc: 0.2306\n",
            "Epoch 7/12\n",
            "37500/37500 [==============================] - 4s 99us/step - loss: 0.0877 - acc: 0.1946 - val_loss: 0.0881 - val_acc: 0.2361\n",
            "Epoch 8/12\n",
            "37500/37500 [==============================] - 4s 97us/step - loss: 0.0875 - acc: 0.1993 - val_loss: 0.0879 - val_acc: 0.2402\n",
            "Epoch 9/12\n",
            "37500/37500 [==============================] - 4s 100us/step - loss: 0.0873 - acc: 0.2024 - val_loss: 0.0877 - val_acc: 0.2441\n",
            "Epoch 10/12\n",
            "37500/37500 [==============================] - 4s 98us/step - loss: 0.0871 - acc: 0.2079 - val_loss: 0.0876 - val_acc: 0.2490\n",
            "Epoch 11/12\n",
            "37500/37500 [==============================] - 4s 98us/step - loss: 0.0868 - acc: 0.2108 - val_loss: 0.0874 - val_acc: 0.2520\n",
            "Epoch 12/12\n",
            "37500/37500 [==============================] - 4s 98us/step - loss: 0.0866 - acc: 0.2173 - val_loss: 0.0872 - val_acc: 0.2557\n"
          ],
          "name": "stdout"
        },
        {
          "output_type": "display_data",
          "data": {
            "image/png": "[encoded data removed]",
            "text/plain": [
              "<Figure size 432x288 with 1 Axes>"
            ]
          },
          "metadata": {
            "tags": []
          }
        }
      ]
    },
    {
      "cell_type": "code",
      "metadata": {
        "id": "i-ZQXzPnmjPL",
        "colab_type": "code",
        "colab": {
          "base_uri": "https://localhost:8080/",
          "height": 755
        },
        "outputId": "aa90d8cf-06b1-4f14-d0e4-b6df163b9631"
      },
      "source": [
        "model.compile(loss='binary_crossentropy', optimizer='sgd', metrics=['accuracy'])\n",
        "\n",
        "train_history=model.fit(x_img_train_normalize, y_label_train_OneHot,\n",
        "                        validation_split=0.25,\n",
        "                        epochs=12, batch_size=128, verbose=1)  \n",
        "\n",
        "show_train_history(train_history,'acc','val_acc')"
      ],
      "execution_count": 22,
      "outputs": [
        {
          "output_type": "stream",
          "text": [
            "Train on 37500 samples, validate on 12500 samples\n",
            "Epoch 1/12\n",
            "37500/37500 [==============================] - 4s 118us/step - loss: 0.2749 - acc: 0.9018 - val_loss: 0.2805 - val_acc: 0.9004\n",
            "Epoch 2/12\n",
            "37500/37500 [==============================] - 4s 102us/step - loss: 0.2733 - acc: 0.9022 - val_loss: 0.2792 - val_acc: 0.9004\n",
            "Epoch 3/12\n",
            "37500/37500 [==============================] - 4s 103us/step - loss: 0.2714 - acc: 0.9024 - val_loss: 0.2777 - val_acc: 0.9004\n",
            "Epoch 4/12\n",
            "37500/37500 [==============================] - 4s 103us/step - loss: 0.2698 - acc: 0.9028 - val_loss: 0.2761 - val_acc: 0.9005\n",
            "Epoch 5/12\n",
            "37500/37500 [==============================] - 4s 102us/step - loss: 0.2681 - acc: 0.9031 - val_loss: 0.2747 - val_acc: 0.9005\n",
            "Epoch 6/12\n",
            "37500/37500 [==============================] - 4s 102us/step - loss: 0.2660 - acc: 0.9032 - val_loss: 0.2733 - val_acc: 0.9005\n",
            "Epoch 7/12\n",
            "37500/37500 [==============================] - 4s 102us/step - loss: 0.2641 - acc: 0.9034 - val_loss: 0.2715 - val_acc: 0.9006\n",
            "Epoch 8/12\n",
            "37500/37500 [==============================] - 4s 101us/step - loss: 0.2627 - acc: 0.9037 - val_loss: 0.2701 - val_acc: 0.9007\n",
            "Epoch 9/12\n",
            "37500/37500 [==============================] - 4s 102us/step - loss: 0.2605 - acc: 0.9041 - val_loss: 0.2682 - val_acc: 0.9008\n",
            "Epoch 10/12\n",
            "37500/37500 [==============================] - 4s 102us/step - loss: 0.2592 - acc: 0.9043 - val_loss: 0.2671 - val_acc: 0.9008\n",
            "Epoch 11/12\n",
            "37500/37500 [==============================] - 4s 102us/step - loss: 0.2573 - acc: 0.9047 - val_loss: 0.2654 - val_acc: 0.9009\n",
            "Epoch 12/12\n",
            "37500/37500 [==============================] - 4s 102us/step - loss: 0.2560 - acc: 0.9050 - val_loss: 0.2639 - val_acc: 0.9010\n"
          ],
          "name": "stdout"
        },
        {
          "output_type": "display_data",
          "data": {
            "image/png": "[encoded data removed]",
            "text/plain": [
              "<Figure size 432x288 with 1 Axes>"
            ]
          },
          "metadata": {
            "tags": []
          }
        }
      ]
    },
    {
      "cell_type": "code",
      "metadata": {
        "id": "fMaiI0fTnoD8",
        "colab_type": "code",
        "colab": {
          "base_uri": "https://localhost:8080/",
          "height": 295
        },
        "outputId": "641994ce-4819-497e-835b-803848f8ba69"
      },
      "source": [
        ""
      ],
      "execution_count": 21,
      "outputs": [
        {
          "output_type": "display_data",
          "data": {
            "image/png": "[encoded data removed]",
            "text/plain": [
              "<Figure size 432x288 with 1 Axes>"
            ]
          },
          "metadata": {
            "tags": []
          }
        }
      ]
    },
    {
      "cell_type": "code",
      "metadata": {
        "id": "n3382yaJoDbM",
        "colab_type": "code",
        "colab": {}
      },
      "source": [
        ""
      ],
      "execution_count": 0,
      "outputs": []
    }
  ]
}