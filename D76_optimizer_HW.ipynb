{
  "nbformat": 4,
  "nbformat_minor": 0,
  "metadata": {
    "colab": {
      "name": "D76-optimizer_HW",
      "provenance": [],
      "include_colab_link": true
    },
    "kernelspec": {
      "name": "python3",
      "display_name": "Python 3"
    },
    "accelerator": "GPU"
  },
  "cells": [
    {
      "cell_type": "markdown",
      "metadata": {
        "id": "view-in-github",
        "colab_type": "text"
      },
      "source": [
        "<a href=\"https://colab.research.google.com/github/sam19980822/3rd-ML100Days/blob/master/D76_optimizer_HW.ipynb\" target=\"_parent\"><img src=\"https://colab.research.google.com/assets/colab-badge.svg\" alt=\"Open In Colab\"/></a>"
      ]
    },
    {
      "cell_type": "markdown",
      "metadata": {
        "id": "aA6en0uZ1vxU",
        "colab_type": "text"
      },
      "source": [
        "# 作業重點:\n",
        "\n",
        "(1)以, Adam, 為例, 調整 batch_size, epoch , 觀察accurancy, loss 的變化\n",
        "\n",
        "(2)以同一模型, 分別驗證 SGD, Adam, Rmsprop 的 accurancy"
      ]
    },
    {
      "cell_type": "markdown",
      "metadata": {
        "id": "yNnid1Cc10fd",
        "colab_type": "text"
      },
      "source": [
        "# 作業目標:\n",
        "    \n",
        "    取得各種優化器的運算結果"
      ]
    },
    {
      "cell_type": "code",
      "metadata": {
        "id": "Yp2r8pu91was",
        "colab_type": "code",
        "colab": {}
      },
      "source": [
        "from __future__ import print_function\n",
        "import keras\n",
        "from keras.datasets import cifar10\n",
        "from keras.preprocessing.image import ImageDataGenerator\n",
        "from keras.models import Sequential\n",
        "from keras.layers import Dense, Dropout, Activation, Flatten\n",
        "from keras.layers import Conv2D, MaxPooling2D\n",
        "import os\n",
        "from keras import optimizers\n"
      ],
      "execution_count": 0,
      "outputs": []
    },
    {
      "cell_type": "code",
      "metadata": {
        "id": "GSKcgJyY12dU",
        "colab_type": "code",
        "colab": {}
      },
      "source": [
        "#Blas GEMM launch failed , 避免動態分配GPU / CPU, 出現問題\n",
        "import tensorflow as tf\n",
        "# gpu_options = tf.GPUOptions(per_process_gpu_memory_fraction=0.333) 這行沒用，要改成以下兩行才可跑\n",
        "gpu_options = tf.compat.v1.GPUOptions(per_process_gpu_memory_fraction=0.333)\n",
        "sess = tf.compat.v1.Session(config=tf.compat.v1.ConfigProto(gpu_options=gpu_options))\n"
      ],
      "execution_count": 0,
      "outputs": []
    },
    {
      "cell_type": "code",
      "metadata": {
        "id": "l92jq5Pl2EhG",
        "colab_type": "code",
        "colab": {}
      },
      "source": [
        "\n",
        "'''\n",
        "   宣告並設定\n",
        "   batch_size：對總的樣本數進行分組，每組包含的樣本數量\n",
        "   epochs ：訓練次數\n",
        "   \n",
        "''' \n",
        "\n",
        "batch_size = 32\n",
        "num_classes = 10\n",
        "epochs = 20\n",
        "data_augmentation = True\n",
        "num_predictions = 20\n",
        "save_dir = os.path.join(os.getcwd(), 'saved_models')\n",
        "model_name = 'keras_cifar10_trained_model.h5'\n"
      ],
      "execution_count": 0,
      "outputs": []
    },
    {
      "cell_type": "code",
      "metadata": {
        "id": "YEvm2nje2HOF",
        "colab_type": "code",
        "outputId": "c4694458-195e-44a3-b248-4a4220fd06f1",
        "colab": {
          "base_uri": "https://localhost:8080/",
          "height": 70
        }
      },
      "source": [
        "\n",
        "# The data, split between train and test sets:\n",
        "(x_train, y_train), (x_test, y_test) = cifar10.load_data()\n",
        "print('x_train shape:', x_train.shape)\n",
        "print(x_train.shape[0], 'train samples')\n",
        "print(x_test.shape[0], 'test samples')\n",
        "\n",
        "# Convert class vectors to binary class matrices.\n",
        "y_train = keras.utils.to_categorical(y_train, num_classes)\n",
        "y_test = keras.utils.to_categorical(y_test, num_classes)"
      ],
      "execution_count": 0,
      "outputs": [
        {
          "output_type": "stream",
          "text": [
            "x_train shape: (50000, 32, 32, 3)\n",
            "50000 train samples\n",
            "10000 test samples\n"
          ],
          "name": "stdout"
        }
      ]
    },
    {
      "cell_type": "code",
      "metadata": {
        "id": "e3kyCuN12Ml2",
        "colab_type": "code",
        "colab": {}
      },
      "source": [
        "#    第一步：選擇模型, 順序模型是多個網絡層的線性堆疊\n",
        " \n",
        "model = Sequential()\n",
        "\n",
        "#   第二步：構建網絡層\n",
        "model.add(Conv2D(32, (3, 3), padding='same',\n",
        "                 input_shape=x_train.shape[1:]))\n",
        "model.add(Activation('relu'))\n",
        "model.add(Conv2D(32, (3, 3)))\n",
        "model.add(Activation('relu'))\n",
        "model.add(MaxPooling2D(pool_size=(2, 2)))\n",
        "model.add(Dropout(0.25))\n",
        "\n",
        "model.add(Conv2D(64, (3, 3), padding='same'))\n",
        "model.add(Activation('relu'))\n",
        "model.add(Conv2D(64, (3, 3)))\n",
        "model.add(Activation('relu'))\n",
        "model.add(MaxPooling2D(pool_size=(2, 2)))\n",
        "model.add(Dropout(0.25))\n",
        "\n",
        "model.add(Flatten())\n",
        "model.add(Dense(512))\n",
        "model.add(Activation('relu'))\n",
        "model.add(Dropout(0.5))\n",
        "\n",
        "model.add(Dense( 10)) # 輸出結果是10個類別，所以維度是10   \n",
        "model.add(Activation('softmax')) # 最後一層用softmax作為激活函數"
      ],
      "execution_count": 0,
      "outputs": []
    },
    {
      "cell_type": "code",
      "metadata": {
        "id": "LBcqq57N2QIJ",
        "colab_type": "code",
        "outputId": "e0793098-25f5-4f3b-995d-0c417eb3d3bd",
        "colab": {
          "base_uri": "https://localhost:8080/",
          "height": 34
        }
      },
      "source": [
        "# 模型建立完成後，統計參數總量\n",
        "print(\"Total Parameters：%d\" % model.count_params())"
      ],
      "execution_count": 0,
      "outputs": [
        {
          "output_type": "stream",
          "text": [
            "Total Parameters：1250858\n"
          ],
          "name": "stdout"
        }
      ]
    },
    {
      "cell_type": "code",
      "metadata": {
        "id": "YgzKBgpp2SxS",
        "colab_type": "code",
        "outputId": "35f3ca24-3f4d-49c3-fe5d-071e9d0dcc02",
        "colab": {
          "base_uri": "https://localhost:8080/",
          "height": 791
        }
      },
      "source": [
        "# 輸出模型摘要資訊\n",
        "model.summary()"
      ],
      "execution_count": 0,
      "outputs": [
        {
          "output_type": "stream",
          "text": [
            "Model: \"sequential_1\"\n",
            "_________________________________________________________________\n",
            "Layer (type)                 Output Shape              Param #   \n",
            "=================================================================\n",
            "conv2d_1 (Conv2D)            (None, 32, 32, 32)        896       \n",
            "_________________________________________________________________\n",
            "activation_1 (Activation)    (None, 32, 32, 32)        0         \n",
            "_________________________________________________________________\n",
            "conv2d_2 (Conv2D)            (None, 30, 30, 32)        9248      \n",
            "_________________________________________________________________\n",
            "activation_2 (Activation)    (None, 30, 30, 32)        0         \n",
            "_________________________________________________________________\n",
            "max_pooling2d_1 (MaxPooling2 (None, 15, 15, 32)        0         \n",
            "_________________________________________________________________\n",
            "dropout_1 (Dropout)          (None, 15, 15, 32)        0         \n",
            "_________________________________________________________________\n",
            "conv2d_3 (Conv2D)            (None, 15, 15, 64)        18496     \n",
            "_________________________________________________________________\n",
            "activation_3 (Activation)    (None, 15, 15, 64)        0         \n",
            "_________________________________________________________________\n",
            "conv2d_4 (Conv2D)            (None, 13, 13, 64)        36928     \n",
            "_________________________________________________________________\n",
            "activation_4 (Activation)    (None, 13, 13, 64)        0         \n",
            "_________________________________________________________________\n",
            "max_pooling2d_2 (MaxPooling2 (None, 6, 6, 64)          0         \n",
            "_________________________________________________________________\n",
            "dropout_2 (Dropout)          (None, 6, 6, 64)          0         \n",
            "_________________________________________________________________\n",
            "flatten_1 (Flatten)          (None, 2304)              0         \n",
            "_________________________________________________________________\n",
            "dense_1 (Dense)              (None, 512)               1180160   \n",
            "_________________________________________________________________\n",
            "activation_5 (Activation)    (None, 512)               0         \n",
            "_________________________________________________________________\n",
            "dropout_3 (Dropout)          (None, 512)               0         \n",
            "_________________________________________________________________\n",
            "dense_2 (Dense)              (None, 10)                5130      \n",
            "_________________________________________________________________\n",
            "activation_6 (Activation)    (None, 10)                0         \n",
            "=================================================================\n",
            "Total params: 1,250,858\n",
            "Trainable params: 1,250,858\n",
            "Non-trainable params: 0\n",
            "_________________________________________________________________\n"
          ],
          "name": "stdout"
        }
      ]
    },
    {
      "cell_type": "markdown",
      "metadata": {
        "id": "2HrqDSdC5GEK",
        "colab_type": "text"
      },
      "source": [
        "## 使用SGD演算法\n",
        "\n",
        "SGD(隨機梯度下降) - Arguments  \n",
        "lr: float >= 0. Learning rate.  \n",
        "momentum: float >= 0. Parameter that accelerates SGD in   the relevant direction and dampens oscillations.  \n",
        "decay: float >= 0. Learning rate decay over each update.  \n",
        "nesterov: boolean. Whether to apply Nesterov momentum.  \n"
      ]
    },
    {
      "cell_type": "code",
      "metadata": {
        "id": "rYVHImsR2Ubv",
        "colab_type": "code",
        "colab": {}
      },
      "source": [
        "#第三步編譯\n",
        "opt = optimizers.SGD(lr=0.01, decay=1e-6, momentum=0.9, nesterov=True)\n",
        "model.compile(optimizer = opt, loss = 'categorical_crossentropy', metrics = ['accuracy'])\n"
      ],
      "execution_count": 0,
      "outputs": []
    },
    {
      "cell_type": "code",
      "metadata": {
        "id": "QwrWhTxR2YOg",
        "colab_type": "code",
        "colab": {}
      },
      "source": [
        "# 資料正規化\n",
        "x_train = x_train.astype('float32')\n",
        "x_test = x_test.astype('float32')\n",
        "x_train /= 255\n",
        "x_test /= 255\n"
      ],
      "execution_count": 0,
      "outputs": []
    },
    {
      "cell_type": "code",
      "metadata": {
        "id": "IMnAvMw22cAj",
        "colab_type": "code",
        "outputId": "371c969b-458e-4d09-c55f-46915f1003fe",
        "colab": {
          "base_uri": "https://localhost:8080/",
          "height": 1000
        }
      },
      "source": [
        "# 是否要做資料處理\n",
        "if not data_augmentation:\n",
        "    print('Not using data augmentation.')\n",
        "    history=model.fit(x_train, y_train,\n",
        "              batch_size=batch_size,\n",
        "              epochs=epochs,\n",
        "              validation_data=(x_test, y_test),\n",
        "              shuffle=True)\n",
        "else:\n",
        "    print('Using real-time data augmentation.')\n",
        "    print('')\n",
        "        \n",
        "    # This will do preprocessing and realtime data augmentation:\n",
        "    datagen = ImageDataGenerator(\n",
        "        featurewise_center=False,  # set input mean to 0 over the dataset\n",
        "        samplewise_center=False,  # set each sample mean to 0\n",
        "        featurewise_std_normalization=False,  # divide inputs by std of the dataset\n",
        "        samplewise_std_normalization=False,  # divide each input by its std\n",
        "        zca_whitening=False,  # apply ZCA whitening\n",
        "        zca_epsilon=1e-06,  # epsilon for ZCA whitening\n",
        "        rotation_range=0,  # randomly rotate images in the range (degrees, 0 to 180)\n",
        "        # randomly shift images horizontally (fraction of total width)\n",
        "        width_shift_range=0.1,\n",
        "        # randomly shift images vertically (fraction of total height)\n",
        "        height_shift_range=0.1,\n",
        "        shear_range=0.,  # set range for random shear\n",
        "        zoom_range=0.,  # set range for random zoom\n",
        "        channel_shift_range=0.,  # set range for random channel shifts\n",
        "        # set mode for filling points outside the input boundaries\n",
        "        fill_mode='nearest',\n",
        "        cval=0.,  # value used for fill_mode = \"constant\"\n",
        "        horizontal_flip=True,  # randomly flip images\n",
        "        vertical_flip=False,  # randomly flip images\n",
        "        # set rescaling factor (applied before any other transformation)\n",
        "        rescale=None,\n",
        "        # set function that will be applied on each input\n",
        "        preprocessing_function=None,\n",
        "        # image data format, either \"channels_first\" or \"channels_last\"\n",
        "        data_format=None,\n",
        "        # fraction of images reserved for validation (strictly between 0 and 1)\n",
        "        validation_split=0.0)\n",
        "\n",
        "    # Compute quantities required for feature-wise normalization\n",
        "    # (std, mean, and principal components if ZCA whitening is applied).\n",
        "    datagen.fit(x_train)\n",
        "    history=model.fit(x_train, y_train,\n",
        "              batch_size=batch_size,\n",
        "              epochs=epochs,\n",
        "              validation_data=(x_test, y_test),\n",
        "              shuffle=True)   \n",
        "\n",
        "'''\n",
        "   第四步：訓練\n",
        "   .fit的一些參數\n",
        "   batch_size：對總的樣本數進行分組，每組包含的樣本數量\n",
        "   epochs ：訓練次數\n",
        "   shuffle：是否把數據隨機打亂之後再進行訓練\n",
        "   validation_split：拿出百分之多少用來做交叉驗證\n",
        "   verbose：屏顯模式 - 0：不輸出, 1：輸出進度, 2：輸出每次的訓練結果\n",
        "''' \n",
        "    "
      ],
      "execution_count": 0,
      "outputs": [
        {
          "output_type": "stream",
          "text": [
            "Using real-time data augmentation.\n",
            "\n",
            "WARNING:tensorflow:From /usr/local/lib/python3.6/dist-packages/tensorflow_core/python/ops/math_grad.py:1424: where (from tensorflow.python.ops.array_ops) is deprecated and will be removed in a future version.\n",
            "Instructions for updating:\n",
            "Use tf.where in 2.0, which has the same broadcast rule as np.where\n",
            "WARNING:tensorflow:From /usr/local/lib/python3.6/dist-packages/keras/backend/tensorflow_backend.py:1033: The name tf.assign_add is deprecated. Please use tf.compat.v1.assign_add instead.\n",
            "\n",
            "WARNING:tensorflow:From /usr/local/lib/python3.6/dist-packages/keras/backend/tensorflow_backend.py:1020: The name tf.assign is deprecated. Please use tf.compat.v1.assign instead.\n",
            "\n",
            "WARNING:tensorflow:From /usr/local/lib/python3.6/dist-packages/keras/backend/tensorflow_backend.py:3005: The name tf.Session is deprecated. Please use tf.compat.v1.Session instead.\n",
            "\n",
            "Train on 50000 samples, validate on 10000 samples\n",
            "Epoch 1/20\n",
            "WARNING:tensorflow:From /usr/local/lib/python3.6/dist-packages/keras/backend/tensorflow_backend.py:190: The name tf.get_default_session is deprecated. Please use tf.compat.v1.get_default_session instead.\n",
            "\n",
            "WARNING:tensorflow:From /usr/local/lib/python3.6/dist-packages/keras/backend/tensorflow_backend.py:197: The name tf.ConfigProto is deprecated. Please use tf.compat.v1.ConfigProto instead.\n",
            "\n",
            "WARNING:tensorflow:From /usr/local/lib/python3.6/dist-packages/keras/backend/tensorflow_backend.py:207: The name tf.global_variables is deprecated. Please use tf.compat.v1.global_variables instead.\n",
            "\n",
            "WARNING:tensorflow:From /usr/local/lib/python3.6/dist-packages/keras/backend/tensorflow_backend.py:216: The name tf.is_variable_initialized is deprecated. Please use tf.compat.v1.is_variable_initialized instead.\n",
            "\n",
            "WARNING:tensorflow:From /usr/local/lib/python3.6/dist-packages/keras/backend/tensorflow_backend.py:223: The name tf.variables_initializer is deprecated. Please use tf.compat.v1.variables_initializer instead.\n",
            "\n",
            "50000/50000 [==============================] - 15s 303us/step - loss: 1.7312 - acc: 0.3626 - val_loss: 1.3834 - val_acc: 0.4922\n",
            "Epoch 2/20\n",
            "50000/50000 [==============================] - 10s 190us/step - loss: 1.3100 - acc: 0.5293 - val_loss: 1.0772 - val_acc: 0.6163\n",
            "Epoch 3/20\n",
            "50000/50000 [==============================] - 9s 184us/step - loss: 1.1318 - acc: 0.5998 - val_loss: 0.9663 - val_acc: 0.6557\n",
            "Epoch 4/20\n",
            "50000/50000 [==============================] - 9s 181us/step - loss: 1.0152 - acc: 0.6435 - val_loss: 0.8968 - val_acc: 0.6831\n",
            "Epoch 5/20\n",
            "50000/50000 [==============================] - 9s 185us/step - loss: 0.9359 - acc: 0.6716 - val_loss: 0.8581 - val_acc: 0.6943\n",
            "Epoch 6/20\n",
            "50000/50000 [==============================] - 9s 181us/step - loss: 0.8799 - acc: 0.6903 - val_loss: 0.8142 - val_acc: 0.7193\n",
            "Epoch 7/20\n",
            "50000/50000 [==============================] - 9s 184us/step - loss: 0.8336 - acc: 0.7072 - val_loss: 0.7708 - val_acc: 0.7318\n",
            "Epoch 8/20\n",
            "50000/50000 [==============================] - 9s 180us/step - loss: 0.8007 - acc: 0.7190 - val_loss: 0.7594 - val_acc: 0.7349\n",
            "Epoch 9/20\n",
            "50000/50000 [==============================] - 9s 182us/step - loss: 0.7780 - acc: 0.7271 - val_loss: 0.7578 - val_acc: 0.7376\n",
            "Epoch 10/20\n",
            "50000/50000 [==============================] - 9s 187us/step - loss: 0.7529 - acc: 0.7357 - val_loss: 0.7393 - val_acc: 0.7415\n",
            "Epoch 11/20\n",
            "50000/50000 [==============================] - 9s 180us/step - loss: 0.7273 - acc: 0.7448 - val_loss: 0.7286 - val_acc: 0.7475\n",
            "Epoch 12/20\n",
            "50000/50000 [==============================] - 9s 181us/step - loss: 0.7103 - acc: 0.7513 - val_loss: 0.6981 - val_acc: 0.7617\n",
            "Epoch 13/20\n",
            "50000/50000 [==============================] - 9s 181us/step - loss: 0.7013 - acc: 0.7551 - val_loss: 0.7155 - val_acc: 0.7561\n",
            "Epoch 14/20\n",
            "50000/50000 [==============================] - 9s 182us/step - loss: 0.6838 - acc: 0.7612 - val_loss: 0.7349 - val_acc: 0.7543\n",
            "Epoch 15/20\n",
            "50000/50000 [==============================] - 9s 183us/step - loss: 0.6657 - acc: 0.7683 - val_loss: 0.7094 - val_acc: 0.7621\n",
            "Epoch 16/20\n",
            "50000/50000 [==============================] - 9s 183us/step - loss: 0.6715 - acc: 0.7658 - val_loss: 0.6975 - val_acc: 0.7665\n",
            "Epoch 17/20\n",
            "50000/50000 [==============================] - 9s 181us/step - loss: 0.6520 - acc: 0.7733 - val_loss: 0.7837 - val_acc: 0.7259\n",
            "Epoch 18/20\n",
            "50000/50000 [==============================] - 9s 183us/step - loss: 0.6495 - acc: 0.7746 - val_loss: 0.6971 - val_acc: 0.7692\n",
            "Epoch 19/20\n",
            "50000/50000 [==============================] - 9s 182us/step - loss: 0.6450 - acc: 0.7752 - val_loss: 0.7122 - val_acc: 0.7580\n",
            "Epoch 20/20\n",
            "50000/50000 [==============================] - 9s 182us/step - loss: 0.6332 - acc: 0.7804 - val_loss: 0.6794 - val_acc: 0.7686\n"
          ],
          "name": "stdout"
        },
        {
          "output_type": "execute_result",
          "data": {
            "text/plain": [
              "'\\n   第四步：訓練\\n   .fit的一些參數\\n   batch_size：對總的樣本數進行分組，每組包含的樣本數量\\n   epochs ：訓練次數\\n   shuffle：是否把數據隨機打亂之後再進行訓練\\n   validation_split：拿出百分之多少用來做交叉驗證\\n   verbose：屏顯模式 - 0：不輸出, 1：輸出進度, 2：輸出每次的訓練結果\\n'"
            ]
          },
          "metadata": {
            "tags": []
          },
          "execution_count": 11
        }
      ]
    },
    {
      "cell_type": "code",
      "metadata": {
        "id": "Zk4HNaVX2eSM",
        "colab_type": "code",
        "colab": {}
      },
      "source": [
        "# Save model and weights\n",
        "if not os.path.isdir(save_dir):\n",
        "    os.makedirs(save_dir)\n",
        "model_path = os.path.join(save_dir, model_name)\n",
        "model.save(model_path)\n",
        "print('Saved trained model at %s ' % model_path)\n",
        "\n",
        "# Score trained model.\n",
        "scores = model.evaluate(x_test, y_test, verbose=1)\n",
        "print('Test loss:', scores[0])\n",
        "print('Test accuracy:', scores[1])"
      ],
      "execution_count": 0,
      "outputs": []
    },
    {
      "cell_type": "code",
      "metadata": {
        "id": "vXDH_eql3DGS",
        "colab_type": "code",
        "outputId": "7300cd49-55ca-462d-edb6-fafb9677a7cf",
        "colab": {
          "base_uri": "https://localhost:8080/",
          "height": 70
        }
      },
      "source": [
        "#    第六步：輸出\n",
        "import numpy \n",
        "\n",
        "print ( \" test set \" )\n",
        "scores = model.evaluate(x_test,y_test,batch_size=200,verbose= 0)\n",
        "print ( \"\" )\n",
        "#print ( \" The test loss is %f \" % scores)\n",
        "print ( \" The test loss is %f \", scores)\n",
        "\n",
        "\n",
        "result = model.predict(x_test,batch_size=200,verbose= 0)\n",
        "\n",
        "result_max = numpy.argmax(result, axis = 1 )\n",
        "test_max = numpy.argmax(y_test, axis = 1 )\n",
        "\n",
        "result_bool = numpy.equal(result_max, test_max)\n",
        "true_num = numpy.sum(result_bool)\n"
      ],
      "execution_count": 0,
      "outputs": [
        {
          "output_type": "stream",
          "text": [
            " test set \n",
            "\n",
            " The test loss is %f  [0.6793714171648025, 0.7685999977588653]\n"
          ],
          "name": "stdout"
        }
      ]
    },
    {
      "cell_type": "code",
      "metadata": {
        "id": "3QBx-3nz3Hxa",
        "colab_type": "code",
        "outputId": "bb6d337b-1ac8-4248-d542-73e3454a67ad",
        "colab": {
          "base_uri": "https://localhost:8080/",
          "height": 573
        }
      },
      "source": [
        "import matplotlib.pyplot as plt\n",
        "%matplotlib inline\n",
        "\n",
        "# Plot training & validation accuracy values\n",
        "plt.plot(history.history['acc'])\n",
        "plt.plot(history.history['val_acc'])\n",
        "plt.title('Model accuracy')\n",
        "plt.ylabel('Accuracy')\n",
        "plt.xlabel('Epoch')\n",
        "plt.legend(['Train', 'Valiidation'], loc='upper left')\n",
        "plt.show()\n",
        "\n",
        "# Plot training & validation loss values\n",
        "plt.plot(history.history['loss'])\n",
        "plt.plot(history.history['val_loss'])\n",
        "plt.title('Model loss')\n",
        "plt.ylabel('Loss')\n",
        "plt.xlabel('Epoch')\n",
        "plt.legend(['Train', 'Valiidation'], loc='upper left')\n",
        "plt.show()"
      ],
      "execution_count": 0,
      "outputs": [
        {
          "output_type": "display_data",
          "data": {
            "image/png": "[encoded data removed]",
            "text/plain": [
              "<Figure size 432x288 with 1 Axes>"
            ]
          },
          "metadata": {
            "tags": []
          }
        },
        {
          "output_type": "display_data",
          "data": {
            "image/png": "[encoded data removed]",
            "text/plain": [
              "<Figure size 432x288 with 1 Axes>"
            ]
          },
          "metadata": {
            "tags": []
          }
        }
      ]
    },
    {
      "cell_type": "markdown",
      "metadata": {
        "id": "dlVTeGYkIJFx",
        "colab_type": "text"
      },
      "source": [
        "## 使用RMSprop演算法\n",
        "\n",
        "RMSprop- Arguments\n",
        "lr: float >= 0. Learning rate.  \n",
        "rho: float >= 0.  \n",
        "epsilon: float >= 0. Fuzz factor. If None, defaults to K.epsilon().  \n",
        "decay: float >= 0. Learning rate decay over each update.  \n"
      ]
    },
    {
      "cell_type": "code",
      "metadata": {
        "id": "PL_tcSdx5iwn",
        "colab_type": "code",
        "outputId": "995b7c7e-d7b8-4fc0-c3a9-605e170d2296",
        "colab": {
          "base_uri": "https://localhost:8080/",
          "height": 794
        }
      },
      "source": [
        "opt = optimizers.RMSprop(lr=0.001, epsilon=None, decay=0.0) \n",
        "model.compile(optimizer = opt, loss = 'categorical_crossentropy', metrics = ['accuracy'])\n",
        "\n",
        "\n",
        "# 資料正規化\n",
        "x_train = x_train.astype('float32')\n",
        "x_test = x_test.astype('float32')\n",
        "x_train /= 255\n",
        "x_test /= 255\n",
        "\n",
        "\n",
        "if not data_augmentation:\n",
        "    print('Not using data augmentation.')\n",
        "    history=model.fit(x_train, y_train,\n",
        "              batch_size=batch_size,\n",
        "              epochs=epochs,\n",
        "              validation_data=(x_test, y_test),\n",
        "              shuffle=True)\n",
        "else:\n",
        "    print('Using real-time data augmentation.')\n",
        "    print('')\n",
        "        \n",
        "    # This will do preprocessing and realtime data augmentation:\n",
        "    datagen = ImageDataGenerator(\n",
        "        featurewise_center=False,  # set input mean to 0 over the dataset\n",
        "        samplewise_center=False,  # set each sample mean to 0\n",
        "        featurewise_std_normalization=False,  # divide inputs by std of the dataset\n",
        "        samplewise_std_normalization=False,  # divide each input by its std\n",
        "        zca_whitening=False,  # apply ZCA whitening\n",
        "        zca_epsilon=1e-06,  # epsilon for ZCA whitening\n",
        "        rotation_range=0,  # randomly rotate images in the range (degrees, 0 to 180)\n",
        "        # randomly shift images horizontally (fraction of total width)\n",
        "        width_shift_range=0.1,\n",
        "        # randomly shift images vertically (fraction of total height)\n",
        "        height_shift_range=0.1,\n",
        "        shear_range=0.,  # set range for random shear\n",
        "        zoom_range=0.,  # set range for random zoom\n",
        "        channel_shift_range=0.,  # set range for random channel shifts\n",
        "        # set mode for filling points outside the input boundaries\n",
        "        fill_mode='nearest',\n",
        "        cval=0.,  # value used for fill_mode = \"constant\"\n",
        "        horizontal_flip=True,  # randomly flip images\n",
        "        vertical_flip=False,  # randomly flip images\n",
        "        # set rescaling factor (applied before any other transformation)\n",
        "        rescale=None,\n",
        "        # set function that will be applied on each input\n",
        "        preprocessing_function=None,\n",
        "        # image data format, either \"channels_first\" or \"channels_last\"\n",
        "        data_format=None,\n",
        "        # fraction of images reserved for validation (strictly between 0 and 1)\n",
        "        validation_split=0.0)\n",
        "\n",
        "    # Compute quantities required for feature-wise normalization\n",
        "    # (std, mean, and principal components if ZCA whitening is applied).\n",
        "    datagen.fit(x_train)\n",
        "    history=model.fit(x_train, y_train,\n",
        "              batch_size=batch_size,\n",
        "              epochs=epochs,\n",
        "              validation_data=(x_test, y_test),\n",
        "              shuffle=True)"
      ],
      "execution_count": 0,
      "outputs": [
        {
          "output_type": "stream",
          "text": [
            "Using real-time data augmentation.\n",
            "\n",
            "Train on 50000 samples, validate on 10000 samples\n",
            "Epoch 1/20\n",
            "50000/50000 [==============================] - 10s 207us/step - loss: 1.5575 - acc: 0.4362 - val_loss: 1.1994 - val_acc: 0.5759\n",
            "Epoch 2/20\n",
            "50000/50000 [==============================] - 10s 194us/step - loss: 1.1514 - acc: 0.5966 - val_loss: 1.0483 - val_acc: 0.6243\n",
            "Epoch 3/20\n",
            "50000/50000 [==============================] - 10s 197us/step - loss: 1.0243 - acc: 0.6485 - val_loss: 0.8939 - val_acc: 0.6889\n",
            "Epoch 4/20\n",
            "50000/50000 [==============================] - 10s 194us/step - loss: 0.9779 - acc: 0.6652 - val_loss: 0.9496 - val_acc: 0.6810\n",
            "Epoch 5/20\n",
            "50000/50000 [==============================] - 10s 194us/step - loss: 0.9680 - acc: 0.6728 - val_loss: 0.9067 - val_acc: 0.6862\n",
            "Epoch 6/20\n",
            "50000/50000 [==============================] - 10s 196us/step - loss: 0.9795 - acc: 0.6746 - val_loss: 0.8932 - val_acc: 0.6982\n",
            "Epoch 7/20\n",
            "50000/50000 [==============================] - 10s 197us/step - loss: 1.0134 - acc: 0.6670 - val_loss: 0.9343 - val_acc: 0.6946\n",
            "Epoch 8/20\n",
            "50000/50000 [==============================] - 10s 197us/step - loss: 1.0369 - acc: 0.6648 - val_loss: 1.0014 - val_acc: 0.6848\n",
            "Epoch 9/20\n",
            "50000/50000 [==============================] - 10s 196us/step - loss: 1.0692 - acc: 0.6571 - val_loss: 1.1489 - val_acc: 0.6700\n",
            "Epoch 10/20\n",
            "50000/50000 [==============================] - 10s 196us/step - loss: 1.0936 - acc: 0.6495 - val_loss: 1.0966 - val_acc: 0.6343\n",
            "Epoch 11/20\n",
            "50000/50000 [==============================] - 10s 198us/step - loss: 1.1301 - acc: 0.6417 - val_loss: 1.1415 - val_acc: 0.6299\n",
            "Epoch 12/20\n",
            "50000/50000 [==============================] - 10s 195us/step - loss: 1.1942 - acc: 0.6234 - val_loss: 1.0917 - val_acc: 0.6651\n",
            "Epoch 13/20\n",
            "50000/50000 [==============================] - 10s 194us/step - loss: 1.2425 - acc: 0.6075 - val_loss: 1.1739 - val_acc: 0.6137\n",
            "Epoch 14/20\n",
            "50000/50000 [==============================] - 10s 196us/step - loss: 1.2869 - acc: 0.5959 - val_loss: 1.0271 - val_acc: 0.6660\n",
            "Epoch 15/20\n",
            "50000/50000 [==============================] - 10s 197us/step - loss: 1.3535 - acc: 0.5751 - val_loss: 1.8208 - val_acc: 0.5168\n",
            "Epoch 16/20\n",
            "50000/50000 [==============================] - 10s 195us/step - loss: 1.4201 - acc: 0.5569 - val_loss: 1.3462 - val_acc: 0.5732\n",
            "Epoch 17/20\n",
            "50000/50000 [==============================] - 10s 199us/step - loss: 1.4802 - acc: 0.5325 - val_loss: 1.3142 - val_acc: 0.5509\n",
            "Epoch 18/20\n",
            "50000/50000 [==============================] - 10s 198us/step - loss: 1.4875 - acc: 0.5304 - val_loss: 1.2690 - val_acc: 0.5579\n",
            "Epoch 19/20\n",
            "50000/50000 [==============================] - 10s 198us/step - loss: 1.4942 - acc: 0.5242 - val_loss: 1.3958 - val_acc: 0.5869\n",
            "Epoch 20/20\n",
            "50000/50000 [==============================] - 10s 203us/step - loss: 1.4993 - acc: 0.5210 - val_loss: 1.4443 - val_acc: 0.5181\n"
          ],
          "name": "stdout"
        }
      ]
    },
    {
      "cell_type": "markdown",
      "metadata": {
        "id": "gZmdNG7sIrKR",
        "colab_type": "text"
      },
      "source": [
        "## 使用Adagrad演算法\n"
      ]
    },
    {
      "cell_type": "code",
      "metadata": {
        "id": "-KXO7Q5cHx69",
        "colab_type": "code",
        "outputId": "6841a40b-62ee-4774-e2e9-77aefc78fac7",
        "colab": {
          "base_uri": "https://localhost:8080/",
          "height": 794
        }
      },
      "source": [
        "opt = optimizers. Adagrad(lr=0.01, epsilon=None, decay=0.0) \n",
        "model.compile(loss='mean_squared_error', optimizer=opt,metrics = ['accuracy']) \n",
        "\n",
        "# 資料正規化\n",
        "x_train = x_train.astype('float32')\n",
        "x_test = x_test.astype('float32')\n",
        "x_train /= 255\n",
        "x_test /= 255\n",
        "\n",
        "\n",
        "if not data_augmentation:\n",
        "    print('Not using data augmentation.')\n",
        "    history=model.fit(x_train, y_train,\n",
        "              batch_size=batch_size,\n",
        "              epochs=epochs,\n",
        "              validation_data=(x_test, y_test),\n",
        "              shuffle=True)\n",
        "else:\n",
        "    print('Using real-time data augmentation.')\n",
        "    print('')\n",
        "        \n",
        "    # This will do preprocessing and realtime data augmentation:\n",
        "    datagen = ImageDataGenerator(\n",
        "        featurewise_center=False,  # set input mean to 0 over the dataset\n",
        "        samplewise_center=False,  # set each sample mean to 0\n",
        "        featurewise_std_normalization=False,  # divide inputs by std of the dataset\n",
        "        samplewise_std_normalization=False,  # divide each input by its std\n",
        "        zca_whitening=False,  # apply ZCA whitening\n",
        "        zca_epsilon=1e-06,  # epsilon for ZCA whitening\n",
        "        rotation_range=0,  # randomly rotate images in the range (degrees, 0 to 180)\n",
        "        # randomly shift images horizontally (fraction of total width)\n",
        "        width_shift_range=0.1,\n",
        "        # randomly shift images vertically (fraction of total height)\n",
        "        height_shift_range=0.1,\n",
        "        shear_range=0.,  # set range for random shear\n",
        "        zoom_range=0.,  # set range for random zoom\n",
        "        channel_shift_range=0.,  # set range for random channel shifts\n",
        "        # set mode for filling points outside the input boundaries\n",
        "        fill_mode='nearest',\n",
        "        cval=0.,  # value used for fill_mode = \"constant\"\n",
        "        horizontal_flip=True,  # randomly flip images\n",
        "        vertical_flip=False,  # randomly flip images\n",
        "        # set rescaling factor (applied before any other transformation)\n",
        "        rescale=None,\n",
        "        # set function that will be applied on each input\n",
        "        preprocessing_function=None,\n",
        "        # image data format, either \"channels_first\" or \"channels_last\"\n",
        "        data_format=None,\n",
        "        # fraction of images reserved for validation (strictly between 0 and 1)\n",
        "        validation_split=0.0)\n",
        "\n",
        "    # Compute quantities required for feature-wise normalization\n",
        "    # (std, mean, and principal components if ZCA whitening is applied).\n",
        "    datagen.fit(x_train)\n",
        "    history=model.fit(x_train, y_train,\n",
        "              batch_size=batch_size,\n",
        "              epochs=epochs,\n",
        "              validation_data=(x_test, y_test),\n",
        "              shuffle=True)"
      ],
      "execution_count": 0,
      "outputs": [
        {
          "output_type": "stream",
          "text": [
            "Using real-time data augmentation.\n",
            "\n",
            "Train on 50000 samples, validate on 10000 samples\n",
            "Epoch 1/20\n",
            "50000/50000 [==============================] - 10s 200us/step - loss: 0.0857 - acc: 0.2195 - val_loss: 0.0787 - val_acc: 0.3411\n",
            "Epoch 2/20\n",
            "50000/50000 [==============================] - 9s 190us/step - loss: 0.0779 - acc: 0.3511 - val_loss: 0.0740 - val_acc: 0.4021\n",
            "Epoch 3/20\n",
            "50000/50000 [==============================] - 9s 186us/step - loss: 0.0753 - acc: 0.3805 - val_loss: 0.0714 - val_acc: 0.4351\n",
            "Epoch 4/20\n",
            "50000/50000 [==============================] - 10s 193us/step - loss: 0.0732 - acc: 0.4040 - val_loss: 0.0695 - val_acc: 0.4535\n",
            "Epoch 5/20\n",
            "50000/50000 [==============================] - 10s 194us/step - loss: 0.0716 - acc: 0.4227 - val_loss: 0.0681 - val_acc: 0.4661\n",
            "Epoch 6/20\n",
            "50000/50000 [==============================] - 10s 195us/step - loss: 0.0702 - acc: 0.4375 - val_loss: 0.0667 - val_acc: 0.4756\n",
            "Epoch 7/20\n",
            "50000/50000 [==============================] - 9s 189us/step - loss: 0.0692 - acc: 0.4462 - val_loss: 0.0661 - val_acc: 0.4833\n",
            "Epoch 8/20\n",
            "50000/50000 [==============================] - 10s 191us/step - loss: 0.0684 - acc: 0.4551 - val_loss: 0.0646 - val_acc: 0.4953\n",
            "Epoch 9/20\n",
            "50000/50000 [==============================] - 10s 192us/step - loss: 0.0674 - acc: 0.4654 - val_loss: 0.0641 - val_acc: 0.5051\n",
            "Epoch 10/20\n",
            "50000/50000 [==============================] - 10s 198us/step - loss: 0.0671 - acc: 0.4696 - val_loss: 0.0639 - val_acc: 0.5074\n",
            "Epoch 11/20\n",
            "50000/50000 [==============================] - 10s 190us/step - loss: 0.0664 - acc: 0.4756 - val_loss: 0.0631 - val_acc: 0.5095\n",
            "Epoch 12/20\n",
            "50000/50000 [==============================] - 9s 188us/step - loss: 0.0661 - acc: 0.4784 - val_loss: 0.0628 - val_acc: 0.5159\n",
            "Epoch 13/20\n",
            "50000/50000 [==============================] - 9s 186us/step - loss: 0.0657 - acc: 0.4850 - val_loss: 0.0631 - val_acc: 0.5127\n",
            "Epoch 14/20\n",
            "50000/50000 [==============================] - 9s 186us/step - loss: 0.0653 - acc: 0.4872 - val_loss: 0.0624 - val_acc: 0.5186\n",
            "Epoch 15/20\n",
            "50000/50000 [==============================] - 9s 182us/step - loss: 0.0650 - acc: 0.4914 - val_loss: 0.0625 - val_acc: 0.5178\n",
            "Epoch 16/20\n",
            "50000/50000 [==============================] - 9s 189us/step - loss: 0.0648 - acc: 0.4937 - val_loss: 0.0614 - val_acc: 0.5310\n",
            "Epoch 17/20\n",
            "50000/50000 [==============================] - 10s 195us/step - loss: 0.0644 - acc: 0.4947 - val_loss: 0.0617 - val_acc: 0.5271\n",
            "Epoch 18/20\n",
            "50000/50000 [==============================] - 9s 184us/step - loss: 0.0642 - acc: 0.4988 - val_loss: 0.0610 - val_acc: 0.5339\n",
            "Epoch 19/20\n",
            "50000/50000 [==============================] - 9s 182us/step - loss: 0.0640 - acc: 0.5000 - val_loss: 0.0613 - val_acc: 0.5309\n",
            "Epoch 20/20\n",
            "50000/50000 [==============================] - 9s 183us/step - loss: 0.0637 - acc: 0.5032 - val_loss: 0.0611 - val_acc: 0.5334\n"
          ],
          "name": "stdout"
        }
      ]
    },
    {
      "cell_type": "code",
      "metadata": {
        "id": "KRLIwC3YHyXT",
        "colab_type": "code",
        "colab": {}
      },
      "source": [
        ""
      ],
      "execution_count": 0,
      "outputs": []
    },
    {
      "cell_type": "markdown",
      "metadata": {
        "id": "bIe3A7N64Mz2",
        "colab_type": "text"
      },
      "source": [
        "##最佳accuracy\n",
        "SGD 0.78  \n",
        "ADAM 0.8253  \n",
        "RMSprop 0.67\n"
      ]
    }
  ]
}