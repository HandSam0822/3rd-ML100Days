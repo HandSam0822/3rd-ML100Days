{
 "cells": [
  {
   "cell_type": "markdown",
   "metadata": {},
   "source": [
    "## Work\n",
    "1. 請比較使用 l1, l1_l2 及不同比例下的訓練結果"
   ]
  },
  {
   "cell_type": "code",
   "execution_count": 1,
   "metadata": {},
   "outputs": [
    {
     "name": "stderr",
     "output_type": "stream",
     "text": [
      "Using TensorFlow backend.\n"
     ]
    }
   ],
   "source": [
    "import os\n",
    "import keras\n",
    "\n",
    "# Disable GPU\n",
    "os.environ[\"CUDA_VISIBLE_DEVICES\"] = \"\""
   ]
  },
  {
   "cell_type": "code",
   "execution_count": 2,
   "metadata": {},
   "outputs": [],
   "source": [
    "train, test = keras.datasets.cifar10.load_data()"
   ]
  },
  {
   "cell_type": "code",
   "execution_count": 3,
   "metadata": {},
   "outputs": [],
   "source": [
    "## 資料前處理\n",
    "def preproc_x(x, flatten=True):\n",
    "    x = x / 255.\n",
    "    if flatten:\n",
    "        x = x.reshape((len(x), -1))\n",
    "    return x\n",
    "\n",
    "def preproc_y(y, num_classes=10):\n",
    "    if y.shape[-1] == 1:\n",
    "        y = keras.utils.to_categorical(y, num_classes)\n",
    "    return y    "
   ]
  },
  {
   "cell_type": "code",
   "execution_count": 4,
   "metadata": {},
   "outputs": [],
   "source": [
    "x_train, y_train = train\n",
    "x_test, y_test = test\n",
    "\n",
    "# Preproc the inputs\n",
    "x_train = preproc_x(x_train)\n",
    "x_test = preproc_x(x_test)\n",
    "\n",
    "# Preprc the outputs\n",
    "y_train = preproc_y(y_train)\n",
    "y_test = preproc_y(y_test)"
   ]
  },
  {
   "cell_type": "code",
   "execution_count": 8,
   "metadata": {},
   "outputs": [],
   "source": [
    "from keras.regularizers import l1, l2, l1_l2\n",
    "\n",
    "\"\"\"\n",
    "建立神經網路，並加入 L1 或 L2\n",
    "\"\"\"\n",
    "def build_mlp(input_shape, output_units=10, num_neurons=[512, 256, 128], l1_ratio=1e-4):\n",
    "    input_layer = keras.layers.Input(input_shape)\n",
    "    \n",
    "    for i, n_units in enumerate(num_neurons):\n",
    "        if i == 0:\n",
    "            x = keras.layers.Dense(units=n_units, \n",
    "                                   activation=\"relu\", \n",
    "                                   name=\"hidden_layer\"+str(i+1), \n",
    "                                   kernel_regularizer=l1(l1_ratio))(input_layer)\n",
    "        else:\n",
    "            x = keras.layers.Dense(units=n_units, \n",
    "                                   activation=\"relu\", \n",
    "                                   name=\"hidden_layer\"+str(i+1),\n",
    "                                   kernel_regularizer=l1(l1_ratio))(x)\n",
    "    \n",
    "    out = keras.layers.Dense(units=output_units, activation=\"softmax\", name=\"output\")(x)\n",
    "    \n",
    "    model = keras.models.Model(inputs=[input_layer], outputs=[out])\n",
    "    return model"
   ]
  },
  {
   "cell_type": "code",
   "execution_count": 9,
   "metadata": {},
   "outputs": [],
   "source": [
    "## 超參數設定\n",
    "LEARNING_RATE = 1e-3\n",
    "EPOCHS = 50\n",
    "BATCH_SIZE = 256\n",
    "MOMENTUM = 0.95\n",
    "L1_EXP = [1e-2, 1e-4, 1e-8, 1e-12]"
   ]
  },
  {
   "cell_type": "code",
   "execution_count": 10,
   "metadata": {
    "scrolled": true
   },
   "outputs": [
    {
     "name": "stdout",
     "output_type": "stream",
     "text": [
      "Experiment with Regulizer = 0.010000\n",
      "Model: \"model_1\"\n",
      "_________________________________________________________________\n",
      "Layer (type)                 Output Shape              Param #   \n",
      "=================================================================\n",
      "input_1 (InputLayer)         (None, 3072)              0         \n",
      "_________________________________________________________________\n",
      "hidden_layer1 (Dense)        (None, 512)               1573376   \n",
      "_________________________________________________________________\n",
      "hidden_layer2 (Dense)        (None, 256)               131328    \n",
      "_________________________________________________________________\n",
      "hidden_layer3 (Dense)        (None, 128)               32896     \n",
      "_________________________________________________________________\n",
      "output (Dense)               (None, 10)                1290      \n",
      "=================================================================\n",
      "Total params: 1,738,890\n",
      "Trainable params: 1,738,890\n",
      "Non-trainable params: 0\n",
      "_________________________________________________________________\n",
      "Train on 50000 samples, validate on 10000 samples\n",
      "Epoch 1/50\n",
      "50000/50000 [==============================] - 18s 368us/step - loss: 198.6900 - accuracy: 0.2324 - val_loss: 41.1928 - val_accuracy: 0.2723\n",
      "Epoch 2/50\n",
      "50000/50000 [==============================] - 17s 335us/step - loss: 19.1517 - accuracy: 0.1162 - val_loss: 7.3011 - val_accuracy: 0.1000\n",
      "Epoch 3/50\n",
      "50000/50000 [==============================] - 19s 378us/step - loss: 4.1181 - accuracy: 0.0997 - val_loss: 2.6507 - val_accuracy: 0.1000\n",
      "Epoch 4/50\n",
      "50000/50000 [==============================] - 16s 313us/step - loss: 2.4864 - accuracy: 0.0990 - val_loss: 2.4625 - val_accuracy: 0.1000\n",
      "Epoch 5/50\n",
      "50000/50000 [==============================] - 15s 307us/step - loss: 2.4626 - accuracy: 0.0992 - val_loss: 2.4625 - val_accuracy: 0.1000\n",
      "Epoch 6/50\n",
      "50000/50000 [==============================] - 14s 284us/step - loss: 2.4626 - accuracy: 0.0987 - val_loss: 2.4625 - val_accuracy: 0.1000\n",
      "Epoch 7/50\n",
      "50000/50000 [==============================] - 13s 262us/step - loss: 2.4626 - accuracy: 0.1002 - val_loss: 2.4625 - val_accuracy: 0.1000\n",
      "Epoch 8/50\n",
      "50000/50000 [==============================] - 14s 282us/step - loss: 2.4626 - accuracy: 0.0985 - val_loss: 2.4624 - val_accuracy: 0.1000\n",
      "Epoch 9/50\n",
      "50000/50000 [==============================] - 12s 239us/step - loss: 2.4626 - accuracy: 0.0969 - val_loss: 2.4626 - val_accuracy: 0.1000\n",
      "Epoch 10/50\n",
      "50000/50000 [==============================] - 12s 238us/step - loss: 2.4626 - accuracy: 0.0988 - val_loss: 2.4625 - val_accuracy: 0.1000\n",
      "Epoch 11/50\n",
      "50000/50000 [==============================] - 12s 234us/step - loss: 2.4626 - accuracy: 0.0990 - val_loss: 2.4623 - val_accuracy: 0.1000\n",
      "Epoch 12/50\n",
      "50000/50000 [==============================] - 11s 228us/step - loss: 2.4626 - accuracy: 0.0974 - val_loss: 2.4625 - val_accuracy: 0.1000\n",
      "Epoch 13/50\n",
      "50000/50000 [==============================] - 12s 230us/step - loss: 2.4626 - accuracy: 0.0982 - val_loss: 2.4623 - val_accuracy: 0.1000\n",
      "Epoch 14/50\n",
      "50000/50000 [==============================] - 12s 235us/step - loss: 2.4626 - accuracy: 0.0976 - val_loss: 2.4624 - val_accuracy: 0.1000\n",
      "Epoch 15/50\n",
      "50000/50000 [==============================] - 12s 233us/step - loss: 2.4626 - accuracy: 0.0953 - val_loss: 2.4625 - val_accuracy: 0.1000\n",
      "Epoch 16/50\n",
      "50000/50000 [==============================] - 12s 231us/step - loss: 2.4626 - accuracy: 0.0948 - val_loss: 2.4624 - val_accuracy: 0.1000\n",
      "Epoch 17/50\n",
      "50000/50000 [==============================] - 12s 240us/step - loss: 2.4626 - accuracy: 0.0971 - val_loss: 2.4624 - val_accuracy: 0.1000\n",
      "Epoch 18/50\n",
      "50000/50000 [==============================] - 12s 249us/step - loss: 2.4626 - accuracy: 0.0966 - val_loss: 2.4624 - val_accuracy: 0.1000\n",
      "Epoch 19/50\n",
      "50000/50000 [==============================] - 14s 280us/step - loss: 2.4626 - accuracy: 0.0967 - val_loss: 2.4625 - val_accuracy: 0.1000\n",
      "Epoch 20/50\n",
      "50000/50000 [==============================] - 13s 267us/step - loss: 2.4626 - accuracy: 0.0968 - val_loss: 2.4624 - val_accuracy: 0.1000\n",
      "Epoch 21/50\n",
      "50000/50000 [==============================] - 13s 269us/step - loss: 2.4626 - accuracy: 0.0988 - val_loss: 2.4626 - val_accuracy: 0.1000\n",
      "Epoch 22/50\n",
      "50000/50000 [==============================] - 14s 274us/step - loss: 2.4626 - accuracy: 0.0980 - val_loss: 2.4625 - val_accuracy: 0.1000\n",
      "Epoch 23/50\n",
      "50000/50000 [==============================] - 14s 270us/step - loss: 2.4626 - accuracy: 0.0972 - val_loss: 2.4624 - val_accuracy: 0.1000\n",
      "Epoch 24/50\n",
      "50000/50000 [==============================] - 12s 242us/step - loss: 2.4626 - accuracy: 0.0976 - val_loss: 2.4624 - val_accuracy: 0.1000\n",
      "Epoch 25/50\n",
      "50000/50000 [==============================] - 12s 237us/step - loss: 2.4626 - accuracy: 0.0976 - val_loss: 2.4625 - val_accuracy: 0.1000\n",
      "Epoch 26/50\n",
      "50000/50000 [==============================] - 13s 253us/step - loss: 2.4626 - accuracy: 0.0972 - val_loss: 2.4625 - val_accuracy: 0.1000\n",
      "Epoch 27/50\n",
      "50000/50000 [==============================] - 12s 244us/step - loss: 2.4626 - accuracy: 0.0970 - val_loss: 2.4625 - val_accuracy: 0.1000\n",
      "Epoch 28/50\n",
      "50000/50000 [==============================] - 14s 274us/step - loss: 2.4626 - accuracy: 0.0977 - val_loss: 2.4624 - val_accuracy: 0.1000\n",
      "Epoch 29/50\n",
      "50000/50000 [==============================] - 13s 259us/step - loss: 2.4626 - accuracy: 0.0974 - val_loss: 2.4625 - val_accuracy: 0.1000\n",
      "Epoch 30/50\n",
      "50000/50000 [==============================] - 13s 253us/step - loss: 2.4626 - accuracy: 0.0978 - val_loss: 2.4625 - val_accuracy: 0.1000\n",
      "Epoch 31/50\n",
      "50000/50000 [==============================] - 12s 245us/step - loss: 2.4626 - accuracy: 0.0974 - val_loss: 2.4624 - val_accuracy: 0.1000\n",
      "Epoch 32/50\n",
      "50000/50000 [==============================] - 13s 251us/step - loss: 2.4626 - accuracy: 0.0982 - val_loss: 2.4624 - val_accuracy: 0.1000\n",
      "Epoch 33/50\n",
      "50000/50000 [==============================] - 13s 263us/step - loss: 2.4626 - accuracy: 0.0984 - val_loss: 2.4624 - val_accuracy: 0.1000\n",
      "Epoch 34/50\n",
      "50000/50000 [==============================] - 13s 260us/step - loss: 2.4626 - accuracy: 0.0974 - val_loss: 2.4624 - val_accuracy: 0.1000\n",
      "Epoch 35/50\n",
      "50000/50000 [==============================] - 13s 260us/step - loss: 2.4626 - accuracy: 0.0993 - val_loss: 2.4625 - val_accuracy: 0.1000\n",
      "Epoch 36/50\n",
      "50000/50000 [==============================] - 14s 280us/step - loss: 2.4626 - accuracy: 0.0996 - val_loss: 2.4624 - val_accuracy: 0.1000\n",
      "Epoch 37/50\n",
      "50000/50000 [==============================] - 14s 281us/step - loss: 2.4626 - accuracy: 0.0970 - val_loss: 2.4625 - val_accuracy: 0.1000\n",
      "Epoch 38/50\n",
      "50000/50000 [==============================] - 13s 259us/step - loss: 2.4626 - accuracy: 0.0982 - val_loss: 2.4624 - val_accuracy: 0.1000\n",
      "Epoch 39/50\n",
      "50000/50000 [==============================] - 11s 226us/step - loss: 2.4626 - accuracy: 0.0976 - val_loss: 2.4625 - val_accuracy: 0.1000\n",
      "Epoch 40/50\n",
      "50000/50000 [==============================] - 11s 223us/step - loss: 2.4626 - accuracy: 0.0985 - val_loss: 2.4624 - val_accuracy: 0.1000\n",
      "Epoch 41/50\n",
      "50000/50000 [==============================] - 11s 221us/step - loss: 2.4626 - accuracy: 0.0961 - val_loss: 2.4624 - val_accuracy: 0.1000\n",
      "Epoch 42/50\n",
      "50000/50000 [==============================] - 11s 220us/step - loss: 2.4626 - accuracy: 0.0953 - val_loss: 2.4625 - val_accuracy: 0.1000\n",
      "Epoch 43/50\n",
      "50000/50000 [==============================] - 11s 222us/step - loss: 2.4626 - accuracy: 0.0981 - val_loss: 2.4624 - val_accuracy: 0.1000\n",
      "Epoch 44/50\n",
      "50000/50000 [==============================] - 11s 218us/step - loss: 2.4626 - accuracy: 0.0976 - val_loss: 2.4624 - val_accuracy: 0.1000\n",
      "Epoch 45/50\n",
      "50000/50000 [==============================] - 11s 221us/step - loss: 2.4626 - accuracy: 0.0992 - val_loss: 2.4625 - val_accuracy: 0.1000\n",
      "Epoch 46/50\n",
      "50000/50000 [==============================] - 11s 218us/step - loss: 2.4626 - accuracy: 0.0985 - val_loss: 2.4624 - val_accuracy: 0.1000\n",
      "Epoch 47/50\n",
      "50000/50000 [==============================] - 11s 220us/step - loss: 2.4626 - accuracy: 0.0968 - val_loss: 2.4625 - val_accuracy: 0.1000\n",
      "Epoch 48/50\n"
     ]
    },
    {
     "name": "stdout",
     "output_type": "stream",
     "text": [
      "50000/50000 [==============================] - 11s 219us/step - loss: 2.4626 - accuracy: 0.0991 - val_loss: 2.4626 - val_accuracy: 0.1000\n",
      "Epoch 49/50\n",
      "50000/50000 [==============================] - 11s 219us/step - loss: 2.4626 - accuracy: 0.0987 - val_loss: 2.4624 - val_accuracy: 0.1000\n",
      "Epoch 50/50\n",
      "50000/50000 [==============================] - 11s 221us/step - loss: 2.4626 - accuracy: 0.0968 - val_loss: 2.4624 - val_accuracy: 0.1000\n"
     ]
    },
    {
     "ename": "KeyError",
     "evalue": "'acc'",
     "output_type": "error",
     "traceback": [
      "\u001b[0;31m---------------------------------------------------------------------------\u001b[0m",
      "\u001b[0;31mKeyError\u001b[0m                                  Traceback (most recent call last)",
      "\u001b[0;32m<ipython-input-10-eb841723ca35>\u001b[0m in \u001b[0;36m<module>\u001b[0;34m\u001b[0m\n\u001b[1;32m     20\u001b[0m     \u001b[0mtrain_loss\u001b[0m \u001b[0;34m=\u001b[0m \u001b[0mmodel\u001b[0m\u001b[0;34m.\u001b[0m\u001b[0mhistory\u001b[0m\u001b[0;34m.\u001b[0m\u001b[0mhistory\u001b[0m\u001b[0;34m[\u001b[0m\u001b[0;34m\"loss\"\u001b[0m\u001b[0;34m]\u001b[0m\u001b[0;34m\u001b[0m\u001b[0;34m\u001b[0m\u001b[0m\n\u001b[1;32m     21\u001b[0m     \u001b[0mvalid_loss\u001b[0m \u001b[0;34m=\u001b[0m \u001b[0mmodel\u001b[0m\u001b[0;34m.\u001b[0m\u001b[0mhistory\u001b[0m\u001b[0;34m.\u001b[0m\u001b[0mhistory\u001b[0m\u001b[0;34m[\u001b[0m\u001b[0;34m\"val_loss\"\u001b[0m\u001b[0;34m]\u001b[0m\u001b[0;34m\u001b[0m\u001b[0;34m\u001b[0m\u001b[0m\n\u001b[0;32m---> 22\u001b[0;31m     \u001b[0mtrain_acc\u001b[0m \u001b[0;34m=\u001b[0m \u001b[0mmodel\u001b[0m\u001b[0;34m.\u001b[0m\u001b[0mhistory\u001b[0m\u001b[0;34m.\u001b[0m\u001b[0mhistory\u001b[0m\u001b[0;34m[\u001b[0m\u001b[0;34m\"acc\"\u001b[0m\u001b[0;34m]\u001b[0m\u001b[0;34m\u001b[0m\u001b[0;34m\u001b[0m\u001b[0m\n\u001b[0m\u001b[1;32m     23\u001b[0m     \u001b[0mvalid_acc\u001b[0m \u001b[0;34m=\u001b[0m \u001b[0mmodel\u001b[0m\u001b[0;34m.\u001b[0m\u001b[0mhistory\u001b[0m\u001b[0;34m.\u001b[0m\u001b[0mhistory\u001b[0m\u001b[0;34m[\u001b[0m\u001b[0;34m\"val_acc\"\u001b[0m\u001b[0;34m]\u001b[0m\u001b[0;34m\u001b[0m\u001b[0;34m\u001b[0m\u001b[0m\n\u001b[1;32m     24\u001b[0m \u001b[0;34m\u001b[0m\u001b[0m\n",
      "\u001b[0;31mKeyError\u001b[0m: 'acc'"
     ]
    }
   ],
   "source": [
    "results = {}\n",
    "\"\"\"\n",
    "使用迴圈建立不同的帶不同 L1/L2 的模型並訓練\n",
    "\"\"\"\n",
    "for regulizer_ratio in L1_EXP:\n",
    "    keras.backend.clear_session() # 把舊的 Graph 清掉\n",
    "    print(\"Experiment with Regulizer = %.6f\" % (regulizer_ratio))\n",
    "    model = build_mlp(input_shape=x_train.shape[1:], l1_ratio=regulizer_ratio)\n",
    "    model.summary()\n",
    "    optimizer = keras.optimizers.SGD(lr=LEARNING_RATE, nesterov=True, momentum=MOMENTUM)\n",
    "    model.compile(loss=\"categorical_crossentropy\", metrics=[\"accuracy\"], optimizer=optimizer)\n",
    "\n",
    "    model.fit(x_train, y_train, \n",
    "              epochs=EPOCHS, \n",
    "              batch_size=BATCH_SIZE, \n",
    "              validation_data=(x_test, y_test), \n",
    "              shuffle=True)\n",
    "    \n",
    "    # Collect results\n",
    "    train_loss = model.history.history[\"loss\"]\n",
    "    valid_loss = model.history.history[\"val_loss\"]\n",
    "    train_acc = model.history.history[\"acc\"]\n",
    "    valid_acc = model.history.history[\"val_acc\"]\n",
    "    \n",
    "    exp_name_tag = \"exp-l2-%s\" % str(regulizer_ratio)\n",
    "    results[exp_name_tag] = {'train-loss': train_loss,\n",
    "                             'valid-loss': valid_loss,\n",
    "                             'train-acc': train_acc,\n",
    "                             'valid-acc': valid_acc}\n"
   ]
  },
  {
   "cell_type": "code",
   "execution_count": null,
   "metadata": {},
   "outputs": [],
   "source": [
    "import matplotlib.pyplot as plt\n",
    "%matplotlib inline\n",
    "color_bar = [\"r\", \"g\", \"b\", \"y\", \"m\", \"k\"]\n",
    "\n",
    "plt.figure(figsize=(8,6))\n",
    "for i, cond in enumerate(results.keys()):\n",
    "    plt.plot(range(len(results[cond]['train-loss'])),results[cond]['train-loss'], '-', label=cond, color=color_bar[i])\n",
    "    plt.plot(range(len(results[cond]['valid-loss'])),results[cond]['valid-loss'], '--', label=cond, color=color_bar[i])\n",
    "plt.title(\"Loss\")\n",
    "plt.ylim([0, 5])\n",
    "plt.legend()\n",
    "plt.show()\n",
    "\n",
    "plt.figure(figsize=(8,6))\n",
    "for i, cond in enumerate(results.keys()):\n",
    "    plt.plot(range(len(results[cond]['train-acc'])),results[cond]['train-acc'], '-', label=cond, color=color_bar[i])\n",
    "    plt.plot(range(len(results[cond]['valid-acc'])),results[cond]['valid-acc'], '--', label=cond, color=color_bar[i])\n",
    "plt.title(\"Accuracy\")\n",
    "plt.legend()\n",
    "plt.show()"
   ]
  },
  {
   "cell_type": "code",
   "execution_count": null,
   "metadata": {},
   "outputs": [],
   "source": []
  }
 ],
 "metadata": {
  "kernelspec": {
   "display_name": "Python 3",
   "language": "python",
   "name": "python3"
  },
  "language_info": {
   "codemirror_mode": {
    "name": "ipython",
    "version": 3
   },
   "file_extension": ".py",
   "mimetype": "text/x-python",
   "name": "python",
   "nbconvert_exporter": "python",
   "pygments_lexer": "ipython3",
   "version": "3.7.4"
  }
 },
 "nbformat": 4,
 "nbformat_minor": 2
}
