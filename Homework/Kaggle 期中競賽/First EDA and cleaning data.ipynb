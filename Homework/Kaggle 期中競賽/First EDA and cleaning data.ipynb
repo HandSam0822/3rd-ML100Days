{
 "cells": [
  {
   "cell_type": "code",
   "execution_count": 79,
   "metadata": {},
   "outputs": [],
   "source": [
    "import pandas as pd\n",
    "import numpy as np\n",
    "import seaborn\n",
    "import matplotlib.pyplot as plt\n",
    "import seaborn as sns\n",
    "import pandas_profiling\n",
    "# import lightgbm as lgbm\n",
    "\n",
    "%matplotlib inline"
   ]
  },
  {
   "cell_type": "code",
   "execution_count": 80,
   "metadata": {},
   "outputs": [],
   "source": [
    "train = pd.read_csv('train_data.csv')\n",
    "test = pd.read_csv('test_features.csv')"
   ]
  },
  {
   "cell_type": "code",
   "execution_count": 81,
   "metadata": {},
   "outputs": [
    {
     "data": {
      "text/plain": [
       "name                           0\n",
       "bonus                         52\n",
       "deferral_payments             85\n",
       "deferred_income               79\n",
       "director_fees                100\n",
       "email_address                 30\n",
       "exercised_stock_options       32\n",
       "expenses                      40\n",
       "from_messages                 48\n",
       "from_poi_to_this_person       48\n",
       "from_this_person_to_poi       48\n",
       "loan_advances                111\n",
       "long_term_incentive           64\n",
       "other                         44\n",
       "poi                            0\n",
       "restricted_stock              31\n",
       "restricted_stock_deferred    103\n",
       "salary                        40\n",
       "shared_receipt_with_poi       48\n",
       "to_messages                   48\n",
       "total_payments                17\n",
       "total_stock_value             15\n",
       "dtype: int64"
      ]
     },
     "execution_count": 81,
     "metadata": {},
     "output_type": "execute_result"
    }
   ],
   "source": [
    "train.isna().sum()"
   ]
  },
  {
   "cell_type": "code",
   "execution_count": 82,
   "metadata": {},
   "outputs": [],
   "source": [
    "#這三欄NA都太多了，拿掉之後再做一次EDA Report\n",
    "train.drop(['loan_advances','director_fees','restricted_stock_deferred'],axis = 1,inplace=True)\n",
    "test.drop(['loan_advances','director_fees','restricted_stock_deferred'],axis = 1,inplace=True)"
   ]
  },
  {
   "cell_type": "code",
   "execution_count": 83,
   "metadata": {},
   "outputs": [],
   "source": [
    "from sklearn import preprocessing\n",
    "le = preprocessing.LabelEncoder()\n",
    "train['poi'] = le.fit_transform(train['poi'])"
   ]
  },
  {
   "cell_type": "code",
   "execution_count": 84,
   "metadata": {},
   "outputs": [
    {
     "data": {
      "text/plain": [
       "Index(['name', 'bonus', 'deferral_payments', 'deferred_income',\n",
       "       'email_address', 'exercised_stock_options', 'expenses', 'from_messages',\n",
       "       'from_poi_to_this_person', 'from_this_person_to_poi',\n",
       "       'long_term_incentive', 'other', 'poi', 'restricted_stock', 'salary',\n",
       "       'shared_receipt_with_poi', 'to_messages', 'total_payments',\n",
       "       'total_stock_value'],\n",
       "      dtype='object')"
      ]
     },
     "execution_count": 84,
     "metadata": {},
     "output_type": "execute_result"
    }
   ],
   "source": [
    "train.columns"
   ]
  },
  {
   "cell_type": "code",
   "execution_count": null,
   "metadata": {},
   "outputs": [],
   "source": []
  },
  {
   "cell_type": "markdown",
   "metadata": {},
   "source": [
    "### 將EDA的結果存成HTML"
   ]
  },
  {
   "cell_type": "code",
   "execution_count": 85,
   "metadata": {},
   "outputs": [],
   "source": [
    "# train_profile = train.profile_report(title='Kaggle期中競賽EDA(train)')\n",
    "# train_profile.to_file(output_file=\"/Users/liaoshousan/Desktop/3rd-ML100Days/Homework/Kaggle 期中競賽/trainoutput.html\")"
   ]
  },
  {
   "cell_type": "code",
   "execution_count": 86,
   "metadata": {},
   "outputs": [],
   "source": [
    "# test_profile = test.profile_report(title='Kaggle期中競賽EDA(test)')\n",
    "# test_profile.to_file(output_file=\"/Users/liaoshousan/Desktop/3rd-ML100Days/Homework/Kaggle 期中競賽/testoutput.html\")"
   ]
  },
  {
   "cell_type": "markdown",
   "metadata": {},
   "source": [
    "### 用R跑了一些繪圖後，得出的一點小結論"
   ]
  },
  {
   "cell_type": "code",
   "execution_count": 87,
   "metadata": {},
   "outputs": [],
   "source": [
    "# other 好像沒什麼用(大或小都有人詐欺)\n",
    "# total_stock_value 和 exercised_stock_options 高度線性相關，且exercised_stock_options高的人詐欺機率高\n",
    "# 對exercised_stock_options 以1e+07為界做切割\n",
    "# from_this_person_to_poi 好像沒什麼用(都小於100次)\n",
    "# from_poi_to_this_person 好像也不明顯\n",
    "# salary 感覺看不出來有特徵，但其中兩個詐欺犯salary特別高"
   ]
  },
  {
   "cell_type": "markdown",
   "metadata": {},
   "source": [
    "### exercised_stock_options 切割成兩區"
   ]
  },
  {
   "cell_type": "code",
   "execution_count": 88,
   "metadata": {},
   "outputs": [],
   "source": [
    "train['exercised_stock_options_segment'] = train['exercised_stock_options'].apply(lambda x:1 if x>10000000 else 0)\n",
    "test['exercised_stock_options_segment'] = test['exercised_stock_options'].apply(lambda x:1 if x>10000000 else 0)\n"
   ]
  },
  {
   "cell_type": "markdown",
   "metadata": {},
   "source": [
    "### 別人做的project新增的變數"
   ]
  },
  {
   "cell_type": "code",
   "execution_count": 89,
   "metadata": {},
   "outputs": [],
   "source": [
    "train['bonus_to_salary'] = train['bonus'] / train['salary'] #比對bonus 和salary的比例\n",
    "train['bonus_to_total'] = train['bonus'] / train['total_payments'] # 比對bonus和總收入的比例\n",
    "\n",
    "test['bonus_to_salary'] = train['bonus'] / test['salary'] #比對bonus 和salary的比例\n",
    "test['bonus_to_total'] = train['bonus'] / test['total_payments'] # 比對bonus和總收入的比例\n",
    "\n"
   ]
  },
  {
   "cell_type": "code",
   "execution_count": 90,
   "metadata": {},
   "outputs": [],
   "source": [
    "# 對E-mail的資訊新增一些新的變數\n",
    "train['to_poi_ratio'] = train['from_poi_to_this_person'] / train['to_messages']\n",
    "train['from_poi_ratio'] = train['from_this_person_to_poi'] / train['from_messages']\n",
    "train['shared_poi_ratio'] = train['shared_receipt_with_poi'] / train['to_messages']\n",
    "\n",
    "test['to_poi_ratio'] = test['from_poi_to_this_person'] / test['to_messages']\n",
    "test['from_poi_ratio'] = test['from_this_person_to_poi'] / test['from_messages']\n",
    "test['shared_poi_ratio'] = test['shared_receipt_with_poi'] / test['to_messages']"
   ]
  },
  {
   "cell_type": "markdown",
   "metadata": {},
   "source": [
    "### 加入上述的變數，roc_auc進步到0.8125"
   ]
  },
  {
   "cell_type": "markdown",
   "metadata": {},
   "source": [
    "### 衍伸欄位都做完了，將空值填0"
   ]
  },
  {
   "cell_type": "code",
   "execution_count": 91,
   "metadata": {},
   "outputs": [],
   "source": [
    "train.fillna(0,inplace = True)\n",
    "test.fillna(0,inplace = True)"
   ]
  },
  {
   "cell_type": "code",
   "execution_count": 92,
   "metadata": {},
   "outputs": [],
   "source": [
    "y = train['poi']\n",
    "train = train.drop(['poi','name','email_address'],axis = 1)\n",
    "test = test.drop(['name','email_address'],axis = 1)"
   ]
  },
  {
   "cell_type": "code",
   "execution_count": 93,
   "metadata": {},
   "outputs": [
    {
     "data": {
      "text/html": [
       "<div>\n",
       "<style scoped>\n",
       "    .dataframe tbody tr th:only-of-type {\n",
       "        vertical-align: middle;\n",
       "    }\n",
       "\n",
       "    .dataframe tbody tr th {\n",
       "        vertical-align: top;\n",
       "    }\n",
       "\n",
       "    .dataframe thead th {\n",
       "        text-align: right;\n",
       "    }\n",
       "</style>\n",
       "<table border=\"1\" class=\"dataframe\">\n",
       "  <thead>\n",
       "    <tr style=\"text-align: right;\">\n",
       "      <th></th>\n",
       "      <th>bonus</th>\n",
       "      <th>deferral_payments</th>\n",
       "      <th>deferred_income</th>\n",
       "      <th>exercised_stock_options</th>\n",
       "      <th>expenses</th>\n",
       "      <th>from_messages</th>\n",
       "      <th>from_poi_to_this_person</th>\n",
       "      <th>from_this_person_to_poi</th>\n",
       "      <th>long_term_incentive</th>\n",
       "      <th>other</th>\n",
       "      <th>...</th>\n",
       "      <th>shared_receipt_with_poi</th>\n",
       "      <th>to_messages</th>\n",
       "      <th>total_payments</th>\n",
       "      <th>total_stock_value</th>\n",
       "      <th>exercised_stock_options_segment</th>\n",
       "      <th>bonus_to_salary</th>\n",
       "      <th>bonus_to_total</th>\n",
       "      <th>to_poi_ratio</th>\n",
       "      <th>from_poi_ratio</th>\n",
       "      <th>shared_poi_ratio</th>\n",
       "    </tr>\n",
       "  </thead>\n",
       "  <tbody>\n",
       "    <tr>\n",
       "      <td>0</td>\n",
       "      <td>1750000.0</td>\n",
       "      <td>0.0</td>\n",
       "      <td>-3504386.0</td>\n",
       "      <td>19794175.0</td>\n",
       "      <td>46950.0</td>\n",
       "      <td>18.0</td>\n",
       "      <td>42.0</td>\n",
       "      <td>4.0</td>\n",
       "      <td>1617011.0</td>\n",
       "      <td>174839.0</td>\n",
       "      <td>...</td>\n",
       "      <td>864.0</td>\n",
       "      <td>905.0</td>\n",
       "      <td>505050.0</td>\n",
       "      <td>22542539.0</td>\n",
       "      <td>1</td>\n",
       "      <td>4.160367</td>\n",
       "      <td>3.465003</td>\n",
       "      <td>0.046409</td>\n",
       "      <td>0.222222</td>\n",
       "      <td>0.954696</td>\n",
       "    </tr>\n",
       "    <tr>\n",
       "      <td>1</td>\n",
       "      <td>5600000.0</td>\n",
       "      <td>0.0</td>\n",
       "      <td>0.0</td>\n",
       "      <td>19250000.0</td>\n",
       "      <td>29336.0</td>\n",
       "      <td>108.0</td>\n",
       "      <td>88.0</td>\n",
       "      <td>30.0</td>\n",
       "      <td>1920000.0</td>\n",
       "      <td>22122.0</td>\n",
       "      <td>...</td>\n",
       "      <td>2042.0</td>\n",
       "      <td>3627.0</td>\n",
       "      <td>8682716.0</td>\n",
       "      <td>26093672.0</td>\n",
       "      <td>1</td>\n",
       "      <td>5.039334</td>\n",
       "      <td>0.644959</td>\n",
       "      <td>0.024262</td>\n",
       "      <td>0.277778</td>\n",
       "      <td>0.563000</td>\n",
       "    </tr>\n",
       "    <tr>\n",
       "      <td>2</td>\n",
       "      <td>200000.0</td>\n",
       "      <td>0.0</td>\n",
       "      <td>-4167.0</td>\n",
       "      <td>1624396.0</td>\n",
       "      <td>22884.0</td>\n",
       "      <td>39.0</td>\n",
       "      <td>13.0</td>\n",
       "      <td>14.0</td>\n",
       "      <td>0.0</td>\n",
       "      <td>1573324.0</td>\n",
       "      <td>...</td>\n",
       "      <td>91.0</td>\n",
       "      <td>225.0</td>\n",
       "      <td>2003885.0</td>\n",
       "      <td>2493616.0</td>\n",
       "      <td>0</td>\n",
       "      <td>0.944091</td>\n",
       "      <td>0.099806</td>\n",
       "      <td>0.057778</td>\n",
       "      <td>0.358974</td>\n",
       "      <td>0.404444</td>\n",
       "    </tr>\n",
       "    <tr>\n",
       "      <td>3</td>\n",
       "      <td>800000.0</td>\n",
       "      <td>0.0</td>\n",
       "      <td>0.0</td>\n",
       "      <td>0.0</td>\n",
       "      <td>118134.0</td>\n",
       "      <td>0.0</td>\n",
       "      <td>0.0</td>\n",
       "      <td>0.0</td>\n",
       "      <td>602671.0</td>\n",
       "      <td>907502.0</td>\n",
       "      <td>...</td>\n",
       "      <td>0.0</td>\n",
       "      <td>0.0</td>\n",
       "      <td>2652612.0</td>\n",
       "      <td>985032.0</td>\n",
       "      <td>0</td>\n",
       "      <td>3.566572</td>\n",
       "      <td>0.301590</td>\n",
       "      <td>0.000000</td>\n",
       "      <td>0.000000</td>\n",
       "      <td>0.000000</td>\n",
       "    </tr>\n",
       "    <tr>\n",
       "      <td>4</td>\n",
       "      <td>1250000.0</td>\n",
       "      <td>0.0</td>\n",
       "      <td>-262500.0</td>\n",
       "      <td>0.0</td>\n",
       "      <td>35818.0</td>\n",
       "      <td>144.0</td>\n",
       "      <td>199.0</td>\n",
       "      <td>25.0</td>\n",
       "      <td>375304.0</td>\n",
       "      <td>486.0</td>\n",
       "      <td>...</td>\n",
       "      <td>2188.0</td>\n",
       "      <td>2598.0</td>\n",
       "      <td>1639297.0</td>\n",
       "      <td>126027.0</td>\n",
       "      <td>0</td>\n",
       "      <td>5.204235</td>\n",
       "      <td>0.762522</td>\n",
       "      <td>0.076597</td>\n",
       "      <td>0.173611</td>\n",
       "      <td>0.842186</td>\n",
       "    </tr>\n",
       "  </tbody>\n",
       "</table>\n",
       "<p>5 rows × 22 columns</p>\n",
       "</div>"
      ],
      "text/plain": [
       "       bonus  deferral_payments  deferred_income  exercised_stock_options  \\\n",
       "0  1750000.0                0.0       -3504386.0               19794175.0   \n",
       "1  5600000.0                0.0              0.0               19250000.0   \n",
       "2   200000.0                0.0          -4167.0                1624396.0   \n",
       "3   800000.0                0.0              0.0                      0.0   \n",
       "4  1250000.0                0.0        -262500.0                      0.0   \n",
       "\n",
       "   expenses  from_messages  from_poi_to_this_person  from_this_person_to_poi  \\\n",
       "0   46950.0           18.0                     42.0                      4.0   \n",
       "1   29336.0          108.0                     88.0                     30.0   \n",
       "2   22884.0           39.0                     13.0                     14.0   \n",
       "3  118134.0            0.0                      0.0                      0.0   \n",
       "4   35818.0          144.0                    199.0                     25.0   \n",
       "\n",
       "   long_term_incentive      other  ...  shared_receipt_with_poi  to_messages  \\\n",
       "0            1617011.0   174839.0  ...                    864.0        905.0   \n",
       "1            1920000.0    22122.0  ...                   2042.0       3627.0   \n",
       "2                  0.0  1573324.0  ...                     91.0        225.0   \n",
       "3             602671.0   907502.0  ...                      0.0          0.0   \n",
       "4             375304.0      486.0  ...                   2188.0       2598.0   \n",
       "\n",
       "   total_payments  total_stock_value  exercised_stock_options_segment  \\\n",
       "0        505050.0         22542539.0                                1   \n",
       "1       8682716.0         26093672.0                                1   \n",
       "2       2003885.0          2493616.0                                0   \n",
       "3       2652612.0           985032.0                                0   \n",
       "4       1639297.0           126027.0                                0   \n",
       "\n",
       "   bonus_to_salary  bonus_to_total  to_poi_ratio  from_poi_ratio  \\\n",
       "0         4.160367        3.465003      0.046409        0.222222   \n",
       "1         5.039334        0.644959      0.024262        0.277778   \n",
       "2         0.944091        0.099806      0.057778        0.358974   \n",
       "3         3.566572        0.301590      0.000000        0.000000   \n",
       "4         5.204235        0.762522      0.076597        0.173611   \n",
       "\n",
       "   shared_poi_ratio  \n",
       "0          0.954696  \n",
       "1          0.563000  \n",
       "2          0.404444  \n",
       "3          0.000000  \n",
       "4          0.842186  \n",
       "\n",
       "[5 rows x 22 columns]"
      ]
     },
     "execution_count": 93,
     "metadata": {},
     "output_type": "execute_result"
    }
   ],
   "source": [
    "train.head()"
   ]
  },
  {
   "cell_type": "code",
   "execution_count": 94,
   "metadata": {},
   "outputs": [
    {
     "data": {
      "text/html": [
       "<div>\n",
       "<style scoped>\n",
       "    .dataframe tbody tr th:only-of-type {\n",
       "        vertical-align: middle;\n",
       "    }\n",
       "\n",
       "    .dataframe tbody tr th {\n",
       "        vertical-align: top;\n",
       "    }\n",
       "\n",
       "    .dataframe thead th {\n",
       "        text-align: right;\n",
       "    }\n",
       "</style>\n",
       "<table border=\"1\" class=\"dataframe\">\n",
       "  <thead>\n",
       "    <tr style=\"text-align: right;\">\n",
       "      <th></th>\n",
       "      <th>bonus</th>\n",
       "      <th>deferral_payments</th>\n",
       "      <th>deferred_income</th>\n",
       "      <th>exercised_stock_options</th>\n",
       "      <th>expenses</th>\n",
       "      <th>from_messages</th>\n",
       "      <th>from_poi_to_this_person</th>\n",
       "      <th>from_this_person_to_poi</th>\n",
       "      <th>long_term_incentive</th>\n",
       "      <th>other</th>\n",
       "      <th>...</th>\n",
       "      <th>shared_receipt_with_poi</th>\n",
       "      <th>to_messages</th>\n",
       "      <th>total_payments</th>\n",
       "      <th>total_stock_value</th>\n",
       "      <th>exercised_stock_options_segment</th>\n",
       "      <th>bonus_to_salary</th>\n",
       "      <th>bonus_to_total</th>\n",
       "      <th>to_poi_ratio</th>\n",
       "      <th>from_poi_ratio</th>\n",
       "      <th>shared_poi_ratio</th>\n",
       "    </tr>\n",
       "  </thead>\n",
       "  <tbody>\n",
       "    <tr>\n",
       "      <td>0</td>\n",
       "      <td>5249999.0</td>\n",
       "      <td>2144013.0</td>\n",
       "      <td>-2334434.0</td>\n",
       "      <td>953136.0</td>\n",
       "      <td>17355.0</td>\n",
       "      <td>484.0</td>\n",
       "      <td>228.0</td>\n",
       "      <td>108.0</td>\n",
       "      <td>0.0</td>\n",
       "      <td>210698.0</td>\n",
       "      <td>...</td>\n",
       "      <td>5521.0</td>\n",
       "      <td>7991.0</td>\n",
       "      <td>5501630.0</td>\n",
       "      <td>1110705.0</td>\n",
       "      <td>0</td>\n",
       "      <td>8.177608</td>\n",
       "      <td>0.318088</td>\n",
       "      <td>0.028532</td>\n",
       "      <td>0.223140</td>\n",
       "      <td>0.690902</td>\n",
       "    </tr>\n",
       "    <tr>\n",
       "      <td>1</td>\n",
       "      <td>1350000.0</td>\n",
       "      <td>0.0</td>\n",
       "      <td>-833.0</td>\n",
       "      <td>0.0</td>\n",
       "      <td>65907.0</td>\n",
       "      <td>27.0</td>\n",
       "      <td>140.0</td>\n",
       "      <td>15.0</td>\n",
       "      <td>974293.0</td>\n",
       "      <td>1621.0</td>\n",
       "      <td>...</td>\n",
       "      <td>1593.0</td>\n",
       "      <td>1858.0</td>\n",
       "      <td>2669589.0</td>\n",
       "      <td>252055.0</td>\n",
       "      <td>0</td>\n",
       "      <td>20.100430</td>\n",
       "      <td>2.097701</td>\n",
       "      <td>0.075350</td>\n",
       "      <td>0.555556</td>\n",
       "      <td>0.857374</td>\n",
       "    </tr>\n",
       "    <tr>\n",
       "      <td>2</td>\n",
       "      <td>1500000.0</td>\n",
       "      <td>0.0</td>\n",
       "      <td>-3117011.0</td>\n",
       "      <td>5538001.0</td>\n",
       "      <td>34039.0</td>\n",
       "      <td>32.0</td>\n",
       "      <td>32.0</td>\n",
       "      <td>21.0</td>\n",
       "      <td>1617011.0</td>\n",
       "      <td>11350.0</td>\n",
       "      <td>...</td>\n",
       "      <td>1035.0</td>\n",
       "      <td>1045.0</td>\n",
       "      <td>288682.0</td>\n",
       "      <td>6391065.0</td>\n",
       "      <td>0</td>\n",
       "      <td>0.822054</td>\n",
       "      <td>0.692804</td>\n",
       "      <td>0.030622</td>\n",
       "      <td>0.656250</td>\n",
       "      <td>0.990431</td>\n",
       "    </tr>\n",
       "    <tr>\n",
       "      <td>3</td>\n",
       "      <td>3000000.0</td>\n",
       "      <td>0.0</td>\n",
       "      <td>0.0</td>\n",
       "      <td>2291113.0</td>\n",
       "      <td>86174.0</td>\n",
       "      <td>3069.0</td>\n",
       "      <td>66.0</td>\n",
       "      <td>609.0</td>\n",
       "      <td>1294981.0</td>\n",
       "      <td>1661.0</td>\n",
       "      <td>...</td>\n",
       "      <td>2097.0</td>\n",
       "      <td>3093.0</td>\n",
       "      <td>4747979.0</td>\n",
       "      <td>3614261.0</td>\n",
       "      <td>0</td>\n",
       "      <td>2.190802</td>\n",
       "      <td>0.168493</td>\n",
       "      <td>0.021339</td>\n",
       "      <td>0.198436</td>\n",
       "      <td>0.677983</td>\n",
       "    </tr>\n",
       "    <tr>\n",
       "      <td>4</td>\n",
       "      <td>1000000.0</td>\n",
       "      <td>0.0</td>\n",
       "      <td>-235000.0</td>\n",
       "      <td>0.0</td>\n",
       "      <td>30674.0</td>\n",
       "      <td>49.0</td>\n",
       "      <td>58.0</td>\n",
       "      <td>12.0</td>\n",
       "      <td>350000.0</td>\n",
       "      <td>307895.0</td>\n",
       "      <td>...</td>\n",
       "      <td>1585.0</td>\n",
       "      <td>1892.0</td>\n",
       "      <td>1868758.0</td>\n",
       "      <td>2502063.0</td>\n",
       "      <td>0</td>\n",
       "      <td>3.010677</td>\n",
       "      <td>0.668893</td>\n",
       "      <td>0.030655</td>\n",
       "      <td>0.244898</td>\n",
       "      <td>0.837738</td>\n",
       "    </tr>\n",
       "  </tbody>\n",
       "</table>\n",
       "<p>5 rows × 22 columns</p>\n",
       "</div>"
      ],
      "text/plain": [
       "       bonus  deferral_payments  deferred_income  exercised_stock_options  \\\n",
       "0  5249999.0          2144013.0       -2334434.0                 953136.0   \n",
       "1  1350000.0                0.0           -833.0                      0.0   \n",
       "2  1500000.0                0.0       -3117011.0                5538001.0   \n",
       "3  3000000.0                0.0              0.0                2291113.0   \n",
       "4  1000000.0                0.0        -235000.0                      0.0   \n",
       "\n",
       "   expenses  from_messages  from_poi_to_this_person  from_this_person_to_poi  \\\n",
       "0   17355.0          484.0                    228.0                    108.0   \n",
       "1   65907.0           27.0                    140.0                     15.0   \n",
       "2   34039.0           32.0                     32.0                     21.0   \n",
       "3   86174.0         3069.0                     66.0                    609.0   \n",
       "4   30674.0           49.0                     58.0                     12.0   \n",
       "\n",
       "   long_term_incentive     other  ...  shared_receipt_with_poi  to_messages  \\\n",
       "0                  0.0  210698.0  ...                   5521.0       7991.0   \n",
       "1             974293.0    1621.0  ...                   1593.0       1858.0   \n",
       "2            1617011.0   11350.0  ...                   1035.0       1045.0   \n",
       "3            1294981.0    1661.0  ...                   2097.0       3093.0   \n",
       "4             350000.0  307895.0  ...                   1585.0       1892.0   \n",
       "\n",
       "   total_payments  total_stock_value  exercised_stock_options_segment  \\\n",
       "0       5501630.0          1110705.0                                0   \n",
       "1       2669589.0           252055.0                                0   \n",
       "2        288682.0          6391065.0                                0   \n",
       "3       4747979.0          3614261.0                                0   \n",
       "4       1868758.0          2502063.0                                0   \n",
       "\n",
       "   bonus_to_salary  bonus_to_total  to_poi_ratio  from_poi_ratio  \\\n",
       "0         8.177608        0.318088      0.028532        0.223140   \n",
       "1        20.100430        2.097701      0.075350        0.555556   \n",
       "2         0.822054        0.692804      0.030622        0.656250   \n",
       "3         2.190802        0.168493      0.021339        0.198436   \n",
       "4         3.010677        0.668893      0.030655        0.244898   \n",
       "\n",
       "   shared_poi_ratio  \n",
       "0          0.690902  \n",
       "1          0.857374  \n",
       "2          0.990431  \n",
       "3          0.677983  \n",
       "4          0.837738  \n",
       "\n",
       "[5 rows x 22 columns]"
      ]
     },
     "execution_count": 94,
     "metadata": {},
     "output_type": "execute_result"
    }
   ],
   "source": [
    "test.head()"
   ]
  },
  {
   "cell_type": "markdown",
   "metadata": {},
   "source": [
    "### 把資料清理一下跑個最基礎的model"
   ]
  },
  {
   "cell_type": "markdown",
   "metadata": {},
   "source": [
    "流程：  \n",
    "\n",
    "1. 使用 x_trainval fit出一個較好的參數組合之後  \n",
    "2. 使用 optimal參數建構XGBC模型  \n",
    "3. 使用 x_test fit XGBC模型  \n",
    "4. 使用 x_val 驗證準確率  \n",
    "5. 準確率若是足夠了，就用optimal model預測測試集  "
   ]
  },
  {
   "cell_type": "markdown",
   "metadata": {},
   "source": [
    "### Divide train(113x22) into 3 part\n",
    "\n",
    "1) x_trainval (113*0.75) = 84 (for Gridsearch)\n",
    "\n",
    "- x_train 84*0.75 = 63  \n",
    "\n",
    "    \n",
    "- x_val 84*0.25 = 21   (for model validation)\n",
    "\n",
    "2) x_test: (113*0.25) = 29 (for model trained)\n"
   ]
  },
  {
   "cell_type": "code",
   "execution_count": 95,
   "metadata": {},
   "outputs": [],
   "source": [
    "from sklearn.model_selection import train_test_split\n",
    "\n",
    "x_trainval, x_test, y_trainval, y_test = train_test_split(train, y , random_state=0) \n",
    "x_train, x_val, y_train, y_val = train_test_split(x_trainval, y_trainval , random_state=1)"
   ]
  },
  {
   "cell_type": "code",
   "execution_count": 96,
   "metadata": {},
   "outputs": [
    {
     "name": "stdout",
     "output_type": "stream",
     "text": [
      " size of x_trainval = 84\n",
      " size of x_train = 63\n",
      " size of x_val = 21\n",
      " size of x_test = 29\n"
     ]
    }
   ],
   "source": [
    "print(' size of x_trainval = {}\\n size of x_train = {}\\n size of x_val = {}\\n size of x_test = {}'\n",
    "      .format(x_trainval.shape[0],x_train.shape[0],x_val.shape[0],x_test.shape[0]))\n"
   ]
  },
  {
   "cell_type": "code",
   "execution_count": 97,
   "metadata": {},
   "outputs": [],
   "source": [
    "# 匯入必要的工具包\n",
    "import xgboost as xgb\n",
    "from xgboost import XGBClassifier\n",
    "from sklearn.model_selection import GridSearchCV\n",
    "# 計算分類正確率\n",
    "from sklearn.metrics import roc_auc_score"
   ]
  },
  {
   "cell_type": "code",
   "execution_count": 98,
   "metadata": {},
   "outputs": [
    {
     "name": "stderr",
     "output_type": "stream",
     "text": [
      "/Users/liaoshousan/opt/anaconda3/lib/python3.7/site-packages/xgboost/core.py:587: FutureWarning: Series.base is deprecated and will be removed in a future version\n",
      "  if getattr(data, 'base', None) is not None and \\\n"
     ]
    }
   ],
   "source": [
    "dtrain = xgb.DMatrix(x_test, label = y_test ,feature_names=x_test.columns.values)\n",
    "dtest = xgb.DMatrix(x_val)\n"
   ]
  },
  {
   "cell_type": "markdown",
   "metadata": {},
   "source": [
    "###  Grid Search 調參"
   ]
  },
  {
   "cell_type": "code",
   "execution_count": 99,
   "metadata": {},
   "outputs": [
    {
     "name": "stdout",
     "output_type": "stream",
     "text": [
      "Best score: 0.790\n",
      "Best parameters set:\n",
      "\tlearning_rate: 0.03\n",
      "\tmax_depth: 5\n",
      "\tmin_child_weight: 5\n",
      "\tn_estimators: 500\n",
      "\tseed: 3000\n"
     ]
    }
   ],
   "source": [
    "parameters = {\n",
    "              'max_depth': [5,10],\n",
    "               'learning_rate': [0.01,0.03,0.05],\n",
    "               'n_estimators': [500,1000],\n",
    "                'min_child_weight': [5,10,15],\n",
    "                'seed':[1500,2000,2500,3000]\n",
    "#                'colsample_bytree': [0.5,0.75,1], # 0.5-1是典型值\n",
    "#                'scale_pos_weight': [0.9,1]\n",
    "    \n",
    "\n",
    "}\n",
    "\n",
    "clf = XGBClassifier(\n",
    "    #樹的個數\n",
    "#     n_estimators=500,\n",
    "    \n",
    "#     learning_rate= 0.01, # 如同學習率\n",
    "       \n",
    "#     max_depth=5, # 構建樹的深度，越大越容易過擬合 \n",
    "    \n",
    "    subsample=0.7, #隨機取樣訓練樣本 訓練例項的子取樣比\n",
    "        \n",
    "    gamma=0, # 用於控制是否後剪枝的引數,越大越保守，一般0.1、0.2這樣子\n",
    "        \n",
    "    reg_lambda=1,  # 控制模型複雜度的權重值的L2正則化項引數，引數越大，模型越不容易過擬合。\n",
    "        \n",
    "    max_delta_step=0, #最大增量步長，我們允許每個樹的權重估計。\n",
    "         \n",
    "    colsample_bytree=1, # 生成樹時進行的列取樣\n",
    "        \n",
    "#     min_child_weight=1, #分裂到多少的節點才停下來，這個引數非常影響結果，該引數值越小，越容易 overfitting\n",
    "        \n",
    "#     seed=1000,#隨機種子(防止過擬合)\n",
    "        \n",
    "    reg_alpha=0,# L1 正則項引數\n",
    "        \n",
    "    scale_pos_weight=1,#如果取值大於0的話，在類別樣本不平衡的情況下有助於快速收斂。平衡正負權重\n",
    "        \n",
    "    objective= 'binary:logistic', \n",
    "    \n",
    "    silent=0 ,# 設定成1則沒有執行資訊輸出，最好是設定為0.是否在執行升級時列印訊息。\n",
    "    \n",
    "    nthread=4, #cpu 執行緒數 預設最大\n",
    "#     eval_metric= 'auc'\n",
    ")\n",
    "\n",
    "gsearch = GridSearchCV(clf, param_grid=parameters, scoring='roc_auc', cv=5)\n",
    "gsearch.fit(x_trainval, y_trainval)\n",
    "\n",
    "\n",
    "print(\"Best score: %0.3f\" % gsearch.best_score_)\n",
    "print(\"Best parameters set:\")\n",
    "best_parameters = gsearch.best_estimator_.get_params()\n",
    "for param_name in sorted(parameters.keys()):\n",
    "    print(\"\\t%s: %r\" % (param_name, best_parameters[param_name]))\n",
    "\n"
   ]
  },
  {
   "cell_type": "markdown",
   "metadata": {},
   "source": [
    "#### 坑1: scoring 應該要使用roc_auc 不是acuracy\n",
    "#### 坑2:parameters放的是要調整的參數dict或list / Classifier放的是已經確定優化好了的參數\n",
    "#### 坑3:可以指定cv讓預測更準\n",
    "#### 坑4:調完參數結果更慘..."
   ]
  },
  {
   "cell_type": "markdown",
   "metadata": {},
   "source": [
    "### 用調好的參數建構XGB模型"
   ]
  },
  {
   "cell_type": "code",
   "execution_count": 100,
   "metadata": {},
   "outputs": [
    {
     "name": "stdout",
     "output_type": "stream",
     "text": [
      "[0]\ttrain-auc:0.858333\n",
      "[1]\ttrain-auc:0.858333\n",
      "[2]\ttrain-auc:0.958333\n",
      "[3]\ttrain-auc:0.975\n",
      "[4]\ttrain-auc:0.983333\n",
      "[5]\ttrain-auc:1\n",
      "[6]\ttrain-auc:1\n",
      "[7]\ttrain-auc:1\n",
      "[8]\ttrain-auc:1\n",
      "[9]\ttrain-auc:1\n",
      "[10]\ttrain-auc:1\n",
      "[11]\ttrain-auc:1\n",
      "[12]\ttrain-auc:1\n",
      "[13]\ttrain-auc:1\n",
      "[14]\ttrain-auc:1\n",
      "[15]\ttrain-auc:1\n",
      "[16]\ttrain-auc:1\n",
      "[17]\ttrain-auc:1\n",
      "[18]\ttrain-auc:1\n",
      "[19]\ttrain-auc:1\n",
      "<function roc_auc_score at 0x1a219687a0> : 0.9473684210526316\n"
     ]
    }
   ],
   "source": [
    "param = {'objective':'binary:logistic','bst:max_depth': 5,'bst:learning_rate': 0.03,\n",
    "                 'bst:n_estimators': 500, 'bst:min_child_weight': 5,'bst:subsample': 0.7,\n",
    "                 'bst:colsample_bytree': 0.5,'bst:scale_pos_weight': 1,\n",
    "         'bst:eta':1,'bst:silent':1,'bst:reg_alpha':0,'bst:reg_lambda':1,\n",
    "         'bst:max_delta_step':0, 'bst:gamma':0,'bst:colsample_bytree':1,'bst:scale_pos_weight':1,\n",
    "        'bst:silent':0 ,'bst:nthread':4,'eval_metric':'auc','bst:seed':2500\n",
    "}\n",
    "\n",
    "\n",
    "\n",
    "evallist  = [(dtrain,'train')]\n",
    "num_round = 20\n",
    "bst = xgb.train(param, dtrain,num_round,evallist)\n",
    "\n",
    "preds = bst.predict(dtest)\n",
    "print(f'{roc_auc_score} : {roc_auc_score(y_val, preds)}')\n",
    "\n",
    "\n"
   ]
  },
  {
   "cell_type": "markdown",
   "metadata": {},
   "source": [
    "### 把調完參數的模型再對test預測一次，並輸出結果"
   ]
  },
  {
   "cell_type": "code",
   "execution_count": 101,
   "metadata": {},
   "outputs": [],
   "source": [
    "xinput = xgb.DMatrix(test,feature_names=test.columns.values)\n",
    "output = bst.predict(xinput)\n"
   ]
  },
  {
   "cell_type": "code",
   "execution_count": 102,
   "metadata": {},
   "outputs": [
    {
     "data": {
      "text/plain": [
       "array([0.7135165 , 0.62390155, 0.47008756, 0.7433323 , 0.8542719 ,\n",
       "       0.2674133 , 0.8335879 , 0.03020565, 0.38973132, 0.04527185,\n",
       "       0.12770577, 0.0147976 , 0.14479329, 0.03020565, 0.23821078,\n",
       "       0.02189701, 0.0204688 , 0.10983729, 0.03373932, 0.0147976 ,\n",
       "       0.25462103, 0.8130185 , 0.07264808, 0.03251867, 0.02189701,\n",
       "       0.19064471, 0.04805447, 0.0147976 , 0.2572422 , 0.4842946 ,\n",
       "       0.0147976 , 0.0147976 , 0.6487985 ], dtype=float32)"
      ]
     },
     "execution_count": 102,
     "metadata": {},
     "output_type": "execute_result"
    }
   ],
   "source": [
    "output"
   ]
  },
  {
   "cell_type": "code",
   "execution_count": 103,
   "metadata": {},
   "outputs": [],
   "source": [
    "import csv\n",
    "\n",
    "path = '/Users/liaoshousan/Desktop/3rd-ML100Days/Homework/Kaggle 期中競賽/submit_test1.csv'\n",
    "\n",
    "def storeFile(data,fileName):\n",
    "    data = list(map(lambda x:[x],data))\n",
    "    with open(fileName,'w',newline ='') as f:\n",
    "        mywrite = csv.writer(f)\n",
    "        for i in data:\n",
    "            mywrite.writerow(i)\n",
    "\n",
    "storeFile(output, path)"
   ]
  },
  {
   "cell_type": "markdown",
   "metadata": {},
   "source": [
    "### To detect which feature are important"
   ]
  },
  {
   "cell_type": "code",
   "execution_count": 104,
   "metadata": {},
   "outputs": [
    {
     "data": {
      "text/plain": [
       "<matplotlib.axes._subplots.AxesSubplot at 0x1a24046150>"
      ]
     },
     "execution_count": 104,
     "metadata": {},
     "output_type": "execute_result"
    },
    {
     "data": {
      "image/png": "[encoded data removed]",
      "text/plain": [
       "<Figure size 432x288 with 1 Axes>"
      ]
     },
     "metadata": {
      "needs_background": "light"
     },
     "output_type": "display_data"
    }
   ],
   "source": [
    "from xgboost import plot_importance\n",
    "# model = XGBClassifier()\n",
    "# model.fit(x_train, y_train)\n",
    "plot_importance(bst)"
   ]
  },
  {
   "cell_type": "markdown",
   "metadata": {},
   "source": [
    "### Upward features are important"
   ]
  },
  {
   "cell_type": "markdown",
   "metadata": {},
   "source": [
    "Maybe we could construct a more precise train data that only contains important features.  \n",
    "It may somewhat decrease the noise."
   ]
  },
  {
   "cell_type": "code",
   "execution_count": 110,
   "metadata": {},
   "outputs": [],
   "source": [
    "from sklearn.feature_selection import SelectFromModel\n",
    "# from numpy import sort\n",
    "# thresholds = sort(model.feature_importances_)\n",
    "\n",
    "selection = SelectFromModel(model, prefit=True)\n",
    "select_x_train = selection.transform(x_train) \n",
    "select_x_test = selection.transform(x_test)\n",
    "\n",
    "x = []\n",
    "a = list(selection.get_support(indices=True)) #抓出它用了train的欄位index\n",
    "for feature_name in a:\n",
    "    col_name = x_train.columns[feature_name]\n",
    "    x.append(col_name)\n",
    "\n",
    "select_x_train = pd.DataFrame(select_x_train,columns=x)\n",
    "select_x_test = pd.DataFrame(select_x_test,columns=x)\n",
    "\n",
    "\n",
    "# select_X_train.shape\n"
   ]
  },
  {
   "cell_type": "markdown",
   "metadata": {},
   "source": [
    "### Ultimate perforance on public leaderboard "
   ]
  },
  {
   "cell_type": "code",
   "execution_count": 112,
   "metadata": {},
   "outputs": [
    {
     "data": {
      "image/png": "[encoded data removed]",
      "text/plain": [
       "<IPython.core.display.Image object>"
      ]
     },
     "execution_count": 112,
     "metadata": {},
     "output_type": "execute_result"
    }
   ],
   "source": [
    "from IPython.display import Image\n",
    "Image(\"Best Performace.png\")"
   ]
  }
 ],
 "metadata": {
  "kernelspec": {
   "display_name": "Python 3",
   "language": "python",
   "name": "python3"
  },
  "language_info": {
   "codemirror_mode": {
    "name": "ipython",
    "version": 3
   },
   "file_extension": ".py",
   "mimetype": "text/x-python",
   "name": "python",
   "nbconvert_exporter": "python",
   "pygments_lexer": "ipython3",
   "version": "3.7.4"
  }
 },
 "nbformat": 4,
 "nbformat_minor": 2
}
