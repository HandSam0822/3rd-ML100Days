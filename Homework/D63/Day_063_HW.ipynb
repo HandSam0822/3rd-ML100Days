{
 "cells": [
  {
   "cell_type": "markdown",
   "metadata": {},
   "source": [
    "# 作業\n",
    "* 在精簡深度學習的方式上 : 卷積類神經 (CNN) 採用像素遠近，而遞歸類神經 (RNN) 採用著則是時間遠近\n",
    "* 那麼，既然有著類似的設計精神，兩者是否有可能互換應用呢?"
   ]
  },
  {
   "cell_type": "markdown",
   "metadata": {
    "collapsed": true
   },
   "source": [
    "在文本分析上，RNN可以回去記憶前面出現過的所有文字，然而實際上這不僅降低運算速度，實務上也不需要耗費這麼大的記憶體，去存下前面出現過   \n",
    "的每一個字。相較之下，雖然CNN在反向傳播有距離限制，但是實際上在語義分析表現上，和RNN幾無差別。  \n",
    "RNN能做的東西，已經慢慢被CNN 和一些自注意layer給取代了(因為RNN實在是跑太慢)"
   ]
  },
  {
   "cell_type": "code",
   "execution_count": null,
   "metadata": {},
   "outputs": [],
   "source": []
  }
 ],
 "metadata": {
  "kernelspec": {
   "display_name": "Python 3",
   "language": "python",
   "name": "python3"
  },
  "language_info": {
   "codemirror_mode": {
    "name": "ipython",
    "version": 3
   },
   "file_extension": ".py",
   "mimetype": "text/x-python",
   "name": "python",
   "nbconvert_exporter": "python",
   "pygments_lexer": "ipython3",
   "version": "3.7.4"
  }
 },
 "nbformat": 4,
 "nbformat_minor": 2
}
