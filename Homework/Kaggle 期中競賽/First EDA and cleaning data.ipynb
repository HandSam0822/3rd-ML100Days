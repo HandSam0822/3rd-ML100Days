{
 "cells": [
  {
   "cell_type": "code",
   "execution_count": 204,
   "metadata": {},
   "outputs": [],
   "source": [
    "import pandas as pd\n",
    "import numpy as np\n",
    "import seaborn\n",
    "import matplotlib.pyplot as plt\n",
    "import seaborn as sns\n",
    "import pandas_profiling \n",
    "# import lightgbm as lgbm\n",
    "\n",
    "%matplotlib inline"
   ]
  },
  {
   "cell_type": "code",
   "execution_count": 205,
   "metadata": {},
   "outputs": [],
   "source": [
    "train = pd.read_csv('train_data.csv')\n",
    "test = pd.read_csv('test_features.csv')"
   ]
  },
  {
   "cell_type": "code",
   "execution_count": 206,
   "metadata": {},
   "outputs": [
    {
     "data": {
      "text/plain": [
       "name                           0\n",
       "bonus                         52\n",
       "deferral_payments             85\n",
       "deferred_income               79\n",
       "director_fees                100\n",
       "email_address                 30\n",
       "exercised_stock_options       32\n",
       "expenses                      40\n",
       "from_messages                 48\n",
       "from_poi_to_this_person       48\n",
       "from_this_person_to_poi       48\n",
       "loan_advances                111\n",
       "long_term_incentive           64\n",
       "other                         44\n",
       "poi                            0\n",
       "restricted_stock              31\n",
       "restricted_stock_deferred    103\n",
       "salary                        40\n",
       "shared_receipt_with_poi       48\n",
       "to_messages                   48\n",
       "total_payments                17\n",
       "total_stock_value             15\n",
       "dtype: int64"
      ]
     },
     "execution_count": 206,
     "metadata": {},
     "output_type": "execute_result"
    }
   ],
   "source": [
    "train.isna().sum()"
   ]
  },
  {
   "cell_type": "code",
   "execution_count": 207,
   "metadata": {},
   "outputs": [],
   "source": [
    "#這三欄NA都太多了，拿掉之後再做一次EDA Report\n",
    "train.drop(['loan_advances','director_fees','restricted_stock_deferred'],axis = 1,inplace=True)\n",
    "test.drop(['loan_advances','director_fees','restricted_stock_deferred'],axis = 1,inplace=True)"
   ]
  },
  {
   "cell_type": "code",
   "execution_count": 208,
   "metadata": {},
   "outputs": [],
   "source": [
    "from sklearn import preprocessing\n",
    "le = preprocessing.LabelEncoder()\n",
    "train['poi'] = le.fit_transform(train['poi'])"
   ]
  },
  {
   "cell_type": "code",
   "execution_count": 209,
   "metadata": {},
   "outputs": [
    {
     "data": {
      "text/plain": [
       "Index(['name', 'bonus', 'deferral_payments', 'deferred_income',\n",
       "       'email_address', 'exercised_stock_options', 'expenses', 'from_messages',\n",
       "       'from_poi_to_this_person', 'from_this_person_to_poi',\n",
       "       'long_term_incentive', 'other', 'poi', 'restricted_stock', 'salary',\n",
       "       'shared_receipt_with_poi', 'to_messages', 'total_payments',\n",
       "       'total_stock_value'],\n",
       "      dtype='object')"
      ]
     },
     "execution_count": 209,
     "metadata": {},
     "output_type": "execute_result"
    }
   ],
   "source": [
    "train.columns"
   ]
  },
  {
   "cell_type": "code",
   "execution_count": null,
   "metadata": {},
   "outputs": [],
   "source": []
  },
  {
   "cell_type": "markdown",
   "metadata": {},
   "source": [
    "### 將EDA的結果存成HTML"
   ]
  },
  {
   "cell_type": "code",
   "execution_count": 210,
   "metadata": {},
   "outputs": [],
   "source": [
    "# train_profile = train.profile_report(title='Kaggle期中競賽EDA(train)')\n",
    "# train_profile.to_file(output_file=\"/Users/liaoshousan/Desktop/3rd-ML100Days/Homework/Kaggle 期中競賽/trainoutput.html\")"
   ]
  },
  {
   "cell_type": "code",
   "execution_count": 211,
   "metadata": {},
   "outputs": [],
   "source": [
    "# test_profile = test.profile_report(title='Kaggle期中競賽EDA(test)')\n",
    "# test_profile.to_file(output_file=\"/Users/liaoshousan/Desktop/3rd-ML100Days/Homework/Kaggle 期中競賽/testoutput.html\")"
   ]
  },
  {
   "cell_type": "markdown",
   "metadata": {},
   "source": [
    "### 用R跑了一些繪圖後，得出的一點小結論"
   ]
  },
  {
   "cell_type": "code",
   "execution_count": 212,
   "metadata": {},
   "outputs": [],
   "source": [
    "# other 好像沒什麼用(大或小都有人詐欺)\n",
    "# total_stock_value 和 exercised_stock_options 高度線性相關，且exercised_stock_options高的人詐欺機率高\n",
    "# 對exercised_stock_options 以1e+07為界做切割\n",
    "# from_this_person_to_poi 好像沒什麼用(都小於100次)\n",
    "# from_poi_to_this_person 好像也不明顯\n",
    "# salary 感覺看不出來有特徵，但其中兩個詐欺犯salary特別高"
   ]
  },
  {
   "cell_type": "markdown",
   "metadata": {},
   "source": [
    "### exercised_stock_options 切割成兩區"
   ]
  },
  {
   "cell_type": "code",
   "execution_count": 213,
   "metadata": {},
   "outputs": [],
   "source": [
    "train['exercised_stock_options_segment'] = train['exercised_stock_options'].apply(lambda x:1 if x>10000000 else 0)\n",
    "test['exercised_stock_options_segment'] = test['exercised_stock_options'].apply(lambda x:1 if x>10000000 else 0)\n"
   ]
  },
  {
   "cell_type": "markdown",
   "metadata": {},
   "source": [
    "### 別人做的project新增的變數"
   ]
  },
  {
   "cell_type": "code",
   "execution_count": 214,
   "metadata": {},
   "outputs": [],
   "source": [
    "train['bonus_to_salary'] = train['bonus'] / train['salary'] #比對bonus 和salary的比例\n",
    "train['bonus_to_total'] = train['bonus'] / train['total_payments'] # 比對bonus和總收入的比例\n",
    "\n",
    "test['bonus_to_salary'] = train['bonus'] / test['salary'] #比對bonus 和salary的比例\n",
    "test['bonus_to_total'] = train['bonus'] / test['total_payments'] # 比對bonus和總收入的比例\n",
    "\n"
   ]
  },
  {
   "cell_type": "code",
   "execution_count": null,
   "metadata": {},
   "outputs": [],
   "source": []
  },
  {
   "cell_type": "code",
   "execution_count": 215,
   "metadata": {},
   "outputs": [],
   "source": [
    "# 對E-mail的資訊新增一些新的變數\n",
    "train['to_poi_ratio'] = train['from_poi_to_this_person'] / train['to_messages']\n",
    "train['from_poi_ratio'] = train['from_this_person_to_poi'] / train['from_messages']\n",
    "train['shared_poi_ratio'] = train['shared_receipt_with_poi'] / train['to_messages']\n",
    "\n",
    "test['to_poi_ratio'] = test['from_poi_to_this_person'] / test['to_messages']\n",
    "test['from_poi_ratio'] = test['from_this_person_to_poi'] / test['from_messages']\n",
    "test['shared_poi_ratio'] = test['shared_receipt_with_poi'] / test['to_messages']"
   ]
  },
  {
   "cell_type": "markdown",
   "metadata": {},
   "source": [
    "### 加入上述的變數，roc_auc進步到0.8125"
   ]
  },
  {
   "cell_type": "markdown",
   "metadata": {},
   "source": [
    "### 衍伸欄位都做完了，將空值填0"
   ]
  },
  {
   "cell_type": "code",
   "execution_count": 216,
   "metadata": {},
   "outputs": [],
   "source": [
    "train.fillna(0,inplace = True)\n",
    "test.fillna(0,inplace = True)"
   ]
  },
  {
   "cell_type": "code",
   "execution_count": 217,
   "metadata": {},
   "outputs": [],
   "source": [
    "y = train['poi']\n",
    "train = train.drop(['poi','name','email_address'],axis = 1)\n",
    "test = test.drop(['name','email_address'],axis = 1)"
   ]
  },
  {
   "cell_type": "code",
   "execution_count": 219,
   "metadata": {},
   "outputs": [
    {
     "data": {
      "text/html": [
       "<div>\n",
       "<style scoped>\n",
       "    .dataframe tbody tr th:only-of-type {\n",
       "        vertical-align: middle;\n",
       "    }\n",
       "\n",
       "    .dataframe tbody tr th {\n",
       "        vertical-align: top;\n",
       "    }\n",
       "\n",
       "    .dataframe thead th {\n",
       "        text-align: right;\n",
       "    }\n",
       "</style>\n",
       "<table border=\"1\" class=\"dataframe\">\n",
       "  <thead>\n",
       "    <tr style=\"text-align: right;\">\n",
       "      <th></th>\n",
       "      <th>bonus</th>\n",
       "      <th>deferral_payments</th>\n",
       "      <th>deferred_income</th>\n",
       "      <th>exercised_stock_options</th>\n",
       "      <th>expenses</th>\n",
       "      <th>from_messages</th>\n",
       "      <th>from_poi_to_this_person</th>\n",
       "      <th>from_this_person_to_poi</th>\n",
       "      <th>long_term_incentive</th>\n",
       "      <th>other</th>\n",
       "      <th>...</th>\n",
       "      <th>shared_receipt_with_poi</th>\n",
       "      <th>to_messages</th>\n",
       "      <th>total_payments</th>\n",
       "      <th>total_stock_value</th>\n",
       "      <th>exercised_stock_options_segment</th>\n",
       "      <th>bonus_to_salary</th>\n",
       "      <th>bonus_to_total</th>\n",
       "      <th>to_poi_ratio</th>\n",
       "      <th>from_poi_ratio</th>\n",
       "      <th>shared_poi_ratio</th>\n",
       "    </tr>\n",
       "  </thead>\n",
       "  <tbody>\n",
       "    <tr>\n",
       "      <th>0</th>\n",
       "      <td>5249999.0</td>\n",
       "      <td>2144013.0</td>\n",
       "      <td>-2334434.0</td>\n",
       "      <td>953136.0</td>\n",
       "      <td>17355.0</td>\n",
       "      <td>484.0</td>\n",
       "      <td>228.0</td>\n",
       "      <td>108.0</td>\n",
       "      <td>0.0</td>\n",
       "      <td>210698.0</td>\n",
       "      <td>...</td>\n",
       "      <td>5521.0</td>\n",
       "      <td>7991.0</td>\n",
       "      <td>5501630.0</td>\n",
       "      <td>1110705.0</td>\n",
       "      <td>0</td>\n",
       "      <td>8.177608</td>\n",
       "      <td>0.318088</td>\n",
       "      <td>0.028532</td>\n",
       "      <td>0.223140</td>\n",
       "      <td>0.690902</td>\n",
       "    </tr>\n",
       "    <tr>\n",
       "      <th>1</th>\n",
       "      <td>1350000.0</td>\n",
       "      <td>0.0</td>\n",
       "      <td>-833.0</td>\n",
       "      <td>0.0</td>\n",
       "      <td>65907.0</td>\n",
       "      <td>27.0</td>\n",
       "      <td>140.0</td>\n",
       "      <td>15.0</td>\n",
       "      <td>974293.0</td>\n",
       "      <td>1621.0</td>\n",
       "      <td>...</td>\n",
       "      <td>1593.0</td>\n",
       "      <td>1858.0</td>\n",
       "      <td>2669589.0</td>\n",
       "      <td>252055.0</td>\n",
       "      <td>0</td>\n",
       "      <td>20.100430</td>\n",
       "      <td>2.097701</td>\n",
       "      <td>0.075350</td>\n",
       "      <td>0.555556</td>\n",
       "      <td>0.857374</td>\n",
       "    </tr>\n",
       "    <tr>\n",
       "      <th>2</th>\n",
       "      <td>1500000.0</td>\n",
       "      <td>0.0</td>\n",
       "      <td>-3117011.0</td>\n",
       "      <td>5538001.0</td>\n",
       "      <td>34039.0</td>\n",
       "      <td>32.0</td>\n",
       "      <td>32.0</td>\n",
       "      <td>21.0</td>\n",
       "      <td>1617011.0</td>\n",
       "      <td>11350.0</td>\n",
       "      <td>...</td>\n",
       "      <td>1035.0</td>\n",
       "      <td>1045.0</td>\n",
       "      <td>288682.0</td>\n",
       "      <td>6391065.0</td>\n",
       "      <td>0</td>\n",
       "      <td>0.822054</td>\n",
       "      <td>0.692804</td>\n",
       "      <td>0.030622</td>\n",
       "      <td>0.656250</td>\n",
       "      <td>0.990431</td>\n",
       "    </tr>\n",
       "    <tr>\n",
       "      <th>3</th>\n",
       "      <td>3000000.0</td>\n",
       "      <td>0.0</td>\n",
       "      <td>0.0</td>\n",
       "      <td>2291113.0</td>\n",
       "      <td>86174.0</td>\n",
       "      <td>3069.0</td>\n",
       "      <td>66.0</td>\n",
       "      <td>609.0</td>\n",
       "      <td>1294981.0</td>\n",
       "      <td>1661.0</td>\n",
       "      <td>...</td>\n",
       "      <td>2097.0</td>\n",
       "      <td>3093.0</td>\n",
       "      <td>4747979.0</td>\n",
       "      <td>3614261.0</td>\n",
       "      <td>0</td>\n",
       "      <td>2.190802</td>\n",
       "      <td>0.168493</td>\n",
       "      <td>0.021339</td>\n",
       "      <td>0.198436</td>\n",
       "      <td>0.677983</td>\n",
       "    </tr>\n",
       "    <tr>\n",
       "      <th>4</th>\n",
       "      <td>1000000.0</td>\n",
       "      <td>0.0</td>\n",
       "      <td>-235000.0</td>\n",
       "      <td>0.0</td>\n",
       "      <td>30674.0</td>\n",
       "      <td>49.0</td>\n",
       "      <td>58.0</td>\n",
       "      <td>12.0</td>\n",
       "      <td>350000.0</td>\n",
       "      <td>307895.0</td>\n",
       "      <td>...</td>\n",
       "      <td>1585.0</td>\n",
       "      <td>1892.0</td>\n",
       "      <td>1868758.0</td>\n",
       "      <td>2502063.0</td>\n",
       "      <td>0</td>\n",
       "      <td>3.010677</td>\n",
       "      <td>0.668893</td>\n",
       "      <td>0.030655</td>\n",
       "      <td>0.244898</td>\n",
       "      <td>0.837738</td>\n",
       "    </tr>\n",
       "  </tbody>\n",
       "</table>\n",
       "<p>5 rows × 22 columns</p>\n",
       "</div>"
      ],
      "text/plain": [
       "       bonus  deferral_payments  deferred_income  exercised_stock_options  \\\n",
       "0  5249999.0          2144013.0       -2334434.0                 953136.0   \n",
       "1  1350000.0                0.0           -833.0                      0.0   \n",
       "2  1500000.0                0.0       -3117011.0                5538001.0   \n",
       "3  3000000.0                0.0              0.0                2291113.0   \n",
       "4  1000000.0                0.0        -235000.0                      0.0   \n",
       "\n",
       "   expenses  from_messages  from_poi_to_this_person  from_this_person_to_poi  \\\n",
       "0   17355.0          484.0                    228.0                    108.0   \n",
       "1   65907.0           27.0                    140.0                     15.0   \n",
       "2   34039.0           32.0                     32.0                     21.0   \n",
       "3   86174.0         3069.0                     66.0                    609.0   \n",
       "4   30674.0           49.0                     58.0                     12.0   \n",
       "\n",
       "   long_term_incentive     other        ...         shared_receipt_with_poi  \\\n",
       "0                  0.0  210698.0        ...                          5521.0   \n",
       "1             974293.0    1621.0        ...                          1593.0   \n",
       "2            1617011.0   11350.0        ...                          1035.0   \n",
       "3            1294981.0    1661.0        ...                          2097.0   \n",
       "4             350000.0  307895.0        ...                          1585.0   \n",
       "\n",
       "   to_messages  total_payments  total_stock_value  \\\n",
       "0       7991.0       5501630.0          1110705.0   \n",
       "1       1858.0       2669589.0           252055.0   \n",
       "2       1045.0        288682.0          6391065.0   \n",
       "3       3093.0       4747979.0          3614261.0   \n",
       "4       1892.0       1868758.0          2502063.0   \n",
       "\n",
       "   exercised_stock_options_segment  bonus_to_salary  bonus_to_total  \\\n",
       "0                                0         8.177608        0.318088   \n",
       "1                                0        20.100430        2.097701   \n",
       "2                                0         0.822054        0.692804   \n",
       "3                                0         2.190802        0.168493   \n",
       "4                                0         3.010677        0.668893   \n",
       "\n",
       "   to_poi_ratio  from_poi_ratio  shared_poi_ratio  \n",
       "0      0.028532        0.223140          0.690902  \n",
       "1      0.075350        0.555556          0.857374  \n",
       "2      0.030622        0.656250          0.990431  \n",
       "3      0.021339        0.198436          0.677983  \n",
       "4      0.030655        0.244898          0.837738  \n",
       "\n",
       "[5 rows x 22 columns]"
      ]
     },
     "execution_count": 219,
     "metadata": {},
     "output_type": "execute_result"
    }
   ],
   "source": [
    "test.head()"
   ]
  },
  {
   "cell_type": "markdown",
   "metadata": {},
   "source": [
    "### 把資料清理一下跑個最基礎的model"
   ]
  },
  {
   "cell_type": "code",
   "execution_count": 282,
   "metadata": {},
   "outputs": [],
   "source": [
    "#切割訓練集、測試集\n",
    "from sklearn.model_selection import train_test_split\n",
    "\n",
    "x_trainval, x_test, y_trainval, y_test = train_test_split(train, y , random_state=0)\n",
    "x_train, x_val, y_train, y_val = train_test_split(x_trainval, y_trainval , random_state=1)"
   ]
  },
  {
   "cell_type": "code",
   "execution_count": 283,
   "metadata": {},
   "outputs": [
    {
     "name": "stdout",
     "output_type": "stream",
     "text": [
      "size of x_trainval = 63\n",
      "size of x_train = 21\n",
      "size of x_test = 29\n"
     ]
    }
   ],
   "source": [
    "print('size of x_trainval = {}\\nsize of x_train = {}\\nsize of x_test = {}'\n",
    "      .format(x_train.shape[0],x_val.shape[0],x_test.shape[0]))\n"
   ]
  },
  {
   "cell_type": "code",
   "execution_count": 284,
   "metadata": {},
   "outputs": [],
   "source": [
    "# 匯入必要的工具包\n",
    "import xgboost as xgb\n",
    "from xgboost import XGBClassifier\n",
    "from sklearn.model_selection import GridSearchCV\n",
    "# 計算分類正確率\n",
    "from sklearn.metrics import roc_auc_score"
   ]
  },
  {
   "cell_type": "code",
   "execution_count": 289,
   "metadata": {},
   "outputs": [
    {
     "name": "stderr",
     "output_type": "stream",
     "text": [
      "/Library/Frameworks/Python.framework/Versions/3.6/lib/python3.6/site-packages/xgboost/core.py:587: FutureWarning: Series.base is deprecated and will be removed in a future version\n",
      "  if getattr(data, 'base', None) is not None and \\\n"
     ]
    }
   ],
   "source": [
    "dtrain = xgb.DMatrix(x_test, label = y_test ,feature_names=x_test.columns.values)\n",
    "dtest = xgb.DMatrix(x_val)\n"
   ]
  },
  {
   "cell_type": "markdown",
   "metadata": {},
   "source": [
    "###  Grid Search 調參\n",
    "#### 坑1: scoring 應該要使用roc_auc 不是acuracy\n",
    "#### 坑2:parameters放的是要調整的參數dict或list / Classifier放的是已經確定優化好了的參數\n",
    "#### 坑3:可以指定cv讓預測更準\n",
    "#### 坑4:調完參數結果更慘..."
   ]
  },
  {
   "cell_type": "code",
   "execution_count": 286,
   "metadata": {},
   "outputs": [
    {
     "name": "stdout",
     "output_type": "stream",
     "text": [
      "Best score: 0.855\n",
      "Best parameters set:\n",
      "\tlearning_rate: 0.03\n",
      "\tmax_depth: 5\n",
      "\tmin_child_weight: 5\n",
      "\tn_estimators: 500\n",
      "\tseed: 2500\n"
     ]
    },
    {
     "name": "stderr",
     "output_type": "stream",
     "text": [
      "/Library/Frameworks/Python.framework/Versions/3.6/lib/python3.6/site-packages/sklearn/model_selection/_search.py:814: DeprecationWarning: The default of the `iid` parameter will change from True to False in version 0.22 and will be removed in 0.24. This will change numeric results when test-set sizes are unequal.\n",
      "  DeprecationWarning)\n"
     ]
    }
   ],
   "source": [
    "parameters = {\n",
    "              'max_depth': [5,10],\n",
    "               'learning_rate': [0.01,0.03,0.05],\n",
    "               'n_estimators': [500,1000],\n",
    "                'min_child_weight': [5,10,15],\n",
    "                'seed':[1500,2000,2500,3000]\n",
    "#                'colsample_bytree': [0.5,0.75,1], # 0.5-1是典型值\n",
    "#                'scale_pos_weight': [0.9,1]\n",
    "    \n",
    "\n",
    "}\n",
    "\n",
    "clf = XGBClassifier(\n",
    "    #樹的個數\n",
    "#     n_estimators=500,\n",
    "    \n",
    "#     learning_rate= 0.01, # 如同學習率\n",
    "       \n",
    "#     max_depth=5, # 構建樹的深度，越大越容易過擬合 \n",
    "    \n",
    "    subsample=0.7, #隨機取樣訓練樣本 訓練例項的子取樣比\n",
    "        \n",
    "    gamma=0, # 用於控制是否後剪枝的引數,越大越保守，一般0.1、0.2這樣子\n",
    "        \n",
    "    reg_lambda=1,  # 控制模型複雜度的權重值的L2正則化項引數，引數越大，模型越不容易過擬合。\n",
    "        \n",
    "    max_delta_step=0, #最大增量步長，我們允許每個樹的權重估計。\n",
    "         \n",
    "    colsample_bytree=1, # 生成樹時進行的列取樣\n",
    "        \n",
    "#     min_child_weight=1, #分裂到多少的節點才停下來，這個引數非常影響結果，該引數值越小，越容易 overfitting\n",
    "        \n",
    "#     seed=1000,#隨機種子(防止過擬合)\n",
    "        \n",
    "    reg_alpha=0,# L1 正則項引數\n",
    "        \n",
    "    scale_pos_weight=1,#如果取值大於0的話，在類別樣本不平衡的情況下有助於快速收斂。平衡正負權重\n",
    "        \n",
    "    objective= 'binary:logistic', \n",
    "    \n",
    "    silent=0 ,# 設定成1則沒有執行資訊輸出，最好是設定為0.是否在執行升級時列印訊息。\n",
    "    \n",
    "    nthread=4, #cpu 執行緒數 預設最大\n",
    "#     eval_metric= 'auc'\n",
    ")\n",
    "\n",
    "gsearch = GridSearchCV(clf, param_grid=parameters, scoring='roc_auc', cv=5)\n",
    "gsearch.fit(x_trainval, y_trainval)\n",
    "\n",
    "\n",
    "print(\"Best score: %0.3f\" % gsearch.best_score_)\n",
    "print(\"Best parameters set:\")\n",
    "best_parameters = gsearch.best_estimator_.get_params()\n",
    "for param_name in sorted(parameters.keys()):\n",
    "    print(\"\\t%s: %r\" % (param_name, best_parameters[param_name]))\n",
    "\n"
   ]
  },
  {
   "cell_type": "markdown",
   "metadata": {},
   "source": [
    "### 用調好的參數再trainㄧ次"
   ]
  },
  {
   "cell_type": "code",
   "execution_count": 295,
   "metadata": {},
   "outputs": [
    {
     "name": "stdout",
     "output_type": "stream",
     "text": [
      "[0]\ttrain-auc:0.858333\n",
      "[1]\ttrain-auc:0.858333\n",
      "[2]\ttrain-auc:0.958333\n",
      "[3]\ttrain-auc:0.975\n",
      "[4]\ttrain-auc:0.983333\n",
      "[5]\ttrain-auc:1\n",
      "[6]\ttrain-auc:1\n",
      "[7]\ttrain-auc:1\n",
      "[8]\ttrain-auc:1\n",
      "[9]\ttrain-auc:1\n",
      "[10]\ttrain-auc:1\n",
      "[11]\ttrain-auc:1\n",
      "[12]\ttrain-auc:1\n",
      "[13]\ttrain-auc:1\n",
      "[14]\ttrain-auc:1\n",
      "[15]\ttrain-auc:1\n",
      "[16]\ttrain-auc:1\n",
      "[17]\ttrain-auc:1\n",
      "[18]\ttrain-auc:1\n",
      "[19]\ttrain-auc:1\n",
      "<function roc_auc_score at 0x121f1bd90> : 0.9473684210526316\n"
     ]
    }
   ],
   "source": [
    "# param = {'objective':'binary:logistic','eval_metric':'auc','bst:max_depth': 5,'bst:learning_rate': 0.01,\n",
    "#                  'bst:n_estimators': 500, 'bst:min_child_weight': 1,'bst:subsample': 0.8,\n",
    "#                  'bst:colsample_bytree': 0.5,'bst:scale_pos_weight': 1,\n",
    "#          'bst:eta':1,'bst:silent':1\n",
    "# }\n",
    "\n",
    "param = {'objective':'binary:logistic','bst:max_depth': 5,'bst:learning_rate': 0.03,\n",
    "                 'bst:n_estimators': 500, 'bst:min_child_weight': 5,'bst:subsample': 0.7,\n",
    "                 'bst:colsample_bytree': 0.5,'bst:scale_pos_weight': 1,\n",
    "         'bst:eta':1,'bst:silent':1,'bst:reg_alpha':0,'bst:reg_lambda':1,\n",
    "         'bst:max_delta_step':0, 'bst:gamma':0,'bst:colsample_bytree':1,'bst:scale_pos_weight':1,\n",
    "        'bst:silent':0 ,'bst:nthread':4,'eval_metric':'auc','bst:seed':2500\n",
    "}\n",
    "\n",
    "\n",
    "\n",
    "evallist  = [(dtrain,'train')]\n",
    "num_round = 20\n",
    "bst = xgb.train(param, dtrain,num_round,evallist)\n",
    "\n",
    "preds = bst.predict(dtest)\n",
    "print(f'{roc_auc_score} : {roc_auc_score(y_val, preds)}')\n",
    "\n",
    "\n"
   ]
  },
  {
   "cell_type": "code",
   "execution_count": 53,
   "metadata": {},
   "outputs": [
    {
     "data": {
      "text/plain": [
       "<matplotlib.axes._subplots.AxesSubplot at 0x125aa17b8>"
      ]
     },
     "execution_count": 53,
     "metadata": {},
     "output_type": "execute_result"
    },
    {
     "data": {
      "image/png": "[encoded data removed]",
      "text/plain": [
       "<Figure size 432x288 with 1 Axes>"
      ]
     },
     "metadata": {},
     "output_type": "display_data"
    }
   ],
   "source": [
    "from xgboost import plot_importance\n",
    "model = XGBClassifier()\n",
    "model.fit(x_train, y_train)\n",
    "plot_importance(model)"
   ]
  },
  {
   "cell_type": "markdown",
   "metadata": {},
   "source": [
    "### 用SelectFromModel 抓重要的欄位出來train\n"
   ]
  },
  {
   "cell_type": "code",
   "execution_count": 108,
   "metadata": {},
   "outputs": [
    {
     "data": {
      "text/plain": [
       "(75, 5)"
      ]
     },
     "execution_count": 108,
     "metadata": {},
     "output_type": "execute_result"
    }
   ],
   "source": [
    "select_X_train"
   ]
  },
  {
   "cell_type": "code",
   "execution_count": 128,
   "metadata": {},
   "outputs": [],
   "source": [
    "from sklearn.feature_selection import SelectFromModel\n",
    "# from numpy import sort\n",
    "# thresholds = sort(model.feature_importances_)\n",
    "\n",
    "selection = SelectFromModel(model, prefit=True)\n",
    "select_x_train = selection.transform(x_train) \n",
    "select_X_test = selection.transform(x_test)\n",
    "\n",
    "x = []\n",
    "a = list(selection.get_support(indices=True)) #抓出它用了train的欄位index\n",
    "for feature_name in a:\n",
    "    col_name = x_train.columns[feature_name]\n",
    "    x.append(col_name)\n",
    "\n",
    "select_x_train = pd.DataFrame(select_X_train,columns=x)\n",
    "select_x_test = pd.DataFrame(select_X_test,columns=x)\n",
    "\n",
    "\n",
    "# select_X_train.shape\n"
   ]
  },
  {
   "cell_type": "markdown",
   "metadata": {},
   "source": [
    "### 把調完參數的模型再對test預測一次，並輸出結果"
   ]
  },
  {
   "cell_type": "code",
   "execution_count": 296,
   "metadata": {},
   "outputs": [],
   "source": [
    "xinput = xgb.DMatrix(test,feature_names=test.columns.values)\n",
    "output = bst.predict(xinput)\n"
   ]
  },
  {
   "cell_type": "code",
   "execution_count": 297,
   "metadata": {},
   "outputs": [
    {
     "data": {
      "text/plain": [
       "array([0.7135165 , 0.62390155, 0.47008756, 0.7433323 , 0.8542719 ,\n",
       "       0.2674133 , 0.8335879 , 0.03020565, 0.38973132, 0.04527185,\n",
       "       0.12770577, 0.0147976 , 0.14479329, 0.03020565, 0.23821078,\n",
       "       0.02189701, 0.0204688 , 0.10983729, 0.03373932, 0.0147976 ,\n",
       "       0.25462103, 0.8130185 , 0.07264808, 0.03251867, 0.02189701,\n",
       "       0.19064471, 0.04805447, 0.0147976 , 0.2572422 , 0.4842946 ,\n",
       "       0.0147976 , 0.0147976 , 0.6487985 ], dtype=float32)"
      ]
     },
     "execution_count": 297,
     "metadata": {},
     "output_type": "execute_result"
    }
   ],
   "source": [
    "output"
   ]
  },
  {
   "cell_type": "code",
   "execution_count": 298,
   "metadata": {},
   "outputs": [],
   "source": [
    "import csv\n",
    "\n",
    "path = '/Users/liaoshousan/Desktop/3rd-ML100Days/Homework/Kaggle 期中競賽/submit_test1.csv'\n",
    "\n",
    "def storFile(data,fileName):\n",
    "    data = list(map(lambda x:[x],data))\n",
    "    with open(fileName,'w',newline ='') as f:\n",
    "        mywrite = csv.writer(f)\n",
    "        for i in data:\n",
    "            mywrite.writerow(i)\n",
    "\n",
    "storFile(output, path)"
   ]
  },
  {
   "cell_type": "code",
   "execution_count": null,
   "metadata": {},
   "outputs": [],
   "source": []
  },
  {
   "cell_type": "code",
   "execution_count": null,
   "metadata": {},
   "outputs": [],
   "source": []
  }
 ],
 "metadata": {
  "kernelspec": {
   "display_name": "Python 3",
   "language": "python",
   "name": "python3"
  },
  "language_info": {
   "codemirror_mode": {
    "name": "ipython",
    "version": 3
   },
   "file_extension": ".py",
   "mimetype": "text/x-python",
   "name": "python",
   "nbconvert_exporter": "python",
   "pygments_lexer": "ipython3",
   "version": "3.6.3"
  }
 },
 "nbformat": 4,
 "nbformat_minor": 2
}
