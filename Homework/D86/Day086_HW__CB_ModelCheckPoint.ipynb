{
 "cells": [
  {
   "cell_type": "markdown",
   "metadata": {},
   "source": [
    "## 範例重點\n",
    "* 學習如何在 keras 中加入 model checkpoint\n",
    "* 知道如何設定監控目標\n",
    "* 比較使用最佳與非最佳參數時的 performance"
   ]
  },
  {
   "cell_type": "code",
   "execution_count": 1,
   "metadata": {},
   "outputs": [
    {
     "name": "stderr",
     "output_type": "stream",
     "text": [
      "Using TensorFlow backend.\n",
      "/Users/liaoshousan/opt/anaconda3/lib/python3.7/site-packages/tensorflow/python/framework/dtypes.py:526: FutureWarning: Passing (type, 1) or '1type' as a synonym of type is deprecated; in a future version of numpy, it will be understood as (type, (1,)) / '(1,)type'.\n",
      "  _np_qint8 = np.dtype([(\"qint8\", np.int8, 1)])\n",
      "/Users/liaoshousan/opt/anaconda3/lib/python3.7/site-packages/tensorflow/python/framework/dtypes.py:527: FutureWarning: Passing (type, 1) or '1type' as a synonym of type is deprecated; in a future version of numpy, it will be understood as (type, (1,)) / '(1,)type'.\n",
      "  _np_quint8 = np.dtype([(\"quint8\", np.uint8, 1)])\n",
      "/Users/liaoshousan/opt/anaconda3/lib/python3.7/site-packages/tensorflow/python/framework/dtypes.py:528: FutureWarning: Passing (type, 1) or '1type' as a synonym of type is deprecated; in a future version of numpy, it will be understood as (type, (1,)) / '(1,)type'.\n",
      "  _np_qint16 = np.dtype([(\"qint16\", np.int16, 1)])\n",
      "/Users/liaoshousan/opt/anaconda3/lib/python3.7/site-packages/tensorflow/python/framework/dtypes.py:529: FutureWarning: Passing (type, 1) or '1type' as a synonym of type is deprecated; in a future version of numpy, it will be understood as (type, (1,)) / '(1,)type'.\n",
      "  _np_quint16 = np.dtype([(\"quint16\", np.uint16, 1)])\n",
      "/Users/liaoshousan/opt/anaconda3/lib/python3.7/site-packages/tensorflow/python/framework/dtypes.py:530: FutureWarning: Passing (type, 1) or '1type' as a synonym of type is deprecated; in a future version of numpy, it will be understood as (type, (1,)) / '(1,)type'.\n",
      "  _np_qint32 = np.dtype([(\"qint32\", np.int32, 1)])\n",
      "/Users/liaoshousan/opt/anaconda3/lib/python3.7/site-packages/tensorflow/python/framework/dtypes.py:535: FutureWarning: Passing (type, 1) or '1type' as a synonym of type is deprecated; in a future version of numpy, it will be understood as (type, (1,)) / '(1,)type'.\n",
      "  np_resource = np.dtype([(\"resource\", np.ubyte, 1)])\n"
     ]
    }
   ],
   "source": [
    "import os\n",
    "import keras\n"
   ]
  },
  {
   "cell_type": "code",
   "execution_count": 2,
   "metadata": {},
   "outputs": [],
   "source": [
    "train, test = keras.datasets.cifar10.load_data()"
   ]
  },
  {
   "cell_type": "code",
   "execution_count": 3,
   "metadata": {},
   "outputs": [],
   "source": [
    "## 資料前處理\n",
    "def preproc_x(x, flatten=True):\n",
    "    x = x / 255.\n",
    "    if flatten:\n",
    "        x = x.reshape((len(x), -1))\n",
    "    return x\n",
    "\n",
    "def preproc_y(y, num_classes=10):\n",
    "    if y.shape[-1] == 1:\n",
    "        y = keras.utils.to_categorical(y, num_classes)\n",
    "    return y    "
   ]
  },
  {
   "cell_type": "code",
   "execution_count": 4,
   "metadata": {},
   "outputs": [],
   "source": [
    "x_train, y_train = train\n",
    "x_test, y_test = test\n",
    "\n",
    "# 資料前處理 - X 標準化\n",
    "x_train = preproc_x(x_train)\n",
    "x_test = preproc_x(x_test)\n",
    "\n",
    "# 資料前處理 -Y 轉成 onehot\n",
    "y_train = preproc_y(y_train)\n",
    "y_test = preproc_y(y_test)"
   ]
  },
  {
   "cell_type": "code",
   "execution_count": 5,
   "metadata": {},
   "outputs": [],
   "source": [
    "from keras.layers import BatchNormalization\n",
    "\n",
    "\"\"\"\n",
    "建立神經網路，並加入 BN layer\n",
    "\"\"\"\n",
    "def build_mlp(input_shape, output_units=10, num_neurons=[512, 256, 128]):\n",
    "    input_layer = keras.layers.Input(input_shape)\n",
    "    \n",
    "    for i, n_units in enumerate(num_neurons):\n",
    "        if i == 0:\n",
    "            x = keras.layers.Dense(units=n_units, \n",
    "                                   activation=\"relu\", \n",
    "                                   name=\"hidden_layer\"+str(i+1))(input_layer)\n",
    "            x = BatchNormalization()(x)\n",
    "        else:\n",
    "            x = keras.layers.Dense(units=n_units, \n",
    "                                   activation=\"relu\", \n",
    "                                   name=\"hidden_layer\"+str(i+1))(x)\n",
    "            x = BatchNormalization()(x)\n",
    "    \n",
    "    out = keras.layers.Dense(units=output_units, activation=\"softmax\", name=\"output\")(x)\n",
    "    \n",
    "    model = keras.models.Model(inputs=[input_layer], outputs=[out])\n",
    "    return model"
   ]
  },
  {
   "cell_type": "code",
   "execution_count": 6,
   "metadata": {},
   "outputs": [],
   "source": [
    "## 超參數設定\n",
    "LEARNING_RATE = 1e-3\n",
    "EPOCHS = 50\n",
    "BATCH_SIZE = 1024\n",
    "MOMENTUM = 0.95"
   ]
  },
  {
   "cell_type": "code",
   "execution_count": 7,
   "metadata": {},
   "outputs": [],
   "source": [
    "\"\"\"\n",
    "# 載入 Callbacks, 並將監控目標設為 validation loss, 且只存最佳參數時的模型\n",
    "\"\"\"\n",
    "from keras.callbacks import ModelCheckpoint\n",
    "\n",
    "model_ckpt = ModelCheckpoint(filepath=\"./tmp.h5\", \n",
    "                             monitor=\"val_loss\", \n",
    "                             save_best_only=True)"
   ]
  },
  {
   "cell_type": "code",
   "execution_count": 9,
   "metadata": {
    "scrolled": true
   },
   "outputs": [
    {
     "name": "stdout",
     "output_type": "stream",
     "text": [
      "Model: \"model_2\"\n",
      "_________________________________________________________________\n",
      "Layer (type)                 Output Shape              Param #   \n",
      "=================================================================\n",
      "input_2 (InputLayer)         (None, 3072)              0         \n",
      "_________________________________________________________________\n",
      "hidden_layer1 (Dense)        (None, 512)               1573376   \n",
      "_________________________________________________________________\n",
      "batch_normalization_4 (Batch (None, 512)               2048      \n",
      "_________________________________________________________________\n",
      "hidden_layer2 (Dense)        (None, 256)               131328    \n",
      "_________________________________________________________________\n",
      "batch_normalization_5 (Batch (None, 256)               1024      \n",
      "_________________________________________________________________\n",
      "hidden_layer3 (Dense)        (None, 128)               32896     \n",
      "_________________________________________________________________\n",
      "batch_normalization_6 (Batch (None, 128)               512       \n",
      "_________________________________________________________________\n",
      "output (Dense)               (None, 10)                1290      \n",
      "=================================================================\n",
      "Total params: 1,742,474\n",
      "Trainable params: 1,740,682\n",
      "Non-trainable params: 1,792\n",
      "_________________________________________________________________\n",
      "Train on 50000 samples, validate on 10000 samples\n",
      "Epoch 1/50\n",
      "50000/50000 [==============================] - 13s 260us/step - loss: 2.1899 - accuracy: 0.2754 - val_loss: 2.0846 - val_accuracy: 0.2161\n",
      "Epoch 2/50\n",
      "50000/50000 [==============================] - 12s 248us/step - loss: 1.7283 - accuracy: 0.4003 - val_loss: 1.9513 - val_accuracy: 0.2910\n",
      "Epoch 3/50\n",
      "50000/50000 [==============================] - 11s 220us/step - loss: 1.6043 - accuracy: 0.4392 - val_loss: 1.8063 - val_accuracy: 0.3646\n",
      "Epoch 4/50\n",
      "50000/50000 [==============================] - 10s 203us/step - loss: 1.5320 - accuracy: 0.4642 - val_loss: 1.7015 - val_accuracy: 0.4043\n",
      "Epoch 5/50\n",
      "50000/50000 [==============================] - 10s 201us/step - loss: 1.4816 - accuracy: 0.4836 - val_loss: 1.6326 - val_accuracy: 0.4225\n",
      "Epoch 6/50\n",
      "50000/50000 [==============================] - 10s 203us/step - loss: 1.4372 - accuracy: 0.4985 - val_loss: 1.5976 - val_accuracy: 0.4367\n",
      "Epoch 7/50\n",
      "50000/50000 [==============================] - 10s 200us/step - loss: 1.3990 - accuracy: 0.5125 - val_loss: 1.5495 - val_accuracy: 0.4518\n",
      "Epoch 8/50\n",
      "50000/50000 [==============================] - 10s 206us/step - loss: 1.3648 - accuracy: 0.5260 - val_loss: 1.5229 - val_accuracy: 0.4627\n",
      "Epoch 9/50\n",
      "50000/50000 [==============================] - 10s 201us/step - loss: 1.3331 - accuracy: 0.5360 - val_loss: 1.5184 - val_accuracy: 0.4615\n",
      "Epoch 10/50\n",
      "50000/50000 [==============================] - 11s 212us/step - loss: 1.3046 - accuracy: 0.5479 - val_loss: 1.4974 - val_accuracy: 0.4658\n",
      "Epoch 11/50\n",
      "50000/50000 [==============================] - 11s 211us/step - loss: 1.2771 - accuracy: 0.5575 - val_loss: 1.4978 - val_accuracy: 0.4679\n",
      "Epoch 12/50\n",
      "50000/50000 [==============================] - 10s 203us/step - loss: 1.2531 - accuracy: 0.5649 - val_loss: 1.4767 - val_accuracy: 0.4800\n",
      "Epoch 13/50\n",
      "50000/50000 [==============================] - 10s 201us/step - loss: 1.2271 - accuracy: 0.5743 - val_loss: 1.4813 - val_accuracy: 0.4764\n",
      "Epoch 14/50\n",
      "50000/50000 [==============================] - 10s 206us/step - loss: 1.2031 - accuracy: 0.5844 - val_loss: 1.4696 - val_accuracy: 0.4768\n",
      "Epoch 15/50\n",
      "50000/50000 [==============================] - 10s 203us/step - loss: 1.1779 - accuracy: 0.5936 - val_loss: 1.4689 - val_accuracy: 0.4778\n",
      "Epoch 16/50\n",
      "50000/50000 [==============================] - 10s 204us/step - loss: 1.1547 - accuracy: 0.6027 - val_loss: 1.4628 - val_accuracy: 0.4823\n",
      "Epoch 17/50\n",
      "50000/50000 [==============================] - 10s 203us/step - loss: 1.1328 - accuracy: 0.6109 - val_loss: 1.4638 - val_accuracy: 0.4834\n",
      "Epoch 18/50\n",
      "50000/50000 [==============================] - 10s 203us/step - loss: 1.1107 - accuracy: 0.6209 - val_loss: 1.4557 - val_accuracy: 0.4838\n",
      "Epoch 19/50\n",
      "50000/50000 [==============================] - 11s 220us/step - loss: 1.0863 - accuracy: 0.6292 - val_loss: 1.4540 - val_accuracy: 0.4904\n",
      "Epoch 20/50\n",
      "50000/50000 [==============================] - 11s 228us/step - loss: 1.0635 - accuracy: 0.6388 - val_loss: 1.4677 - val_accuracy: 0.4860\n",
      "Epoch 21/50\n",
      "50000/50000 [==============================] - 10s 210us/step - loss: 1.0439 - accuracy: 0.6457 - val_loss: 1.4600 - val_accuracy: 0.4854\n",
      "Epoch 22/50\n",
      "50000/50000 [==============================] - 11s 213us/step - loss: 1.0239 - accuracy: 0.6529 - val_loss: 1.4610 - val_accuracy: 0.4870\n",
      "Epoch 23/50\n",
      "50000/50000 [==============================] - 10s 203us/step - loss: 1.0020 - accuracy: 0.6628 - val_loss: 1.4634 - val_accuracy: 0.4862\n",
      "Epoch 24/50\n",
      "50000/50000 [==============================] - 10s 209us/step - loss: 0.9798 - accuracy: 0.6698 - val_loss: 1.4645 - val_accuracy: 0.4893\n",
      "Epoch 25/50\n",
      "50000/50000 [==============================] - 10s 205us/step - loss: 0.9606 - accuracy: 0.6775 - val_loss: 1.4826 - val_accuracy: 0.4831\n",
      "Epoch 26/50\n",
      "50000/50000 [==============================] - 10s 203us/step - loss: 0.9409 - accuracy: 0.6852 - val_loss: 1.4702 - val_accuracy: 0.4914\n",
      "Epoch 27/50\n",
      "50000/50000 [==============================] - 10s 205us/step - loss: 0.9203 - accuracy: 0.6932 - val_loss: 1.4729 - val_accuracy: 0.4874\n",
      "Epoch 28/50\n",
      "50000/50000 [==============================] - 16s 314us/step - loss: 0.9005 - accuracy: 0.6999 - val_loss: 1.4713 - val_accuracy: 0.4899\n",
      "Epoch 29/50\n",
      "50000/50000 [==============================] - 19s 381us/step - loss: 0.8801 - accuracy: 0.7091 - val_loss: 1.4871 - val_accuracy: 0.4863\n",
      "Epoch 30/50\n",
      "50000/50000 [==============================] - 13s 263us/step - loss: 0.8611 - accuracy: 0.7157 - val_loss: 1.4889 - val_accuracy: 0.4935\n",
      "Epoch 31/50\n",
      "50000/50000 [==============================] - 13s 259us/step - loss: 0.8408 - accuracy: 0.7231 - val_loss: 1.4869 - val_accuracy: 0.4955\n",
      "Epoch 32/50\n",
      "50000/50000 [==============================] - 14s 271us/step - loss: 0.8207 - accuracy: 0.7319 - val_loss: 1.5159 - val_accuracy: 0.4889\n",
      "Epoch 33/50\n",
      "50000/50000 [==============================] - 14s 288us/step - loss: 0.8017 - accuracy: 0.7378 - val_loss: 1.5204 - val_accuracy: 0.4840\n",
      "Epoch 34/50\n",
      "50000/50000 [==============================] - 14s 271us/step - loss: 0.7838 - accuracy: 0.7460 - val_loss: 1.5196 - val_accuracy: 0.4876\n",
      "Epoch 35/50\n",
      "50000/50000 [==============================] - 17s 332us/step - loss: 0.7649 - accuracy: 0.7531 - val_loss: 1.5088 - val_accuracy: 0.4905\n",
      "Epoch 36/50\n",
      "50000/50000 [==============================] - 15s 303us/step - loss: 0.7461 - accuracy: 0.7612 - val_loss: 1.5256 - val_accuracy: 0.4870\n",
      "Epoch 37/50\n",
      "50000/50000 [==============================] - 17s 341us/step - loss: 0.7254 - accuracy: 0.7692 - val_loss: 1.5312 - val_accuracy: 0.4876\n",
      "Epoch 38/50\n",
      "50000/50000 [==============================] - 15s 308us/step - loss: 0.7070 - accuracy: 0.7767 - val_loss: 1.5599 - val_accuracy: 0.4821\n",
      "Epoch 39/50\n",
      "50000/50000 [==============================] - 20s 396us/step - loss: 0.6887 - accuracy: 0.7834 - val_loss: 1.5811 - val_accuracy: 0.4795\n",
      "Epoch 40/50\n",
      "50000/50000 [==============================] - 15s 292us/step - loss: 0.6699 - accuracy: 0.7934 - val_loss: 1.5660 - val_accuracy: 0.4907\n",
      "Epoch 41/50\n",
      "50000/50000 [==============================] - 25s 501us/step - loss: 0.6522 - accuracy: 0.8004 - val_loss: 1.6041 - val_accuracy: 0.4855\n",
      "Epoch 42/50\n",
      "50000/50000 [==============================] - 28s 568us/step - loss: 0.6341 - accuracy: 0.8065 - val_loss: 1.5958 - val_accuracy: 0.4829\n",
      "Epoch 43/50\n",
      "50000/50000 [==============================] - 21s 426us/step - loss: 0.6145 - accuracy: 0.8148 - val_loss: 1.5989 - val_accuracy: 0.4896\n",
      "Epoch 44/50\n",
      "50000/50000 [==============================] - 17s 345us/step - loss: 0.5983 - accuracy: 0.8214 - val_loss: 1.6086 - val_accuracy: 0.4874\n",
      "Epoch 45/50\n",
      "50000/50000 [==============================] - 16s 324us/step - loss: 0.5799 - accuracy: 0.8280 - val_loss: 1.6351 - val_accuracy: 0.4853\n"
     ]
    },
    {
     "name": "stdout",
     "output_type": "stream",
     "text": [
      "Epoch 46/50\n",
      "50000/50000 [==============================] - 17s 336us/step - loss: 0.5642 - accuracy: 0.8350 - val_loss: 1.6419 - val_accuracy: 0.4789\n",
      "Epoch 47/50\n",
      "50000/50000 [==============================] - 14s 270us/step - loss: 0.5467 - accuracy: 0.8408 - val_loss: 1.6411 - val_accuracy: 0.4869\n",
      "Epoch 48/50\n",
      "50000/50000 [==============================] - 20s 396us/step - loss: 0.5302 - accuracy: 0.8483 - val_loss: 1.6639 - val_accuracy: 0.4815\n",
      "Epoch 49/50\n",
      "50000/50000 [==============================] - 20s 403us/step - loss: 0.5112 - accuracy: 0.8569 - val_loss: 1.6869 - val_accuracy: 0.4805\n",
      "Epoch 50/50\n",
      "50000/50000 [==============================] - 19s 387us/step - loss: 0.4952 - accuracy: 0.8632 - val_loss: 1.6704 - val_accuracy: 0.4880\n",
      "10000/10000 [==============================] - 3s 315us/step\n"
     ]
    }
   ],
   "source": [
    "model = build_mlp(input_shape=x_train.shape[1:])\n",
    "model.summary()\n",
    "optimizer = keras.optimizers.SGD(lr=LEARNING_RATE, nesterov=True, momentum=MOMENTUM)\n",
    "model.compile(loss=\"categorical_crossentropy\", metrics=[\"accuracy\"], optimizer=optimizer)\n",
    "\n",
    "model.fit(x_train, y_train, \n",
    "          epochs=EPOCHS, \n",
    "          batch_size=BATCH_SIZE, \n",
    "          validation_data=(x_test, y_test), \n",
    "          shuffle=True,\n",
    "          callbacks=[model_ckpt]\n",
    "         )\n",
    "\n",
    "# Collect results\n",
    "train_loss = model.history.history[\"loss\"]\n",
    "valid_loss = model.history.history[\"val_loss\"]\n",
    "train_acc = model.history.history[\"accuracy\"]\n",
    "valid_acc = model.history.history[\"val_accuracy\"]\n",
    "\n",
    "# Load back\n",
    "model = keras.models.load_model(\"./tmp.h5\")\n",
    "loss_loadback, acc_loadback = model.evaluate(x_test, y_test)"
   ]
  },
  {
   "cell_type": "code",
   "execution_count": 10,
   "metadata": {},
   "outputs": [
    {
     "data": {
      "image/png": "[encoded data removed]",
      "text/plain": [
       "<Figure size 432x288 with 1 Axes>"
      ]
     },
     "metadata": {
      "needs_background": "light"
     },
     "output_type": "display_data"
    },
    {
     "data": {
      "image/png": "[encoded data removed]",
      "text/plain": [
       "<Figure size 432x288 with 1 Axes>"
      ]
     },
     "metadata": {
      "needs_background": "light"
     },
     "output_type": "display_data"
    }
   ],
   "source": [
    "import matplotlib.pyplot as plt\n",
    "%matplotlib inline\n",
    "\n",
    "plt.plot(range(len(train_loss)), train_loss, label=\"train loss\")\n",
    "plt.plot(range(len(valid_loss)), valid_loss, label=\"valid loss\")\n",
    "plt.hlines(y=loss_loadback, xmin=0, xmax=len(train_loss), colors='r', linestyles='--')\n",
    "plt.legend()\n",
    "plt.title(\"Loss\")\n",
    "plt.show()\n",
    "\n",
    "plt.plot(range(len(train_acc)), train_acc, label=\"train accuracy\")\n",
    "plt.plot(range(len(valid_acc)), valid_acc, label=\"valid accuracy\")\n",
    "plt.hlines(y=acc_loadback, xmin=0, xmax=len(train_loss), colors='r', linestyles='--')\n",
    "plt.legend()\n",
    "plt.title(\"Accuracy\")\n",
    "plt.show()"
   ]
  },
  {
   "cell_type": "markdown",
   "metadata": {},
   "source": [
    "## save_weights_only = True, 並輸出為temp_2.h5"
   ]
  },
  {
   "cell_type": "code",
   "execution_count": 15,
   "metadata": {},
   "outputs": [],
   "source": [
    "from keras.callbacks import ModelCheckpoint\n",
    "\n",
    "model_ckpt_2 = ModelCheckpoint(filepath=\"./tmp_2.h5\", \n",
    "                             monitor=\"val_loss\", \n",
    "                             save_best_only=True,\n",
    "                              save_weights_only = True)"
   ]
  },
  {
   "cell_type": "code",
   "execution_count": 28,
   "metadata": {},
   "outputs": [
    {
     "name": "stdout",
     "output_type": "stream",
     "text": [
      "Model: \"model_6\"\n",
      "_________________________________________________________________\n",
      "Layer (type)                 Output Shape              Param #   \n",
      "=================================================================\n",
      "input_6 (InputLayer)         (None, 3072)              0         \n",
      "_________________________________________________________________\n",
      "hidden_layer1 (Dense)        (None, 512)               1573376   \n",
      "_________________________________________________________________\n",
      "batch_normalization_16 (Batc (None, 512)               2048      \n",
      "_________________________________________________________________\n",
      "hidden_layer2 (Dense)        (None, 256)               131328    \n",
      "_________________________________________________________________\n",
      "batch_normalization_17 (Batc (None, 256)               1024      \n",
      "_________________________________________________________________\n",
      "hidden_layer3 (Dense)        (None, 128)               32896     \n",
      "_________________________________________________________________\n",
      "batch_normalization_18 (Batc (None, 128)               512       \n",
      "_________________________________________________________________\n",
      "output (Dense)               (None, 10)                1290      \n",
      "=================================================================\n",
      "Total params: 1,742,474\n",
      "Trainable params: 1,740,682\n",
      "Non-trainable params: 1,792\n",
      "_________________________________________________________________\n",
      "Train on 50000 samples, validate on 10000 samples\n",
      "Epoch 1/50\n",
      "50000/50000 [==============================] - 17s 334us/step - loss: 2.1752 - accuracy: 0.2778 - val_loss: 2.1472 - val_accuracy: 0.2078\n",
      "Epoch 2/50\n",
      "50000/50000 [==============================] - 15s 294us/step - loss: 1.7372 - accuracy: 0.3966 - val_loss: 1.9671 - val_accuracy: 0.2997\n",
      "Epoch 3/50\n",
      "50000/50000 [==============================] - 20s 392us/step - loss: 1.6158 - accuracy: 0.4350 - val_loss: 1.8213 - val_accuracy: 0.3596\n",
      "Epoch 4/50\n",
      "50000/50000 [==============================] - 28s 555us/step - loss: 1.5442 - accuracy: 0.4598 - val_loss: 1.7027 - val_accuracy: 0.4092\n",
      "Epoch 5/50\n",
      "50000/50000 [==============================] - 21s 410us/step - loss: 1.4906 - accuracy: 0.4796 - val_loss: 1.6529 - val_accuracy: 0.4131\n",
      "Epoch 6/50\n",
      "50000/50000 [==============================] - 29s 577us/step - loss: 1.4481 - accuracy: 0.4941 - val_loss: 1.5870 - val_accuracy: 0.4416\n",
      "Epoch 7/50\n",
      "50000/50000 [==============================] - 32s 649us/step - loss: 1.4089 - accuracy: 0.5067 - val_loss: 1.5517 - val_accuracy: 0.4514\n",
      "Epoch 8/50\n",
      "50000/50000 [==============================] - 30s 598us/step - loss: 1.3736 - accuracy: 0.5218 - val_loss: 1.5303 - val_accuracy: 0.4543\n",
      "Epoch 9/50\n",
      "50000/50000 [==============================] - 68s 1ms/step - loss: 1.3411 - accuracy: 0.5319 - val_loss: 1.5191 - val_accuracy: 0.4599\n",
      "Epoch 10/50\n",
      "50000/50000 [==============================] - 34s 678us/step - loss: 1.3116 - accuracy: 0.5435 - val_loss: 1.5050 - val_accuracy: 0.4667\n",
      "Epoch 11/50\n",
      "50000/50000 [==============================] - 24s 485us/step - loss: 1.2838 - accuracy: 0.5533 - val_loss: 1.4996 - val_accuracy: 0.4676\n",
      "Epoch 12/50\n",
      "50000/50000 [==============================] - 19s 385us/step - loss: 1.2564 - accuracy: 0.5644 - val_loss: 1.4971 - val_accuracy: 0.4656\n",
      "Epoch 13/50\n",
      "50000/50000 [==============================] - 21s 426us/step - loss: 1.2302 - accuracy: 0.5727 - val_loss: 1.4770 - val_accuracy: 0.4766\n",
      "Epoch 14/50\n",
      "50000/50000 [==============================] - 18s 363us/step - loss: 1.2073 - accuracy: 0.5836 - val_loss: 1.4760 - val_accuracy: 0.4779\n",
      "Epoch 15/50\n",
      "50000/50000 [==============================] - 18s 365us/step - loss: 1.1814 - accuracy: 0.5920 - val_loss: 1.4728 - val_accuracy: 0.4819\n",
      "Epoch 16/50\n",
      "50000/50000 [==============================] - 19s 380us/step - loss: 1.1579 - accuracy: 0.6011 - val_loss: 1.4690 - val_accuracy: 0.4829\n",
      "Epoch 17/50\n",
      "50000/50000 [==============================] - 20s 401us/step - loss: 1.1344 - accuracy: 0.6097 - val_loss: 1.4652 - val_accuracy: 0.4868\n",
      "Epoch 18/50\n",
      "50000/50000 [==============================] - 30s 603us/step - loss: 1.1132 - accuracy: 0.6201 - val_loss: 1.4874 - val_accuracy: 0.4803\n",
      "Epoch 19/50\n",
      "50000/50000 [==============================] - 37s 744us/step - loss: 1.0903 - accuracy: 0.6270 - val_loss: 1.4634 - val_accuracy: 0.4859\n",
      "Epoch 20/50\n",
      "50000/50000 [==============================] - 54s 1ms/step - loss: 1.0688 - accuracy: 0.6342 - val_loss: 1.4620 - val_accuracy: 0.4928\n",
      "Epoch 21/50\n",
      "50000/50000 [==============================] - 50s 997us/step - loss: 1.0466 - accuracy: 0.6436 - val_loss: 1.4613 - val_accuracy: 0.4886\n",
      "Epoch 22/50\n",
      "50000/50000 [==============================] - 28s 568us/step - loss: 1.0260 - accuracy: 0.6520 - val_loss: 1.4602 - val_accuracy: 0.4903\n",
      "Epoch 23/50\n",
      "50000/50000 [==============================] - 59s 1ms/step - loss: 1.0063 - accuracy: 0.6577 - val_loss: 1.4759 - val_accuracy: 0.4903\n",
      "Epoch 24/50\n",
      "50000/50000 [==============================] - 81s 2ms/step - loss: 0.9846 - accuracy: 0.6682 - val_loss: 1.4783 - val_accuracy: 0.4951\n",
      "Epoch 25/50\n",
      "50000/50000 [==============================] - 114s 2ms/step - loss: 0.9657 - accuracy: 0.6752 - val_loss: 1.4575 - val_accuracy: 0.4932\n",
      "Epoch 26/50\n",
      "50000/50000 [==============================] - 88s 2ms/step - loss: 0.9455 - accuracy: 0.6834 - val_loss: 1.4635 - val_accuracy: 0.4964\n",
      "Epoch 27/50\n",
      "50000/50000 [==============================] - 125s 3ms/step - loss: 0.9264 - accuracy: 0.6894 - val_loss: 1.4912 - val_accuracy: 0.4854\n",
      "Epoch 28/50\n",
      "50000/50000 [==============================] - 59s 1ms/step - loss: 0.9063 - accuracy: 0.6977 - val_loss: 1.4684 - val_accuracy: 0.4969\n",
      "Epoch 29/50\n",
      "50000/50000 [==============================] - 81s 2ms/step - loss: 0.8841 - accuracy: 0.7060 - val_loss: 1.4790 - val_accuracy: 0.4938\n",
      "Epoch 30/50\n",
      "50000/50000 [==============================] - 28s 569us/step - loss: 0.8657 - accuracy: 0.7138 - val_loss: 1.4800 - val_accuracy: 0.5018\n",
      "Epoch 31/50\n",
      "50000/50000 [==============================] - 41s 821us/step - loss: 0.8466 - accuracy: 0.7219 - val_loss: 1.4858 - val_accuracy: 0.4964\n",
      "Epoch 32/50\n",
      "50000/50000 [==============================] - 80s 2ms/step - loss: 0.8265 - accuracy: 0.7292 - val_loss: 1.4947 - val_accuracy: 0.4969\n",
      "Epoch 33/50\n",
      "50000/50000 [==============================] - 102s 2ms/step - loss: 0.8051 - accuracy: 0.7391 - val_loss: 1.4960 - val_accuracy: 0.4970\n",
      "Epoch 34/50\n",
      "50000/50000 [==============================] - 124s 2ms/step - loss: 0.7866 - accuracy: 0.7468 - val_loss: 1.5090 - val_accuracy: 0.4971\n",
      "Epoch 35/50\n",
      "50000/50000 [==============================] - 98s 2ms/step - loss: 0.7702 - accuracy: 0.7527 - val_loss: 1.5036 - val_accuracy: 0.4985\n",
      "Epoch 36/50\n",
      "50000/50000 [==============================] - 57s 1ms/step - loss: 0.7496 - accuracy: 0.7596 - val_loss: 1.5157 - val_accuracy: 0.4959\n",
      "Epoch 37/50\n",
      "50000/50000 [==============================] - 45s 903us/step - loss: 0.7307 - accuracy: 0.7678 - val_loss: 1.5420 - val_accuracy: 0.4993\n",
      "Epoch 38/50\n",
      "50000/50000 [==============================] - 39s 781us/step - loss: 0.7112 - accuracy: 0.7752 - val_loss: 1.5286 - val_accuracy: 0.5049\n",
      "Epoch 39/50\n",
      "50000/50000 [==============================] - 31s 629us/step - loss: 0.6913 - accuracy: 0.7835 - val_loss: 1.5483 - val_accuracy: 0.4987\n",
      "Epoch 40/50\n",
      "50000/50000 [==============================] - 25s 493us/step - loss: 0.6744 - accuracy: 0.7903 - val_loss: 1.5501 - val_accuracy: 0.4907\n",
      "Epoch 41/50\n",
      "50000/50000 [==============================] - 21s 415us/step - loss: 0.6578 - accuracy: 0.7946 - val_loss: 1.5555 - val_accuracy: 0.4965\n",
      "Epoch 42/50\n",
      "50000/50000 [==============================] - 19s 385us/step - loss: 0.6390 - accuracy: 0.8020 - val_loss: 1.5836 - val_accuracy: 0.4950\n",
      "Epoch 43/50\n",
      "50000/50000 [==============================] - 19s 375us/step - loss: 0.6194 - accuracy: 0.8108 - val_loss: 1.5830 - val_accuracy: 0.4972\n",
      "Epoch 44/50\n",
      "50000/50000 [==============================] - 20s 402us/step - loss: 0.6031 - accuracy: 0.8179 - val_loss: 1.5844 - val_accuracy: 0.4969\n",
      "Epoch 45/50\n",
      "50000/50000 [==============================] - 18s 367us/step - loss: 0.5855 - accuracy: 0.8247 - val_loss: 1.6144 - val_accuracy: 0.5039\n",
      "Epoch 46/50\n"
     ]
    },
    {
     "name": "stdout",
     "output_type": "stream",
     "text": [
      "50000/50000 [==============================] - 20s 397us/step - loss: 0.5692 - accuracy: 0.8297 - val_loss: 1.6273 - val_accuracy: 0.4870\n",
      "Epoch 47/50\n",
      "50000/50000 [==============================] - 21s 416us/step - loss: 0.5516 - accuracy: 0.8403 - val_loss: 1.6413 - val_accuracy: 0.4897\n",
      "Epoch 48/50\n",
      "50000/50000 [==============================] - 19s 372us/step - loss: 0.5344 - accuracy: 0.8459 - val_loss: 1.6277 - val_accuracy: 0.4946\n",
      "Epoch 49/50\n",
      "50000/50000 [==============================] - 21s 410us/step - loss: 0.5157 - accuracy: 0.8534 - val_loss: 1.6336 - val_accuracy: 0.4940\n",
      "Epoch 50/50\n",
      "50000/50000 [==============================] - 15s 306us/step - loss: 0.5013 - accuracy: 0.8584 - val_loss: 1.6944 - val_accuracy: 0.4871\n"
     ]
    }
   ],
   "source": [
    "model_2 = build_mlp(input_shape=x_train.shape[1:])\n",
    "model.summary()\n",
    "optimizer = keras.optimizers.SGD(lr=LEARNING_RATE, nesterov=True, momentum=MOMENTUM)\n",
    "model_2.compile(loss=\"categorical_crossentropy\", metrics=[\"accuracy\"], optimizer=optimizer)\n",
    "\n",
    "model_2.fit(x_train, y_train, \n",
    "          epochs=50, \n",
    "          batch_size=BATCH_SIZE, \n",
    "          validation_data=(x_test, y_test), \n",
    "          shuffle=True,\n",
    "          callbacks=[model_ckpt_2]\n",
    "         )\n",
    "\n",
    "# Collect results\n",
    "train_loss = model_2.history.history[\"loss\"]\n",
    "valid_loss = model_2.history.history[\"val_loss\"]\n",
    "train_acc = model_2.history.history[\"accuracy\"]\n",
    "valid_acc = model_2.history.history[\"val_accuracy\"]\n",
    "\n"
   ]
  },
  {
   "cell_type": "code",
   "execution_count": 29,
   "metadata": {},
   "outputs": [
    {
     "name": "stdout",
     "output_type": "stream",
     "text": [
      "Model: \"model_6\"\n",
      "_________________________________________________________________\n",
      "Layer (type)                 Output Shape              Param #   \n",
      "=================================================================\n",
      "input_6 (InputLayer)         (None, 3072)              0         \n",
      "_________________________________________________________________\n",
      "hidden_layer1 (Dense)        (None, 512)               1573376   \n",
      "_________________________________________________________________\n",
      "batch_normalization_16 (Batc (None, 512)               2048      \n",
      "_________________________________________________________________\n",
      "hidden_layer2 (Dense)        (None, 256)               131328    \n",
      "_________________________________________________________________\n",
      "batch_normalization_17 (Batc (None, 256)               1024      \n",
      "_________________________________________________________________\n",
      "hidden_layer3 (Dense)        (None, 128)               32896     \n",
      "_________________________________________________________________\n",
      "batch_normalization_18 (Batc (None, 128)               512       \n",
      "_________________________________________________________________\n",
      "output (Dense)               (None, 10)                1290      \n",
      "=================================================================\n",
      "Total params: 1,742,474\n",
      "Trainable params: 1,740,682\n",
      "Non-trainable params: 1,792\n",
      "_________________________________________________________________\n"
     ]
    }
   ],
   "source": [
    "model_2 = build_mlp(input_shape=x_train.shape[1:])\n",
    "model.summary()\n",
    "optimizer = keras.optimizers.SGD(lr=LEARNING_RATE, nesterov=True, momentum=MOMENTUM)\n",
    "model_2.compile(loss=\"categorical_crossentropy\", metrics=[\"accuracy\"], optimizer=optimizer)\n"
   ]
  },
  {
   "cell_type": "markdown",
   "metadata": {},
   "source": [
    "### 將temp_2.h5載入模型"
   ]
  },
  {
   "cell_type": "code",
   "execution_count": 30,
   "metadata": {},
   "outputs": [
    {
     "name": "stdout",
     "output_type": "stream",
     "text": [
      "10000/10000 [==============================] - 5s 464us/step\n"
     ]
    }
   ],
   "source": [
    "# Load back\n",
    "model_2.load_weights(\"./tmp_2.h5\")\n",
    "loss_loadback_2, acc_loadback_2 = model_2.evaluate(x_test, y_test)\n"
   ]
  },
  {
   "cell_type": "code",
   "execution_count": null,
   "metadata": {},
   "outputs": [],
   "source": []
  }
 ],
 "metadata": {
  "kernelspec": {
   "display_name": "Python 3",
   "language": "python",
   "name": "python3"
  },
  "language_info": {
   "codemirror_mode": {
    "name": "ipython",
    "version": 3
   },
   "file_extension": ".py",
   "mimetype": "text/x-python",
   "name": "python",
   "nbconvert_exporter": "python",
   "pygments_lexer": "ipython3",
   "version": "3.7.4"
  }
 },
 "nbformat": 4,
 "nbformat_minor": 2
}
