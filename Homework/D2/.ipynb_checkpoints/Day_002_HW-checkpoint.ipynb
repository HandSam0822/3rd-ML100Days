{
 "cells": [
  {
   "cell_type": "markdown",
   "metadata": {},
   "source": [
    "## [作業目標]\n",
    "了解機器學習適合應用的領域與範疇。"
   ]
  },
  {
   "cell_type": "markdown",
   "metadata": {},
   "source": [
    "## [作業重點]\n",
    "透過瞭解機器學習的運作方式，找出非常適用機器學習應用的領域及其原因"
   ]
  },
  {
   "cell_type": "markdown",
   "metadata": {},
   "source": [
    "## 作業\n",
    "請找出一個你認為機器學習可以發光發熱的領域並闡述原因?\n",
    "\n",
    "After reading a relatively intriguing artical, i was convinced to believe that we would well develop machine learning in \"Movie Industry.\"In 2016, IBM's Watson made a promotion spot for the 2016 thriller \"Morgan\" by categorizing emotional moments in the film, although a human editor was still needed to polish it up. IBM scientists said that the machine learning system Watson assembled a trailer it considered \"suspenseful\" by analyzing the film visually to identify characters, objects and scenery.It also consulted an internal database to identify emotions and interpret the mood of music to determine whether a scene was supposed to be eerie, frightening or tender.\n",
    "\n",
    "In2019, CFO at Netflix said in July that the Los Gatos, California, company is investing in technology that can index characters and scenes in a movie so that our trailer creators can really focus their time and energy on the creative process.\n",
    "\n",
    "Though some experts in Hollywood doubt that whether AI can ever surpass its makers, others maintian that the technology may never match the creativity of flesh-and-blood editors.Hence, since now we could only conclude that machine learning can help reduce the time required to make a trailer, and even personalize trailers to different audiences, its practice on movie industry still remains expectful and potential."
   ]
  },
  {
   "cell_type": "code",
   "execution_count": null,
   "metadata": {},
   "outputs": [],
   "source": []
  }
 ],
 "metadata": {
  "kernelspec": {
   "display_name": "Python 3",
   "language": "python",
   "name": "python3"
  },
  "language_info": {
   "codemirror_mode": {
    "name": "ipython",
    "version": 3
   },
   "file_extension": ".py",
   "mimetype": "text/x-python",
   "name": "python",
   "nbconvert_exporter": "python",
   "pygments_lexer": "ipython3",
   "version": "3.6.3"
  }
 },
 "nbformat": 4,
 "nbformat_minor": 2
}
