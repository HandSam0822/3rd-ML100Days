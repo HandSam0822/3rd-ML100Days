{
  "nbformat": 4,
  "nbformat_minor": 0,
  "metadata": {
    "colab": {
      "name": "D85 使用 callbacks 函數做 earlystop ",
      "provenance": [],
      "authorship_tag": "ABX9TyNx63taFPm28F1f8S6+Fol5",
      "include_colab_link": true
    },
    "kernelspec": {
      "name": "python3",
      "display_name": "Python 3"
    },
    "accelerator": "GPU"
  },
  "cells": [
    {
      "cell_type": "markdown",
      "metadata": {
        "id": "view-in-github",
        "colab_type": "text"
      },
      "source": [
        "<a href=\"https://colab.research.google.com/github/sam19980822/3rd-ML100Days/blob/master/D85_%E4%BD%BF%E7%94%A8_callbacks_%E5%87%BD%E6%95%B8%E5%81%9A_earlystop.ipynb\" target=\"_parent\"><img src=\"https://colab.research.google.com/assets/colab-badge.svg\" alt=\"Open In Colab\"/></a>"
      ]
    },
    {
      "cell_type": "code",
      "metadata": {
        "id": "NhK6DBgkKW7n",
        "colab_type": "code",
        "colab": {
          "base_uri": "https://localhost:8080/",
          "height": 80
        },
        "outputId": "095a19e0-b906-4b51-8812-cd2ccddc9d7a"
      },
      "source": [
        "import os\n",
        "import keras\n",
        "import itertools\n",
        "import matplotlib.pyplot as plt\n",
        "from keras.layers import BatchNormalization,Dropout\n",
        "from keras import regularizers\n",
        "from keras.callbacks import EarlyStopping\n"
      ],
      "execution_count": 1,
      "outputs": [
        {
          "output_type": "stream",
          "text": [
            "Using TensorFlow backend.\n"
          ],
          "name": "stderr"
        },
        {
          "output_type": "display_data",
          "data": {
            "text/html": [
              "<p style=\"color: red;\">\n",
              "The default version of TensorFlow in Colab will soon switch to TensorFlow 2.x.<br>\n",
              "We recommend you <a href=\"https://www.tensorflow.org/guide/migrate\" target=\"_blank\">upgrade</a> now \n",
              "or ensure your notebook will continue to use TensorFlow 1.x via the <code>%tensorflow_version 1.x</code> magic:\n",
              "<a href=\"https://colab.research.google.com/notebooks/tensorflow_version.ipynb\" target=\"_blank\">more info</a>.</p>\n"
            ],
            "text/plain": [
              "<IPython.core.display.HTML object>"
            ]
          },
          "metadata": {
            "tags": []
          }
        }
      ]
    },
    {
      "cell_type": "code",
      "metadata": {
        "id": "F0Fr2xWqKXAe",
        "colab_type": "code",
        "colab": {
          "base_uri": "https://localhost:8080/",
          "height": 51
        },
        "outputId": "30c12e60-b6c4-4d1f-f12c-e9016110510a"
      },
      "source": [
        "train, test = keras.datasets.cifar10.load_data()"
      ],
      "execution_count": 2,
      "outputs": [
        {
          "output_type": "stream",
          "text": [
            "Downloading data from https://www.cs.toronto.edu/~kriz/cifar-10-python.tar.gz\n",
            "170500096/170498071 [==============================] - 2s 0us/step\n"
          ],
          "name": "stdout"
        }
      ]
    },
    {
      "cell_type": "code",
      "metadata": {
        "id": "DkoQ8njgKvno",
        "colab_type": "code",
        "colab": {}
      },
      "source": [
        "## 資料前處理\n",
        "def preproc_x(x, flatten=True):\n",
        "    x = x / 255.\n",
        "    if flatten:\n",
        "        x = x.reshape((len(x), -1))\n",
        "    return x\n",
        "\n",
        "def preproc_y(y, num_classes=10):\n",
        "    if y.shape[-1] == 1:\n",
        "        y = keras.utils.to_categorical(y, num_classes)\n",
        "    return y    "
      ],
      "execution_count": 0,
      "outputs": []
    },
    {
      "cell_type": "code",
      "metadata": {
        "id": "-1WuC9PLKxzS",
        "colab_type": "code",
        "colab": {}
      },
      "source": [
        "x_train, y_train = train\n",
        "x_test, y_test = test\n",
        "\n",
        "# Preproc the inputs\n",
        "x_train = preproc_x(x_train)\n",
        "x_test = preproc_x(x_test)\n",
        "\n",
        "# Preprc the outputs\n",
        "y_train = preproc_y(y_train)\n",
        "y_test = preproc_y(y_test)"
      ],
      "execution_count": 0,
      "outputs": []
    },
    {
      "cell_type": "code",
      "metadata": {
        "id": "_Xw77P1_Kx4z",
        "colab_type": "code",
        "colab": {}
      },
      "source": [
        "## 超參數設定\n",
        "LEARNING_RATE = 1e-3\n",
        "EPOCHS = 50\n",
        "BATCH_SIZE = 1024\n",
        "MOMENTUM = 0.95"
      ],
      "execution_count": 0,
      "outputs": []
    },
    {
      "cell_type": "code",
      "metadata": {
        "id": "Npf2-FciLEGF",
        "colab_type": "code",
        "colab": {}
      },
      "source": [
        "from keras.layers import BatchNormalization\n",
        "\n",
        "\"\"\"\n",
        "建立神經網路，並加入 BN layer\n",
        "\"\"\"\n",
        "def build_mlp(input_shape, output_units=10, num_neurons=[512, 256, 128]):\n",
        "    input_layer = keras.layers.Input(input_shape)\n",
        "    \n",
        "    for i, n_units in enumerate(num_neurons):\n",
        "        if i == 0:\n",
        "            x = keras.layers.Dense(units=n_units, \n",
        "                                   activation=\"relu\", \n",
        "                                   name=\"hidden_layer\"+str(i+1))(input_layer)\n",
        "            x = BatchNormalization()(x)\n",
        "        else:\n",
        "            x = keras.layers.Dense(units=n_units, \n",
        "                                   activation=\"relu\", \n",
        "                                   name=\"hidden_layer\"+str(i+1))(x)\n",
        "            x = BatchNormalization()(x)\n",
        "    \n",
        "    out = keras.layers.Dense(units=output_units, activation=\"softmax\", name=\"output\")(x)\n",
        "    \n",
        "    model = keras.models.Model(inputs=[input_layer], outputs=[out])\n",
        "    return model"
      ],
      "execution_count": 0,
      "outputs": []
    },
    {
      "cell_type": "code",
      "metadata": {
        "id": "MoZ2k7WMMqUJ",
        "colab_type": "code",
        "colab": {
          "base_uri": "https://localhost:8080/",
          "height": 649
        },
        "outputId": "7d0097fa-4194-45d8-bf38-de074518c688"
      },
      "source": [
        "model = build_mlp(input_shape=x_train.shape[1:])\n",
        "model.summary()\n",
        "optimizer = keras.optimizers.SGD(lr=LEARNING_RATE, nesterov=True, momentum=MOMENTUM)\n",
        "model.compile(loss=\"categorical_crossentropy\", metrics=[\"accuracy\"], optimizer=optimizer)"
      ],
      "execution_count": 7,
      "outputs": [
        {
          "output_type": "stream",
          "text": [
            "WARNING:tensorflow:From /usr/local/lib/python3.6/dist-packages/keras/backend/tensorflow_backend.py:66: The name tf.get_default_graph is deprecated. Please use tf.compat.v1.get_default_graph instead.\n",
            "\n",
            "WARNING:tensorflow:From /usr/local/lib/python3.6/dist-packages/keras/backend/tensorflow_backend.py:541: The name tf.placeholder is deprecated. Please use tf.compat.v1.placeholder instead.\n",
            "\n",
            "WARNING:tensorflow:From /usr/local/lib/python3.6/dist-packages/keras/backend/tensorflow_backend.py:4432: The name tf.random_uniform is deprecated. Please use tf.random.uniform instead.\n",
            "\n",
            "WARNING:tensorflow:From /usr/local/lib/python3.6/dist-packages/keras/backend/tensorflow_backend.py:148: The name tf.placeholder_with_default is deprecated. Please use tf.compat.v1.placeholder_with_default instead.\n",
            "\n",
            "Model: \"model_1\"\n",
            "_________________________________________________________________\n",
            "Layer (type)                 Output Shape              Param #   \n",
            "=================================================================\n",
            "input_1 (InputLayer)         (None, 3072)              0         \n",
            "_________________________________________________________________\n",
            "hidden_layer1 (Dense)        (None, 512)               1573376   \n",
            "_________________________________________________________________\n",
            "batch_normalization_1 (Batch (None, 512)               2048      \n",
            "_________________________________________________________________\n",
            "hidden_layer2 (Dense)        (None, 256)               131328    \n",
            "_________________________________________________________________\n",
            "batch_normalization_2 (Batch (None, 256)               1024      \n",
            "_________________________________________________________________\n",
            "hidden_layer3 (Dense)        (None, 128)               32896     \n",
            "_________________________________________________________________\n",
            "batch_normalization_3 (Batch (None, 128)               512       \n",
            "_________________________________________________________________\n",
            "output (Dense)               (None, 10)                1290      \n",
            "=================================================================\n",
            "Total params: 1,742,474\n",
            "Trainable params: 1,740,682\n",
            "Non-trainable params: 1,792\n",
            "_________________________________________________________________\n",
            "WARNING:tensorflow:From /usr/local/lib/python3.6/dist-packages/keras/optimizers.py:793: The name tf.train.Optimizer is deprecated. Please use tf.compat.v1.train.Optimizer instead.\n",
            "\n",
            "WARNING:tensorflow:From /usr/local/lib/python3.6/dist-packages/keras/backend/tensorflow_backend.py:3576: The name tf.log is deprecated. Please use tf.math.log instead.\n",
            "\n"
          ],
          "name": "stdout"
        }
      ]
    },
    {
      "cell_type": "markdown",
      "metadata": {
        "id": "2en25VM-M3IU",
        "colab_type": "text"
      },
      "source": [
        "## 什麼都不動"
      ]
    },
    {
      "cell_type": "code",
      "metadata": {
        "id": "ldDPbd9GLhxx",
        "colab_type": "code",
        "colab": {}
      },
      "source": [
        "earlystop_1 = EarlyStopping(monitor=\"val_loss\", \n",
        "                          patience=5, \n",
        "                          verbose=1\n",
        "                          )"
      ],
      "execution_count": 0,
      "outputs": []
    },
    {
      "cell_type": "code",
      "metadata": {
        "id": "pRaOOlWXLbSc",
        "colab_type": "code",
        "colab": {
          "base_uri": "https://localhost:8080/",
          "height": 1000
        },
        "outputId": "cd19c936-a30b-47ed-c583-0546f15dc8e1"
      },
      "source": [
        "model.fit(x_train, y_train, \n",
        "          epochs=EPOCHS, \n",
        "          batch_size=BATCH_SIZE, \n",
        "          validation_data=(x_test, y_test), \n",
        "          shuffle=True,\n",
        "          callbacks=[earlystop_1]\n",
        "         )\n",
        "\n",
        "# Collect results\n",
        "train_loss1 = model.history.history[\"loss\"]\n",
        "valid_loss1 = model.history.history[\"val_loss\"]\n",
        "train_acc1 = model.history.history[\"acc\"]\n",
        "valid_acc1 = model.history.history[\"val_acc\"]"
      ],
      "execution_count": 9,
      "outputs": [
        {
          "output_type": "stream",
          "text": [
            "WARNING:tensorflow:From /usr/local/lib/python3.6/dist-packages/tensorflow_core/python/ops/math_grad.py:1424: where (from tensorflow.python.ops.array_ops) is deprecated and will be removed in a future version.\n",
            "Instructions for updating:\n",
            "Use tf.where in 2.0, which has the same broadcast rule as np.where\n",
            "WARNING:tensorflow:From /usr/local/lib/python3.6/dist-packages/keras/backend/tensorflow_backend.py:1033: The name tf.assign_add is deprecated. Please use tf.compat.v1.assign_add instead.\n",
            "\n",
            "WARNING:tensorflow:From /usr/local/lib/python3.6/dist-packages/keras/backend/tensorflow_backend.py:1020: The name tf.assign is deprecated. Please use tf.compat.v1.assign instead.\n",
            "\n",
            "WARNING:tensorflow:From /usr/local/lib/python3.6/dist-packages/keras/backend/tensorflow_backend.py:3005: The name tf.Session is deprecated. Please use tf.compat.v1.Session instead.\n",
            "\n",
            "Train on 50000 samples, validate on 10000 samples\n",
            "Epoch 1/50\n",
            "WARNING:tensorflow:From /usr/local/lib/python3.6/dist-packages/keras/backend/tensorflow_backend.py:190: The name tf.get_default_session is deprecated. Please use tf.compat.v1.get_default_session instead.\n",
            "\n",
            "WARNING:tensorflow:From /usr/local/lib/python3.6/dist-packages/keras/backend/tensorflow_backend.py:197: The name tf.ConfigProto is deprecated. Please use tf.compat.v1.ConfigProto instead.\n",
            "\n",
            "WARNING:tensorflow:From /usr/local/lib/python3.6/dist-packages/keras/backend/tensorflow_backend.py:207: The name tf.global_variables is deprecated. Please use tf.compat.v1.global_variables instead.\n",
            "\n",
            "WARNING:tensorflow:From /usr/local/lib/python3.6/dist-packages/keras/backend/tensorflow_backend.py:216: The name tf.is_variable_initialized is deprecated. Please use tf.compat.v1.is_variable_initialized instead.\n",
            "\n",
            "WARNING:tensorflow:From /usr/local/lib/python3.6/dist-packages/keras/backend/tensorflow_backend.py:223: The name tf.variables_initializer is deprecated. Please use tf.compat.v1.variables_initializer instead.\n",
            "\n",
            "50000/50000 [==============================] - 11s 222us/step - loss: 2.1927 - acc: 0.2736 - val_loss: 2.1033 - val_acc: 0.3256\n",
            "Epoch 2/50\n",
            "50000/50000 [==============================] - 1s 24us/step - loss: 1.7380 - acc: 0.3910 - val_loss: 1.7674 - val_acc: 0.3933\n",
            "Epoch 3/50\n",
            "50000/50000 [==============================] - 1s 24us/step - loss: 1.6145 - acc: 0.4337 - val_loss: 1.6698 - val_acc: 0.4162\n",
            "Epoch 4/50\n",
            "50000/50000 [==============================] - 1s 24us/step - loss: 1.5450 - acc: 0.4604 - val_loss: 1.6316 - val_acc: 0.4271\n",
            "Epoch 5/50\n",
            "50000/50000 [==============================] - 1s 24us/step - loss: 1.4875 - acc: 0.4799 - val_loss: 1.5852 - val_acc: 0.4387\n",
            "Epoch 6/50\n",
            "50000/50000 [==============================] - 1s 24us/step - loss: 1.4423 - acc: 0.4940 - val_loss: 1.5667 - val_acc: 0.4506\n",
            "Epoch 7/50\n",
            "50000/50000 [==============================] - 1s 25us/step - loss: 1.4035 - acc: 0.5080 - val_loss: 1.5387 - val_acc: 0.4621\n",
            "Epoch 8/50\n",
            "50000/50000 [==============================] - 1s 24us/step - loss: 1.3689 - acc: 0.5208 - val_loss: 1.5246 - val_acc: 0.4676\n",
            "Epoch 9/50\n",
            "50000/50000 [==============================] - 1s 24us/step - loss: 1.3369 - acc: 0.5323 - val_loss: 1.5121 - val_acc: 0.4660\n",
            "Epoch 10/50\n",
            "50000/50000 [==============================] - 1s 24us/step - loss: 1.3076 - acc: 0.5424 - val_loss: 1.5023 - val_acc: 0.4738\n",
            "Epoch 11/50\n",
            "50000/50000 [==============================] - 1s 24us/step - loss: 1.2792 - acc: 0.5534 - val_loss: 1.4927 - val_acc: 0.4776\n",
            "Epoch 12/50\n",
            "50000/50000 [==============================] - 1s 24us/step - loss: 1.2528 - acc: 0.5628 - val_loss: 1.4815 - val_acc: 0.4807\n",
            "Epoch 13/50\n",
            "50000/50000 [==============================] - 1s 24us/step - loss: 1.2264 - acc: 0.5733 - val_loss: 1.4858 - val_acc: 0.4786\n",
            "Epoch 14/50\n",
            "50000/50000 [==============================] - 1s 24us/step - loss: 1.2011 - acc: 0.5827 - val_loss: 1.4717 - val_acc: 0.4863\n",
            "Epoch 15/50\n",
            "50000/50000 [==============================] - 1s 24us/step - loss: 1.1770 - acc: 0.5931 - val_loss: 1.4718 - val_acc: 0.4807\n",
            "Epoch 16/50\n",
            "50000/50000 [==============================] - 1s 25us/step - loss: 1.1551 - acc: 0.5999 - val_loss: 1.4594 - val_acc: 0.4866\n",
            "Epoch 17/50\n",
            "50000/50000 [==============================] - 1s 24us/step - loss: 1.1293 - acc: 0.6110 - val_loss: 1.4696 - val_acc: 0.4896\n",
            "Epoch 18/50\n",
            "50000/50000 [==============================] - 1s 24us/step - loss: 1.1059 - acc: 0.6195 - val_loss: 1.4731 - val_acc: 0.4859\n",
            "Epoch 19/50\n",
            "50000/50000 [==============================] - 1s 24us/step - loss: 1.0850 - acc: 0.6276 - val_loss: 1.4624 - val_acc: 0.4875\n",
            "Epoch 20/50\n",
            "50000/50000 [==============================] - 1s 24us/step - loss: 1.0625 - acc: 0.6344 - val_loss: 1.4592 - val_acc: 0.4953\n",
            "Epoch 21/50\n",
            "50000/50000 [==============================] - 1s 24us/step - loss: 1.0396 - acc: 0.6440 - val_loss: 1.4601 - val_acc: 0.4903\n",
            "Epoch 22/50\n",
            "50000/50000 [==============================] - 1s 24us/step - loss: 1.0196 - acc: 0.6540 - val_loss: 1.4532 - val_acc: 0.4960\n",
            "Epoch 23/50\n",
            "50000/50000 [==============================] - 1s 24us/step - loss: 0.9975 - acc: 0.6610 - val_loss: 1.4664 - val_acc: 0.4987\n",
            "Epoch 24/50\n",
            "50000/50000 [==============================] - 1s 24us/step - loss: 0.9761 - acc: 0.6688 - val_loss: 1.4586 - val_acc: 0.4996\n",
            "Epoch 25/50\n",
            "50000/50000 [==============================] - 1s 24us/step - loss: 0.9572 - acc: 0.6773 - val_loss: 1.4776 - val_acc: 0.4929\n",
            "Epoch 26/50\n",
            "50000/50000 [==============================] - 1s 24us/step - loss: 0.9355 - acc: 0.6865 - val_loss: 1.4761 - val_acc: 0.4923\n",
            "Epoch 27/50\n",
            "50000/50000 [==============================] - 1s 24us/step - loss: 0.9146 - acc: 0.6938 - val_loss: 1.4653 - val_acc: 0.4962\n",
            "Epoch 00027: early stopping\n"
          ],
          "name": "stdout"
        }
      ]
    },
    {
      "cell_type": "markdown",
      "metadata": {
        "id": "z2gqUxYzKmae",
        "colab_type": "text"
      },
      "source": [
        "## 1.改變 monitor \"Validation Accuracy\" 並比較結果\n"
      ]
    },
    {
      "cell_type": "code",
      "metadata": {
        "id": "6DnZ8JIvLypm",
        "colab_type": "code",
        "colab": {}
      },
      "source": [
        "earlystop_2 = EarlyStopping(monitor=\"val_acc\", \n",
        "                          patience=5, \n",
        "                          verbose=1\n",
        "                          )"
      ],
      "execution_count": 0,
      "outputs": []
    },
    {
      "cell_type": "code",
      "metadata": {
        "id": "wfNEyr6JKXH0",
        "colab_type": "code",
        "colab": {
          "base_uri": "https://localhost:8080/",
          "height": 323
        },
        "outputId": "55d940a5-95ee-4886-cad1-9dca9125e9bb"
      },
      "source": [
        "\n",
        "model.fit(x_train, y_train, \n",
        "          epochs=EPOCHS, \n",
        "          batch_size=BATCH_SIZE, \n",
        "          validation_data=(x_test, y_test), \n",
        "          shuffle=True,\n",
        "          callbacks=[earlystop_2]\n",
        "         )\n",
        "\n",
        "# Collect results\n",
        "train_loss2 = model.history.history[\"loss\"]\n",
        "valid_loss2 = model.history.history[\"val_loss\"]\n",
        "train_acc2 = model.history.history[\"acc\"]\n",
        "valid_acc2 = model.history.history[\"val_acc\"]"
      ],
      "execution_count": 11,
      "outputs": [
        {
          "output_type": "stream",
          "text": [
            "Train on 50000 samples, validate on 10000 samples\n",
            "Epoch 1/50\n",
            "50000/50000 [==============================] - 1s 25us/step - loss: 0.8964 - acc: 0.6999 - val_loss: 1.4773 - val_acc: 0.5025\n",
            "Epoch 2/50\n",
            "50000/50000 [==============================] - 1s 24us/step - loss: 0.8749 - acc: 0.7097 - val_loss: 1.4815 - val_acc: 0.5025\n",
            "Epoch 3/50\n",
            "50000/50000 [==============================] - 1s 24us/step - loss: 0.8557 - acc: 0.7176 - val_loss: 1.4845 - val_acc: 0.5037\n",
            "Epoch 4/50\n",
            "50000/50000 [==============================] - 1s 24us/step - loss: 0.8352 - acc: 0.7268 - val_loss: 1.4977 - val_acc: 0.4974\n",
            "Epoch 5/50\n",
            "50000/50000 [==============================] - 1s 24us/step - loss: 0.8160 - acc: 0.7328 - val_loss: 1.4958 - val_acc: 0.4952\n",
            "Epoch 6/50\n",
            "50000/50000 [==============================] - 1s 25us/step - loss: 0.7979 - acc: 0.7403 - val_loss: 1.4981 - val_acc: 0.4991\n",
            "Epoch 7/50\n",
            "50000/50000 [==============================] - 1s 24us/step - loss: 0.7770 - acc: 0.7467 - val_loss: 1.5039 - val_acc: 0.5025\n",
            "Epoch 8/50\n",
            "50000/50000 [==============================] - 1s 24us/step - loss: 0.7592 - acc: 0.7551 - val_loss: 1.5364 - val_acc: 0.4964\n",
            "Epoch 00008: early stopping\n"
          ],
          "name": "stdout"
        }
      ]
    },
    {
      "cell_type": "markdown",
      "metadata": {
        "id": "DmNfrkIFKqfJ",
        "colab_type": "text"
      },
      "source": [
        "## 2.調整 earlystop 的等待次數至 10, 25 並比較結果"
      ]
    },
    {
      "cell_type": "code",
      "metadata": {
        "id": "7Qalmt2LKrVO",
        "colab_type": "code",
        "colab": {}
      },
      "source": [
        "earlystop_3 = EarlyStopping(monitor=\"val_loss\", \n",
        "                          patience=10, \n",
        "                          verbose=1\n",
        "                          )"
      ],
      "execution_count": 0,
      "outputs": []
    },
    {
      "cell_type": "code",
      "metadata": {
        "id": "Vmks3EWDMAJX",
        "colab_type": "code",
        "colab": {
          "base_uri": "https://localhost:8080/",
          "height": 459
        },
        "outputId": "f34cdce5-01e7-458f-ed39-5f659ec2b0b5"
      },
      "source": [
        "\n",
        "model.fit(x_train, y_train, \n",
        "          epochs=EPOCHS, \n",
        "          batch_size=BATCH_SIZE, \n",
        "          validation_data=(x_test, y_test), \n",
        "          shuffle=True,\n",
        "          callbacks=[earlystop_3]\n",
        "         )\n",
        "\n",
        "# Collect results\n",
        "train_loss3 = model.history.history[\"loss\"]\n",
        "valid_loss3 = model.history.history[\"val_loss\"]\n",
        "train_acc3 = model.history.history[\"acc\"]\n",
        "valid_acc3 = model.history.history[\"val_acc\"]"
      ],
      "execution_count": 13,
      "outputs": [
        {
          "output_type": "stream",
          "text": [
            "Train on 50000 samples, validate on 10000 samples\n",
            "Epoch 1/50\n",
            "50000/50000 [==============================] - 1s 24us/step - loss: 0.7393 - acc: 0.7625 - val_loss: 1.5570 - val_acc: 0.4881\n",
            "Epoch 2/50\n",
            "50000/50000 [==============================] - 1s 24us/step - loss: 0.7216 - acc: 0.7700 - val_loss: 1.5253 - val_acc: 0.4982\n",
            "Epoch 3/50\n",
            "50000/50000 [==============================] - 1s 24us/step - loss: 0.7019 - acc: 0.7762 - val_loss: 1.5599 - val_acc: 0.4969\n",
            "Epoch 4/50\n",
            "50000/50000 [==============================] - 1s 24us/step - loss: 0.6840 - acc: 0.7846 - val_loss: 1.5437 - val_acc: 0.4917\n",
            "Epoch 5/50\n",
            "50000/50000 [==============================] - 1s 24us/step - loss: 0.6638 - acc: 0.7933 - val_loss: 1.5700 - val_acc: 0.4982\n",
            "Epoch 6/50\n",
            "50000/50000 [==============================] - 1s 24us/step - loss: 0.6478 - acc: 0.7978 - val_loss: 1.5798 - val_acc: 0.4945\n",
            "Epoch 7/50\n",
            "50000/50000 [==============================] - 1s 24us/step - loss: 0.6296 - acc: 0.8065 - val_loss: 1.5837 - val_acc: 0.4964\n",
            "Epoch 8/50\n",
            "50000/50000 [==============================] - 1s 24us/step - loss: 0.6111 - acc: 0.8138 - val_loss: 1.5842 - val_acc: 0.4946\n",
            "Epoch 9/50\n",
            "50000/50000 [==============================] - 1s 24us/step - loss: 0.5921 - acc: 0.8232 - val_loss: 1.5889 - val_acc: 0.4959\n",
            "Epoch 10/50\n",
            "50000/50000 [==============================] - 1s 24us/step - loss: 0.5759 - acc: 0.8285 - val_loss: 1.6085 - val_acc: 0.4965\n",
            "Epoch 11/50\n",
            "50000/50000 [==============================] - 1s 24us/step - loss: 0.5592 - acc: 0.8347 - val_loss: 1.6303 - val_acc: 0.4889\n",
            "Epoch 12/50\n",
            "50000/50000 [==============================] - 1s 24us/step - loss: 0.5441 - acc: 0.8411 - val_loss: 1.6384 - val_acc: 0.4941\n",
            "Epoch 00012: early stopping\n"
          ],
          "name": "stdout"
        }
      ]
    },
    {
      "cell_type": "code",
      "metadata": {
        "id": "R--0feE5MAPe",
        "colab_type": "code",
        "colab": {}
      },
      "source": [
        "earlystop_4 = EarlyStopping(monitor=\"val_loss\", \n",
        "                          patience=25, \n",
        "                          verbose=1\n",
        "                          )"
      ],
      "execution_count": 0,
      "outputs": []
    },
    {
      "cell_type": "code",
      "metadata": {
        "id": "jMFQZSFhMANm",
        "colab_type": "code",
        "colab": {
          "base_uri": "https://localhost:8080/",
          "height": 969
        },
        "outputId": "ce5d715a-f303-47ac-f540-ea9c0e54c6c6"
      },
      "source": [
        "\n",
        "model.fit(x_train, y_train, \n",
        "          epochs=EPOCHS, \n",
        "          batch_size=BATCH_SIZE, \n",
        "          validation_data=(x_test, y_test), \n",
        "          shuffle=True,\n",
        "          callbacks=[earlystop_4]\n",
        "         )\n",
        "\n",
        "# Collect results\n",
        "train_loss4 = model.history.history[\"loss\"]\n",
        "valid_loss4 = model.history.history[\"val_loss\"]\n",
        "train_acc4 = model.history.history[\"acc\"]\n",
        "valid_acc4 = model.history.history[\"val_acc\"]"
      ],
      "execution_count": 15,
      "outputs": [
        {
          "output_type": "stream",
          "text": [
            "Train on 50000 samples, validate on 10000 samples\n",
            "Epoch 1/50\n",
            "50000/50000 [==============================] - 1s 24us/step - loss: 0.5259 - acc: 0.8484 - val_loss: 1.6852 - val_acc: 0.4881\n",
            "Epoch 2/50\n",
            "50000/50000 [==============================] - 1s 24us/step - loss: 0.5095 - acc: 0.8554 - val_loss: 1.6604 - val_acc: 0.4915\n",
            "Epoch 3/50\n",
            "50000/50000 [==============================] - 1s 24us/step - loss: 0.4932 - acc: 0.8617 - val_loss: 1.6662 - val_acc: 0.4946\n",
            "Epoch 4/50\n",
            "50000/50000 [==============================] - 1s 24us/step - loss: 0.4769 - acc: 0.8687 - val_loss: 1.6914 - val_acc: 0.4917\n",
            "Epoch 5/50\n",
            "50000/50000 [==============================] - 1s 24us/step - loss: 0.4613 - acc: 0.8741 - val_loss: 1.6859 - val_acc: 0.4955\n",
            "Epoch 6/50\n",
            "50000/50000 [==============================] - 1s 24us/step - loss: 0.4462 - acc: 0.8798 - val_loss: 1.7153 - val_acc: 0.4920\n",
            "Epoch 7/50\n",
            "50000/50000 [==============================] - 1s 24us/step - loss: 0.4303 - acc: 0.8870 - val_loss: 1.7211 - val_acc: 0.4923\n",
            "Epoch 8/50\n",
            "50000/50000 [==============================] - 1s 24us/step - loss: 0.4147 - acc: 0.8932 - val_loss: 1.7490 - val_acc: 0.4939\n",
            "Epoch 9/50\n",
            "50000/50000 [==============================] - 1s 24us/step - loss: 0.4010 - acc: 0.8980 - val_loss: 1.7669 - val_acc: 0.4833\n",
            "Epoch 10/50\n",
            "50000/50000 [==============================] - 1s 24us/step - loss: 0.3874 - acc: 0.9036 - val_loss: 1.7801 - val_acc: 0.4883\n",
            "Epoch 11/50\n",
            "50000/50000 [==============================] - 1s 24us/step - loss: 0.3718 - acc: 0.9088 - val_loss: 1.7865 - val_acc: 0.4874\n",
            "Epoch 12/50\n",
            "50000/50000 [==============================] - 1s 24us/step - loss: 0.3599 - acc: 0.9124 - val_loss: 1.8269 - val_acc: 0.4930\n",
            "Epoch 13/50\n",
            "50000/50000 [==============================] - 1s 24us/step - loss: 0.3459 - acc: 0.9196 - val_loss: 1.8393 - val_acc: 0.4875\n",
            "Epoch 14/50\n",
            "50000/50000 [==============================] - 1s 24us/step - loss: 0.3333 - acc: 0.9237 - val_loss: 1.8354 - val_acc: 0.4920\n",
            "Epoch 15/50\n",
            "50000/50000 [==============================] - 1s 24us/step - loss: 0.3203 - acc: 0.9287 - val_loss: 1.8492 - val_acc: 0.4894\n",
            "Epoch 16/50\n",
            "50000/50000 [==============================] - 1s 24us/step - loss: 0.3078 - acc: 0.9341 - val_loss: 1.8780 - val_acc: 0.4895\n",
            "Epoch 17/50\n",
            "50000/50000 [==============================] - 1s 24us/step - loss: 0.2965 - acc: 0.9368 - val_loss: 1.8846 - val_acc: 0.4827\n",
            "Epoch 18/50\n",
            "50000/50000 [==============================] - 1s 24us/step - loss: 0.2851 - acc: 0.9417 - val_loss: 1.8979 - val_acc: 0.4848\n",
            "Epoch 19/50\n",
            "50000/50000 [==============================] - 1s 23us/step - loss: 0.2738 - acc: 0.9454 - val_loss: 1.9531 - val_acc: 0.4835\n",
            "Epoch 20/50\n",
            "50000/50000 [==============================] - 1s 24us/step - loss: 0.2617 - acc: 0.9499 - val_loss: 1.9240 - val_acc: 0.4857\n",
            "Epoch 21/50\n",
            "50000/50000 [==============================] - 1s 24us/step - loss: 0.2527 - acc: 0.9531 - val_loss: 1.9318 - val_acc: 0.4851\n",
            "Epoch 22/50\n",
            "50000/50000 [==============================] - 1s 24us/step - loss: 0.2432 - acc: 0.9553 - val_loss: 1.9543 - val_acc: 0.4805\n",
            "Epoch 23/50\n",
            "50000/50000 [==============================] - 1s 24us/step - loss: 0.2325 - acc: 0.9576 - val_loss: 1.9672 - val_acc: 0.4849\n",
            "Epoch 24/50\n",
            "50000/50000 [==============================] - 1s 24us/step - loss: 0.2233 - acc: 0.9608 - val_loss: 2.0075 - val_acc: 0.4821\n",
            "Epoch 25/50\n",
            "50000/50000 [==============================] - 1s 24us/step - loss: 0.2157 - acc: 0.9646 - val_loss: 1.9868 - val_acc: 0.4851\n",
            "Epoch 26/50\n",
            "50000/50000 [==============================] - 1s 24us/step - loss: 0.2054 - acc: 0.9683 - val_loss: 2.0387 - val_acc: 0.4785\n",
            "Epoch 27/50\n",
            "50000/50000 [==============================] - 1s 24us/step - loss: 0.1959 - acc: 0.9695 - val_loss: 2.0504 - val_acc: 0.4856\n",
            "Epoch 00027: early stopping\n"
          ],
          "name": "stdout"
        }
      ]
    },
    {
      "cell_type": "markdown",
      "metadata": {
        "id": "wJl_4qe3OX5h",
        "colab_type": "text"
      },
      "source": [
        "## 結論：\n",
        "1.使用val_loss,patience=5 , 在第27epoch停住，train_acc=0.6938, val_loss = 1.4  \n",
        "2.使用val_acc, patience=5 , 在第08epoch停住，train_acc=0.7551, val_loss = 1.5  \n",
        "3.使用val_loss, patience=10 , 在第12epoch停住，train_acc=0.8411, val_loss = 1.6  \n",
        "4.使用val_loss, patience=25 , 在第27epoch停住，train_acc=0.9695, val_loss = 2.1  "
      ]
    },
    {
      "cell_type": "markdown",
      "metadata": {
        "id": "zgBAHMSXPpM0",
        "colab_type": "text"
      },
      "source": [
        "## 整體來說，patience不要訂太高，使用val_acc會最好"
      ]
    },
    {
      "cell_type": "code",
      "metadata": {
        "id": "nvBxVJhKPZJo",
        "colab_type": "code",
        "colab": {}
      },
      "source": [
        ""
      ],
      "execution_count": 0,
      "outputs": []
    }
  ]
}