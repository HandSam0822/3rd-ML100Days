{
  "nbformat": 4,
  "nbformat_minor": 0,
  "metadata": {
    "colab": {
      "name": "Day078_CheckBeforeTrain HW",
      "provenance": [],
      "include_colab_link": true
    },
    "kernelspec": {
      "name": "python3",
      "display_name": "Python 3"
    },
    "accelerator": "GPU"
  },
  "cells": [
    {
      "cell_type": "markdown",
      "metadata": {
        "id": "view-in-github",
        "colab_type": "text"
      },
      "source": [
        "<a href=\"https://colab.research.google.com/github/sam19980822/3rd-ML100Days/blob/master/Day078_CheckBeforeTrain_HW.ipynb\" target=\"_parent\"><img src=\"https://colab.research.google.com/assets/colab-badge.svg\" alt=\"Open In Colab\"/></a>"
      ]
    },
    {
      "cell_type": "code",
      "metadata": {
        "id": "Sh8wWSdUdfUm",
        "colab_type": "code",
        "outputId": "ccc15028-f0b1-4632-b305-754bbe525496",
        "colab": {
          "base_uri": "https://localhost:8080/",
          "height": 81
        }
      },
      "source": [
        "from __future__ import print_function\n",
        "import keras\n",
        "from keras.datasets import cifar10\n",
        "from keras.preprocessing.image import ImageDataGenerator\n",
        "from keras.models import Sequential\n",
        "from keras.layers import Dense, Dropout, Activation, Flatten\n",
        "from keras.layers import Conv2D, MaxPooling2D\n",
        "import os\n",
        "from keras import optimizers\n"
      ],
      "execution_count": 1,
      "outputs": [
        {
          "output_type": "stream",
          "text": [
            "Using TensorFlow backend.\n"
          ],
          "name": "stderr"
        },
        {
          "output_type": "display_data",
          "data": {
            "text/html": [
              "<p style=\"color: red;\">\n",
              "The default version of TensorFlow in Colab will soon switch to TensorFlow 2.x.<br>\n",
              "We recommend you <a href=\"https://www.tensorflow.org/guide/migrate\" target=\"_blank\">upgrade</a> now \n",
              "or ensure your notebook will continue to use TensorFlow 1.x via the <code>%tensorflow_version 1.x</code> magic:\n",
              "<a href=\"https://colab.research.google.com/notebooks/tensorflow_version.ipynb\" target=\"_blank\">more info</a>.</p>\n"
            ],
            "text/plain": [
              "<IPython.core.display.HTML object>"
            ]
          },
          "metadata": {
            "tags": []
          }
        }
      ]
    },
    {
      "cell_type": "code",
      "metadata": {
        "id": "xDxonizDdk5x",
        "colab_type": "code",
        "colab": {}
      },
      "source": [
        "#Blas GEMM launch failed , 避免動態分配GPU / CPU, 出現問題\n",
        "import tensorflow as tf\n",
        "# gpu_options = tf.GPUOptions(per_process_gpu_memory_fraction=0.333) 這行沒用，要改成以下兩行才可跑\n",
        "gpu_options = tf.compat.v1.GPUOptions(per_process_gpu_memory_fraction=0.333)\n",
        "sess = tf.compat.v1.Session(config=tf.compat.v1.ConfigProto(gpu_options=gpu_options))\n"
      ],
      "execution_count": 0,
      "outputs": []
    },
    {
      "cell_type": "code",
      "metadata": {
        "id": "BFZTkL3mdk8o",
        "colab_type": "code",
        "outputId": "176c3eb8-5472-4f40-db80-6df12b13f7d4",
        "colab": {
          "base_uri": "https://localhost:8080/",
          "height": 52
        }
      },
      "source": [
        "# 從 Keras 的內建功能中，取得 train 與 test 資料集\n",
        "train, test = keras.datasets.cifar10.load_data()"
      ],
      "execution_count": 3,
      "outputs": [
        {
          "output_type": "stream",
          "text": [
            "Downloading data from https://www.cs.toronto.edu/~kriz/cifar-10-python.tar.gz\n",
            "170500096/170498071 [==============================] - 6s 0us/step\n"
          ],
          "name": "stdout"
        }
      ]
    },
    {
      "cell_type": "code",
      "metadata": {
        "id": "ytnT-IzTdk_e",
        "colab_type": "code",
        "colab": {}
      },
      "source": [
        "## 資料前處理ape\n",
        "def preproc_x(x, flatten=True):\n",
        "    x = x / 255.\n",
        "    if flatten:\n",
        "        x = x.reshape((len(x), -1))\n",
        "    return x\n",
        "\n",
        "def preproc_y(y, num_classes=10):\n",
        "    if y.shape[-1] == 1:\n",
        "        y = keras.utils.to_categorical(y, num_classes)\n",
        "    return y    "
      ],
      "execution_count": 0,
      "outputs": []
    },
    {
      "cell_type": "code",
      "metadata": {
        "id": "0k2GAPtZdlCh",
        "colab_type": "code",
        "colab": {}
      },
      "source": [
        "x_train, y_train = train\n",
        "x_test, y_test = test\n",
        "\n",
        "# 資料前處理 - X 標準化\n",
        "x_train = preproc_x(x_train)\n",
        "x_test = preproc_x(x_test)\n",
        "\n",
        "# 資料前處理 -Y 轉成 onehot\n",
        "y_train = preproc_y(y_train)\n",
        "y_test = preproc_y(y_test)"
      ],
      "execution_count": 0,
      "outputs": []
    },
    {
      "cell_type": "code",
      "metadata": {
        "id": "nqs3votR2hVz",
        "colab_type": "code",
        "colab": {
          "base_uri": "https://localhost:8080/",
          "height": 34
        },
        "outputId": "ba908768-d9be-4668-b00c-735e253bd1fa"
      },
      "source": [
        "x_train.shape"
      ],
      "execution_count": 24,
      "outputs": [
        {
          "output_type": "execute_result",
          "data": {
            "text/plain": [
              "(50000, 3072)"
            ]
          },
          "metadata": {
            "tags": []
          },
          "execution_count": 24
        }
      ]
    },
    {
      "cell_type": "code",
      "metadata": {
        "id": "gzRlDsvFdlFx",
        "colab_type": "code",
        "colab": {}
      },
      "source": [
        "def build_mlp(input_shape, output_units=10, num_neurons=[512, 256, 128]):\n",
        "    input_layer = keras.layers.Input(input_shape)\n",
        "    \n",
        "    for i, n_units in enumerate(num_neurons):\n",
        "        if i == 0:\n",
        "            x = keras.layers.Dense(units=n_units, activation=\"relu\", name=\"hidden_layer\"+str(i+1))(input_layer)\n",
        "        else:\n",
        "            x = keras.layers.Dense(units=n_units, activation=\"relu\", name=\"hidden_layer\"+str(i+1))(x)\n",
        "    \n",
        "    out = keras.layers.Dense(units=output_units, activation=\"softmax\", name=\"output\")(x)\n",
        "    \n",
        "    model = keras.models.Model(inputs=[input_layer], outputs=[out])\n",
        "    return model"
      ],
      "execution_count": 0,
      "outputs": []
    },
    {
      "cell_type": "code",
      "metadata": {
        "id": "cVZkPgUWdyIS",
        "colab_type": "code",
        "outputId": "860792a0-460e-4698-db4b-74ca4bbe412c",
        "colab": {
          "base_uri": "https://localhost:8080/",
          "height": 459
        }
      },
      "source": [
        "model = build_mlp(input_shape=x_train.shape[1:])\n",
        "model.summary()"
      ],
      "execution_count": 7,
      "outputs": [
        {
          "output_type": "stream",
          "text": [
            "WARNING:tensorflow:From /usr/local/lib/python3.6/dist-packages/keras/backend/tensorflow_backend.py:66: The name tf.get_default_graph is deprecated. Please use tf.compat.v1.get_default_graph instead.\n",
            "\n",
            "WARNING:tensorflow:From /usr/local/lib/python3.6/dist-packages/keras/backend/tensorflow_backend.py:541: The name tf.placeholder is deprecated. Please use tf.compat.v1.placeholder instead.\n",
            "\n",
            "WARNING:tensorflow:From /usr/local/lib/python3.6/dist-packages/keras/backend/tensorflow_backend.py:4432: The name tf.random_uniform is deprecated. Please use tf.random.uniform instead.\n",
            "\n",
            "Model: \"model_1\"\n",
            "_________________________________________________________________\n",
            "Layer (type)                 Output Shape              Param #   \n",
            "=================================================================\n",
            "input_1 (InputLayer)         (None, 3072)              0         \n",
            "_________________________________________________________________\n",
            "hidden_layer1 (Dense)        (None, 512)               1573376   \n",
            "_________________________________________________________________\n",
            "hidden_layer2 (Dense)        (None, 256)               131328    \n",
            "_________________________________________________________________\n",
            "hidden_layer3 (Dense)        (None, 128)               32896     \n",
            "_________________________________________________________________\n",
            "output (Dense)               (None, 10)                1290      \n",
            "=================================================================\n",
            "Total params: 1,738,890\n",
            "Trainable params: 1,738,890\n",
            "Non-trainable params: 0\n",
            "_________________________________________________________________\n"
          ],
          "name": "stdout"
        }
      ]
    },
    {
      "cell_type": "code",
      "metadata": {
        "id": "7j-nIucJdyLp",
        "colab_type": "code",
        "colab": {}
      },
      "source": [
        "## 超參數設定\n",
        "LEARNING_RATE = 0.001\n",
        "EPOCHS = 100\n",
        "BATCH_SIZE = 256"
      ],
      "execution_count": 0,
      "outputs": []
    },
    {
      "cell_type": "code",
      "metadata": {
        "id": "ZzXKpyy_dyPn",
        "colab_type": "code",
        "outputId": "4cd50f43-d487-467e-c206-e0eea05bc3ff",
        "colab": {
          "base_uri": "https://localhost:8080/",
          "height": 107
        }
      },
      "source": [
        "optimizer = keras.optimizers.Adam(lr=LEARNING_RATE)\n",
        "model.compile(loss=\"categorical_crossentropy\", metrics=[\"accuracy\"], optimizer=optimizer)"
      ],
      "execution_count": 9,
      "outputs": [
        {
          "output_type": "stream",
          "text": [
            "WARNING:tensorflow:From /usr/local/lib/python3.6/dist-packages/keras/optimizers.py:793: The name tf.train.Optimizer is deprecated. Please use tf.compat.v1.train.Optimizer instead.\n",
            "\n",
            "WARNING:tensorflow:From /usr/local/lib/python3.6/dist-packages/keras/backend/tensorflow_backend.py:3576: The name tf.log is deprecated. Please use tf.math.log instead.\n",
            "\n"
          ],
          "name": "stdout"
        }
      ]
    },
    {
      "cell_type": "code",
      "metadata": {
        "id": "gHaO1WIId4-z",
        "colab_type": "code",
        "outputId": "4f11399d-0b1e-4c2a-82be-ba3a0a357449",
        "colab": {
          "base_uri": "https://localhost:8080/",
          "height": 1000
        }
      },
      "source": [
        "model.fit(x_train, y_train, \n",
        "          epochs=EPOCHS, \n",
        "          batch_size=BATCH_SIZE, \n",
        "          validation_data=(x_test, y_test), \n",
        "          shuffle=True)"
      ],
      "execution_count": 10,
      "outputs": [
        {
          "output_type": "stream",
          "text": [
            "WARNING:tensorflow:From /usr/local/lib/python3.6/dist-packages/tensorflow_core/python/ops/math_grad.py:1424: where (from tensorflow.python.ops.array_ops) is deprecated and will be removed in a future version.\n",
            "Instructions for updating:\n",
            "Use tf.where in 2.0, which has the same broadcast rule as np.where\n",
            "WARNING:tensorflow:From /usr/local/lib/python3.6/dist-packages/keras/backend/tensorflow_backend.py:1033: The name tf.assign_add is deprecated. Please use tf.compat.v1.assign_add instead.\n",
            "\n",
            "WARNING:tensorflow:From /usr/local/lib/python3.6/dist-packages/keras/backend/tensorflow_backend.py:1020: The name tf.assign is deprecated. Please use tf.compat.v1.assign instead.\n",
            "\n",
            "WARNING:tensorflow:From /usr/local/lib/python3.6/dist-packages/keras/backend/tensorflow_backend.py:3005: The name tf.Session is deprecated. Please use tf.compat.v1.Session instead.\n",
            "\n",
            "Train on 50000 samples, validate on 10000 samples\n",
            "Epoch 1/100\n",
            "WARNING:tensorflow:From /usr/local/lib/python3.6/dist-packages/keras/backend/tensorflow_backend.py:190: The name tf.get_default_session is deprecated. Please use tf.compat.v1.get_default_session instead.\n",
            "\n",
            "WARNING:tensorflow:From /usr/local/lib/python3.6/dist-packages/keras/backend/tensorflow_backend.py:197: The name tf.ConfigProto is deprecated. Please use tf.compat.v1.ConfigProto instead.\n",
            "\n",
            "WARNING:tensorflow:From /usr/local/lib/python3.6/dist-packages/keras/backend/tensorflow_backend.py:207: The name tf.global_variables is deprecated. Please use tf.compat.v1.global_variables instead.\n",
            "\n",
            "WARNING:tensorflow:From /usr/local/lib/python3.6/dist-packages/keras/backend/tensorflow_backend.py:216: The name tf.is_variable_initialized is deprecated. Please use tf.compat.v1.is_variable_initialized instead.\n",
            "\n",
            "WARNING:tensorflow:From /usr/local/lib/python3.6/dist-packages/keras/backend/tensorflow_backend.py:223: The name tf.variables_initializer is deprecated. Please use tf.compat.v1.variables_initializer instead.\n",
            "\n",
            "50000/50000 [==============================] - 6s 129us/step - loss: 1.9243 - acc: 0.3044 - val_loss: 1.7533 - val_acc: 0.3753\n",
            "Epoch 2/100\n",
            "50000/50000 [==============================] - 3s 57us/step - loss: 1.6991 - acc: 0.3907 - val_loss: 1.6267 - val_acc: 0.4184\n",
            "Epoch 3/100\n",
            "50000/50000 [==============================] - 3s 58us/step - loss: 1.6052 - acc: 0.4285 - val_loss: 1.5625 - val_acc: 0.4386\n",
            "Epoch 4/100\n",
            "50000/50000 [==============================] - 3s 57us/step - loss: 1.5513 - acc: 0.4473 - val_loss: 1.5364 - val_acc: 0.4485\n",
            "Epoch 5/100\n",
            "50000/50000 [==============================] - 3s 56us/step - loss: 1.5000 - acc: 0.4659 - val_loss: 1.5217 - val_acc: 0.4492\n",
            "Epoch 6/100\n",
            "50000/50000 [==============================] - 3s 56us/step - loss: 1.4615 - acc: 0.4793 - val_loss: 1.5372 - val_acc: 0.4506\n",
            "Epoch 7/100\n",
            "50000/50000 [==============================] - 3s 54us/step - loss: 1.4310 - acc: 0.4878 - val_loss: 1.4694 - val_acc: 0.4761\n",
            "Epoch 8/100\n",
            "50000/50000 [==============================] - 3s 56us/step - loss: 1.3904 - acc: 0.5023 - val_loss: 1.4487 - val_acc: 0.4842\n",
            "Epoch 9/100\n",
            "50000/50000 [==============================] - 3s 58us/step - loss: 1.3739 - acc: 0.5084 - val_loss: 1.4566 - val_acc: 0.4809\n",
            "Epoch 10/100\n",
            "50000/50000 [==============================] - 3s 55us/step - loss: 1.3408 - acc: 0.5232 - val_loss: 1.4372 - val_acc: 0.4882\n",
            "Epoch 11/100\n",
            "50000/50000 [==============================] - 3s 57us/step - loss: 1.3150 - acc: 0.5317 - val_loss: 1.3971 - val_acc: 0.5022\n",
            "Epoch 12/100\n",
            "50000/50000 [==============================] - 3s 58us/step - loss: 1.2964 - acc: 0.5373 - val_loss: 1.3776 - val_acc: 0.5074\n",
            "Epoch 13/100\n",
            "50000/50000 [==============================] - 3s 57us/step - loss: 1.2697 - acc: 0.5447 - val_loss: 1.3910 - val_acc: 0.5065\n",
            "Epoch 14/100\n",
            "50000/50000 [==============================] - 3s 56us/step - loss: 1.2482 - acc: 0.5575 - val_loss: 1.3752 - val_acc: 0.5122\n",
            "Epoch 15/100\n",
            "50000/50000 [==============================] - 3s 57us/step - loss: 1.2172 - acc: 0.5666 - val_loss: 1.4103 - val_acc: 0.4973\n",
            "Epoch 16/100\n",
            "50000/50000 [==============================] - 3s 57us/step - loss: 1.1984 - acc: 0.5717 - val_loss: 1.3766 - val_acc: 0.5120\n",
            "Epoch 17/100\n",
            "50000/50000 [==============================] - 3s 58us/step - loss: 1.1861 - acc: 0.5774 - val_loss: 1.3813 - val_acc: 0.5100\n",
            "Epoch 18/100\n",
            "50000/50000 [==============================] - 3s 58us/step - loss: 1.1502 - acc: 0.5897 - val_loss: 1.3670 - val_acc: 0.5120\n",
            "Epoch 19/100\n",
            "50000/50000 [==============================] - 3s 58us/step - loss: 1.1471 - acc: 0.5914 - val_loss: 1.4033 - val_acc: 0.5068\n",
            "Epoch 20/100\n",
            "50000/50000 [==============================] - 3s 58us/step - loss: 1.1124 - acc: 0.6051 - val_loss: 1.3659 - val_acc: 0.5232\n",
            "Epoch 21/100\n",
            "50000/50000 [==============================] - 3s 57us/step - loss: 1.0954 - acc: 0.6109 - val_loss: 1.3865 - val_acc: 0.5146\n",
            "Epoch 22/100\n",
            "50000/50000 [==============================] - 3s 57us/step - loss: 1.0778 - acc: 0.6142 - val_loss: 1.3822 - val_acc: 0.5258\n",
            "Epoch 23/100\n",
            "50000/50000 [==============================] - 3s 57us/step - loss: 1.0493 - acc: 0.6245 - val_loss: 1.3807 - val_acc: 0.5258\n",
            "Epoch 24/100\n",
            "50000/50000 [==============================] - 3s 57us/step - loss: 1.0361 - acc: 0.6324 - val_loss: 1.3821 - val_acc: 0.5283\n",
            "Epoch 25/100\n",
            "50000/50000 [==============================] - 3s 56us/step - loss: 1.0167 - acc: 0.6364 - val_loss: 1.3960 - val_acc: 0.5220\n",
            "Epoch 26/100\n",
            "50000/50000 [==============================] - 3s 56us/step - loss: 0.9977 - acc: 0.6425 - val_loss: 1.3869 - val_acc: 0.5250\n",
            "Epoch 27/100\n",
            "50000/50000 [==============================] - 3s 56us/step - loss: 0.9822 - acc: 0.6473 - val_loss: 1.4378 - val_acc: 0.5141\n",
            "Epoch 28/100\n",
            "50000/50000 [==============================] - 3s 57us/step - loss: 0.9618 - acc: 0.6577 - val_loss: 1.4493 - val_acc: 0.5153\n",
            "Epoch 29/100\n",
            "50000/50000 [==============================] - 3s 58us/step - loss: 0.9558 - acc: 0.6577 - val_loss: 1.4357 - val_acc: 0.5120\n",
            "Epoch 30/100\n",
            "50000/50000 [==============================] - 3s 57us/step - loss: 0.9230 - acc: 0.6695 - val_loss: 1.4927 - val_acc: 0.5168\n",
            "Epoch 31/100\n",
            "50000/50000 [==============================] - 3s 57us/step - loss: 0.9047 - acc: 0.6744 - val_loss: 1.4692 - val_acc: 0.5232\n",
            "Epoch 32/100\n",
            "50000/50000 [==============================] - 3s 57us/step - loss: 0.8918 - acc: 0.6811 - val_loss: 1.4674 - val_acc: 0.5226\n",
            "Epoch 33/100\n",
            "50000/50000 [==============================] - 3s 58us/step - loss: 0.8827 - acc: 0.6836 - val_loss: 1.5232 - val_acc: 0.5128\n",
            "Epoch 34/100\n",
            "50000/50000 [==============================] - 3s 58us/step - loss: 0.8603 - acc: 0.6900 - val_loss: 1.5228 - val_acc: 0.5170\n",
            "Epoch 35/100\n",
            "50000/50000 [==============================] - 3s 56us/step - loss: 0.8354 - acc: 0.7005 - val_loss: 1.5266 - val_acc: 0.5150\n",
            "Epoch 36/100\n",
            "50000/50000 [==============================] - 3s 56us/step - loss: 0.8240 - acc: 0.7052 - val_loss: 1.5195 - val_acc: 0.5277\n",
            "Epoch 37/100\n",
            "50000/50000 [==============================] - 3s 57us/step - loss: 0.8003 - acc: 0.7138 - val_loss: 1.5433 - val_acc: 0.5266\n",
            "Epoch 38/100\n",
            "50000/50000 [==============================] - 3s 58us/step - loss: 0.8079 - acc: 0.7095 - val_loss: 1.5712 - val_acc: 0.5206\n",
            "Epoch 39/100\n",
            "50000/50000 [==============================] - 3s 55us/step - loss: 0.7762 - acc: 0.7223 - val_loss: 1.5847 - val_acc: 0.5269\n",
            "Epoch 40/100\n",
            "50000/50000 [==============================] - 3s 55us/step - loss: 0.7675 - acc: 0.7255 - val_loss: 1.6077 - val_acc: 0.5196\n",
            "Epoch 41/100\n",
            "50000/50000 [==============================] - 3s 57us/step - loss: 0.7420 - acc: 0.7339 - val_loss: 1.6438 - val_acc: 0.5253\n",
            "Epoch 42/100\n",
            "50000/50000 [==============================] - 3s 58us/step - loss: 0.7371 - acc: 0.7344 - val_loss: 1.6302 - val_acc: 0.5236\n",
            "Epoch 43/100\n",
            "50000/50000 [==============================] - 3s 59us/step - loss: 0.7231 - acc: 0.7415 - val_loss: 1.6514 - val_acc: 0.5271\n",
            "Epoch 44/100\n",
            "50000/50000 [==============================] - 3s 58us/step - loss: 0.6981 - acc: 0.7491 - val_loss: 1.7359 - val_acc: 0.5088\n",
            "Epoch 45/100\n",
            "50000/50000 [==============================] - 3s 57us/step - loss: 0.6954 - acc: 0.7498 - val_loss: 1.6968 - val_acc: 0.5145\n",
            "Epoch 46/100\n",
            "50000/50000 [==============================] - 3s 56us/step - loss: 0.6982 - acc: 0.7492 - val_loss: 1.7066 - val_acc: 0.5230\n",
            "Epoch 47/100\n",
            "50000/50000 [==============================] - 3s 58us/step - loss: 0.6646 - acc: 0.7597 - val_loss: 1.7547 - val_acc: 0.5205\n",
            "Epoch 48/100\n",
            "50000/50000 [==============================] - 3s 57us/step - loss: 0.6500 - acc: 0.7665 - val_loss: 1.7819 - val_acc: 0.5200\n",
            "Epoch 49/100\n",
            "50000/50000 [==============================] - 3s 57us/step - loss: 0.6377 - acc: 0.7719 - val_loss: 1.7880 - val_acc: 0.5188\n",
            "Epoch 50/100\n",
            "50000/50000 [==============================] - 3s 60us/step - loss: 0.6201 - acc: 0.7784 - val_loss: 1.8083 - val_acc: 0.5185\n",
            "Epoch 51/100\n",
            "50000/50000 [==============================] - 3s 59us/step - loss: 0.6183 - acc: 0.7774 - val_loss: 1.8340 - val_acc: 0.5152\n",
            "Epoch 52/100\n",
            "50000/50000 [==============================] - 3s 59us/step - loss: 0.6086 - acc: 0.7803 - val_loss: 1.8915 - val_acc: 0.5081\n",
            "Epoch 53/100\n",
            "50000/50000 [==============================] - 3s 58us/step - loss: 0.5978 - acc: 0.7859 - val_loss: 1.9059 - val_acc: 0.5185\n",
            "Epoch 54/100\n",
            "50000/50000 [==============================] - 3s 59us/step - loss: 0.5943 - acc: 0.7847 - val_loss: 1.9484 - val_acc: 0.5157\n",
            "Epoch 55/100\n",
            "50000/50000 [==============================] - 3s 58us/step - loss: 0.5605 - acc: 0.7999 - val_loss: 1.9473 - val_acc: 0.5097\n",
            "Epoch 56/100\n",
            "50000/50000 [==============================] - 3s 58us/step - loss: 0.5627 - acc: 0.7975 - val_loss: 1.9938 - val_acc: 0.5090\n",
            "Epoch 57/100\n",
            "50000/50000 [==============================] - 3s 55us/step - loss: 0.5555 - acc: 0.7995 - val_loss: 1.9530 - val_acc: 0.5188\n",
            "Epoch 58/100\n",
            "50000/50000 [==============================] - 3s 60us/step - loss: 0.5233 - acc: 0.8128 - val_loss: 1.9476 - val_acc: 0.5194\n",
            "Epoch 59/100\n",
            "50000/50000 [==============================] - 3s 60us/step - loss: 0.5273 - acc: 0.8096 - val_loss: 2.0163 - val_acc: 0.5086\n",
            "Epoch 60/100\n",
            "50000/50000 [==============================] - 3s 60us/step - loss: 0.5144 - acc: 0.8162 - val_loss: 2.0661 - val_acc: 0.5184\n",
            "Epoch 61/100\n",
            "50000/50000 [==============================] - 3s 59us/step - loss: 0.5123 - acc: 0.8167 - val_loss: 2.0805 - val_acc: 0.5115\n",
            "Epoch 62/100\n",
            "50000/50000 [==============================] - 3s 59us/step - loss: 0.4972 - acc: 0.8214 - val_loss: 2.0986 - val_acc: 0.5151\n",
            "Epoch 63/100\n",
            "50000/50000 [==============================] - 3s 59us/step - loss: 0.4880 - acc: 0.8243 - val_loss: 2.1245 - val_acc: 0.5135\n",
            "Epoch 64/100\n",
            "50000/50000 [==============================] - 3s 59us/step - loss: 0.4787 - acc: 0.8283 - val_loss: 2.2592 - val_acc: 0.5097\n",
            "Epoch 65/100\n",
            "50000/50000 [==============================] - 3s 59us/step - loss: 0.4723 - acc: 0.8297 - val_loss: 2.1950 - val_acc: 0.5112\n",
            "Epoch 66/100\n",
            "50000/50000 [==============================] - 3s 59us/step - loss: 0.4640 - acc: 0.8326 - val_loss: 2.2075 - val_acc: 0.5112\n",
            "Epoch 67/100\n",
            "50000/50000 [==============================] - 3s 58us/step - loss: 0.4663 - acc: 0.8311 - val_loss: 2.2268 - val_acc: 0.5110\n",
            "Epoch 68/100\n",
            "50000/50000 [==============================] - 3s 60us/step - loss: 0.4516 - acc: 0.8370 - val_loss: 2.3006 - val_acc: 0.5076\n",
            "Epoch 69/100\n",
            "50000/50000 [==============================] - 3s 59us/step - loss: 0.4422 - acc: 0.8416 - val_loss: 2.3297 - val_acc: 0.5057\n",
            "Epoch 70/100\n",
            "50000/50000 [==============================] - 3s 59us/step - loss: 0.4436 - acc: 0.8402 - val_loss: 2.3104 - val_acc: 0.5082\n",
            "Epoch 71/100\n",
            "50000/50000 [==============================] - 3s 59us/step - loss: 0.4214 - acc: 0.8472 - val_loss: 2.4433 - val_acc: 0.5024\n",
            "Epoch 72/100\n",
            "50000/50000 [==============================] - 3s 58us/step - loss: 0.4128 - acc: 0.8517 - val_loss: 2.4322 - val_acc: 0.5097\n",
            "Epoch 73/100\n",
            "50000/50000 [==============================] - 3s 59us/step - loss: 0.4310 - acc: 0.8439 - val_loss: 2.3973 - val_acc: 0.5067\n",
            "Epoch 74/100\n",
            "50000/50000 [==============================] - 3s 59us/step - loss: 0.3865 - acc: 0.8613 - val_loss: 2.4365 - val_acc: 0.5072\n",
            "Epoch 75/100\n",
            "50000/50000 [==============================] - 3s 59us/step - loss: 0.3930 - acc: 0.8579 - val_loss: 2.5013 - val_acc: 0.5034\n",
            "Epoch 76/100\n",
            "50000/50000 [==============================] - 3s 59us/step - loss: 0.4080 - acc: 0.8529 - val_loss: 2.5042 - val_acc: 0.5116\n",
            "Epoch 77/100\n",
            "50000/50000 [==============================] - 3s 60us/step - loss: 0.3743 - acc: 0.8656 - val_loss: 2.5361 - val_acc: 0.5108\n",
            "Epoch 78/100\n",
            "50000/50000 [==============================] - 3s 60us/step - loss: 0.3863 - acc: 0.8598 - val_loss: 2.5248 - val_acc: 0.5115\n",
            "Epoch 79/100\n",
            "50000/50000 [==============================] - 3s 60us/step - loss: 0.3677 - acc: 0.8669 - val_loss: 2.6583 - val_acc: 0.4980\n",
            "Epoch 80/100\n",
            "50000/50000 [==============================] - 3s 60us/step - loss: 0.3513 - acc: 0.8732 - val_loss: 2.6189 - val_acc: 0.5141\n",
            "Epoch 81/100\n",
            "50000/50000 [==============================] - 3s 60us/step - loss: 0.3818 - acc: 0.8622 - val_loss: 2.6312 - val_acc: 0.5041\n",
            "Epoch 82/100\n",
            "50000/50000 [==============================] - 3s 61us/step - loss: 0.3577 - acc: 0.8712 - val_loss: 2.6611 - val_acc: 0.5081\n",
            "Epoch 83/100\n",
            "50000/50000 [==============================] - 3s 61us/step - loss: 0.3588 - acc: 0.8687 - val_loss: 2.6484 - val_acc: 0.5016\n",
            "Epoch 84/100\n",
            "50000/50000 [==============================] - 3s 60us/step - loss: 0.3624 - acc: 0.8691 - val_loss: 2.6542 - val_acc: 0.5123\n",
            "Epoch 85/100\n",
            "50000/50000 [==============================] - 3s 60us/step - loss: 0.3341 - acc: 0.8795 - val_loss: 2.7992 - val_acc: 0.5047\n",
            "Epoch 86/100\n",
            "50000/50000 [==============================] - 3s 58us/step - loss: 0.3285 - acc: 0.8833 - val_loss: 2.8116 - val_acc: 0.4973\n",
            "Epoch 87/100\n",
            "50000/50000 [==============================] - 3s 59us/step - loss: 0.3542 - acc: 0.8724 - val_loss: 2.7957 - val_acc: 0.5120\n",
            "Epoch 88/100\n",
            "50000/50000 [==============================] - 3s 58us/step - loss: 0.3370 - acc: 0.8783 - val_loss: 2.7948 - val_acc: 0.5063\n",
            "Epoch 89/100\n",
            "50000/50000 [==============================] - 3s 60us/step - loss: 0.3175 - acc: 0.8865 - val_loss: 2.8124 - val_acc: 0.5059\n",
            "Epoch 90/100\n",
            "50000/50000 [==============================] - 3s 59us/step - loss: 0.3208 - acc: 0.8828 - val_loss: 2.7675 - val_acc: 0.5073\n",
            "Epoch 91/100\n",
            "50000/50000 [==============================] - 3s 60us/step - loss: 0.3218 - acc: 0.8838 - val_loss: 2.8547 - val_acc: 0.5003\n",
            "Epoch 92/100\n",
            "50000/50000 [==============================] - 3s 60us/step - loss: 0.3126 - acc: 0.8884 - val_loss: 2.9494 - val_acc: 0.5051\n",
            "Epoch 93/100\n",
            "50000/50000 [==============================] - 3s 59us/step - loss: 0.2836 - acc: 0.8991 - val_loss: 2.9662 - val_acc: 0.5070\n",
            "Epoch 94/100\n",
            "50000/50000 [==============================] - 3s 60us/step - loss: 0.3138 - acc: 0.8866 - val_loss: 3.0324 - val_acc: 0.4928\n",
            "Epoch 95/100\n",
            "50000/50000 [==============================] - 3s 58us/step - loss: 0.3057 - acc: 0.8890 - val_loss: 3.0279 - val_acc: 0.4971\n",
            "Epoch 96/100\n",
            "50000/50000 [==============================] - 3s 60us/step - loss: 0.3025 - acc: 0.8902 - val_loss: 3.0636 - val_acc: 0.4975\n",
            "Epoch 97/100\n",
            "50000/50000 [==============================] - 3s 60us/step - loss: 0.3047 - acc: 0.8905 - val_loss: 3.0523 - val_acc: 0.4945\n",
            "Epoch 98/100\n",
            "50000/50000 [==============================] - 3s 60us/step - loss: 0.2879 - acc: 0.8956 - val_loss: 3.0542 - val_acc: 0.5086\n",
            "Epoch 99/100\n",
            "50000/50000 [==============================] - 3s 60us/step - loss: 0.2680 - acc: 0.9037 - val_loss: 3.1972 - val_acc: 0.4976\n",
            "Epoch 100/100\n",
            "50000/50000 [==============================] - 3s 60us/step - loss: 0.2795 - acc: 0.9009 - val_loss: 3.0441 - val_acc: 0.4972\n"
          ],
          "name": "stdout"
        },
        {
          "output_type": "execute_result",
          "data": {
            "text/plain": [
              "<keras.callbacks.History at 0x7f88d0110e48>"
            ]
          },
          "metadata": {
            "tags": []
          },
          "execution_count": 10
        }
      ]
    },
    {
      "cell_type": "code",
      "metadata": {
        "id": "yh8sLp1Hd5C7",
        "colab_type": "code",
        "outputId": "69110e6d-90ce-40a3-ace3-6efea5105b6f",
        "colab": {
          "base_uri": "https://localhost:8080/",
          "height": 545
        }
      },
      "source": [
        "# 訓練模型並檢視驗證集的結果\n",
        "import matplotlib.pyplot as plt\n",
        "\n",
        "train_loss = model.history.history[\"loss\"]\n",
        "valid_loss = model.history.history[\"val_loss\"]\n",
        "\n",
        "train_acc = model.history.history[\"acc\"]\n",
        "valid_acc = model.history.history[\"val_acc\"]\n",
        "\n",
        "plt.plot(range(len(train_loss)), train_loss, label=\"train loss\")\n",
        "plt.plot(range(len(valid_loss)), valid_loss, label=\"valid loss\")\n",
        "plt.legend()\n",
        "plt.title(\"Loss\")\n",
        "plt.show()\n",
        "\n",
        "plt.plot(range(len(train_acc)), train_acc, label=\"train accuracy\")\n",
        "plt.plot(range(len(valid_acc)), valid_acc, label=\"valid accuracy\")\n",
        "plt.legend()\n",
        "plt.title(\"Accuracy\")\n",
        "plt.show()"
      ],
      "execution_count": 11,
      "outputs": [
        {
          "output_type": "display_data",
          "data": {
            "image/png": "[encoded data removed]",
            "text/plain": [
              "<Figure size 432x288 with 1 Axes>"
            ]
          },
          "metadata": {
            "tags": []
          }
        },
        {
          "output_type": "display_data",
          "data": {
            "image/png": "[encoded data removed]",
            "text/plain": [
              "<Figure size 432x288 with 1 Axes>"
            ]
          },
          "metadata": {
            "tags": []
          }
        }
      ]
    },
    {
      "cell_type": "markdown",
      "metadata": {
        "id": "DI8RYLJbeICk",
        "colab_type": "text"
      },
      "source": [
        "## Work\n",
        "1. 請嘗試將 preproc_x 替換成以每筆資料的 min/max 進行標準化至 -1 ~ 1 間，再進行訓練\n",
        "2. 請嘗試將 mlp 疊更深 (e.g 5~10 層)，進行訓練後觀察 learning curve 的走勢\n",
        "3. (optional) 請改用 GPU 進行訓練 (如果你有 GPU 的話)，比較使用 CPU 與 GPU 的訓練速度"
      ]
    },
    {
      "cell_type": "code",
      "metadata": {
        "id": "AmzpJC_feJcL",
        "colab_type": "code",
        "colab": {}
      },
      "source": [
        "# 從 Keras 的內建功能中，取得 train 與 test 資料集\n",
        "train, test = keras.datasets.cifar10.load_data()"
      ],
      "execution_count": 0,
      "outputs": []
    },
    {
      "cell_type": "code",
      "metadata": {
        "id": "38yn_UqEeac3",
        "colab_type": "code",
        "colab": {}
      },
      "source": [
        "## 資料前處理ape\n",
        "from sklearn.preprocessing import MinMaxScaler\n",
        "\n",
        "def preproc_x(x, flatten=True):\n",
        "  scaler = MinMaxScaler() \n",
        "  x = x.reshape((len(x), -1))\n",
        "  x = scaler.fit_transform(x) #將每筆資料做minmax standardization\n",
        "  return x\n",
        "\n",
        "def preproc_y(y, num_classes=10):\n",
        "    if y.shape[-1] == 1:\n",
        "        y = keras.utils.to_categorical(y, num_classes)\n",
        "    return y    "
      ],
      "execution_count": 0,
      "outputs": []
    },
    {
      "cell_type": "code",
      "metadata": {
        "id": "P80S-gU8eagK",
        "colab_type": "code",
        "colab": {}
      },
      "source": [
        "x_train, y_train = train\n",
        "x_test, y_test = test\n",
        "\n",
        "# 資料前處理 - X 標準化\n",
        "x_train = preproc_x(x_train)\n",
        "x_test = preproc_x(x_test)\n",
        "\n",
        "# 資料前處理 -Y 轉成 onehot\n",
        "y_train = preproc_y(y_train)\n",
        "y_test = preproc_y(y_test)"
      ],
      "execution_count": 0,
      "outputs": []
    },
    {
      "cell_type": "code",
      "metadata": {
        "id": "YOjT8nN3eaj9",
        "colab_type": "code",
        "colab": {}
      },
      "source": [
        "def build_mlp(input_shape, output_units=10, num_neurons=[4096,2048,1024,512, 256, 128]):\n",
        "    input_layer = keras.layers.Input(input_shape)\n",
        "    \n",
        "    for i, n_units in enumerate(num_neurons):\n",
        "        if i == 0:\n",
        "            x = keras.layers.Dense(units=n_units, activation=\"relu\", name=\"hidden_layer\"+str(i+1))(input_layer)\n",
        "        else:\n",
        "            x = keras.layers.Dense(units=n_units, activation=\"relu\", name=\"hidden_layer\"+str(i+1))(x)\n",
        "    \n",
        "    out = keras.layers.Dense(units=output_units, activation=\"softmax\", name=\"output\")(x)\n",
        "    \n",
        "    model = keras.models.Model(inputs=[input_layer], outputs=[out])\n",
        "    return model"
      ],
      "execution_count": 0,
      "outputs": []
    },
    {
      "cell_type": "code",
      "metadata": {
        "id": "dke_pp6ueapv",
        "colab_type": "code",
        "colab": {
          "base_uri": "https://localhost:8080/",
          "height": 439
        },
        "outputId": "d9f18cc8-d92f-4447-b0aa-d62a912ba7b0"
      },
      "source": [
        "model2 = build_mlp(input_shape=x_train.shape[1:])\n",
        "model2.summary()"
      ],
      "execution_count": 40,
      "outputs": [
        {
          "output_type": "stream",
          "text": [
            "Model: \"model_2\"\n",
            "_________________________________________________________________\n",
            "Layer (type)                 Output Shape              Param #   \n",
            "=================================================================\n",
            "input_2 (InputLayer)         (None, 3072)              0         \n",
            "_________________________________________________________________\n",
            "hidden_layer1 (Dense)        (None, 4096)              12587008  \n",
            "_________________________________________________________________\n",
            "hidden_layer2 (Dense)        (None, 2048)              8390656   \n",
            "_________________________________________________________________\n",
            "hidden_layer3 (Dense)        (None, 1024)              2098176   \n",
            "_________________________________________________________________\n",
            "hidden_layer4 (Dense)        (None, 512)               524800    \n",
            "_________________________________________________________________\n",
            "hidden_layer5 (Dense)        (None, 256)               131328    \n",
            "_________________________________________________________________\n",
            "hidden_layer6 (Dense)        (None, 128)               32896     \n",
            "_________________________________________________________________\n",
            "output (Dense)               (None, 10)                1290      \n",
            "=================================================================\n",
            "Total params: 23,766,154\n",
            "Trainable params: 23,766,154\n",
            "Non-trainable params: 0\n",
            "_________________________________________________________________\n"
          ],
          "name": "stdout"
        }
      ]
    },
    {
      "cell_type": "code",
      "metadata": {
        "id": "B63GJExjeas_",
        "colab_type": "code",
        "colab": {}
      },
      "source": [
        "## 超參數設定\n",
        "LEARNING_RATE = 0.001\n",
        "EPOCHS = 100\n",
        "BATCH_SIZE = 256"
      ],
      "execution_count": 0,
      "outputs": []
    },
    {
      "cell_type": "code",
      "metadata": {
        "id": "yWZ7g8uZeaw1",
        "colab_type": "code",
        "colab": {}
      },
      "source": [
        "optimizer = keras.optimizers.Adam(lr=LEARNING_RATE)\n",
        "model2.compile(loss=\"categorical_crossentropy\", metrics=[\"accuracy\"], optimizer=optimizer)"
      ],
      "execution_count": 0,
      "outputs": []
    },
    {
      "cell_type": "code",
      "metadata": {
        "id": "_ls1xvwGetPb",
        "colab_type": "code",
        "colab": {
          "base_uri": "https://localhost:8080/",
          "height": 1000
        },
        "outputId": "440d421d-2927-46fa-c35e-2a8251601458"
      },
      "source": [
        "model2.fit(x_train, y_train, \n",
        "          epochs=EPOCHS, \n",
        "          batch_size=BATCH_SIZE, \n",
        "          validation_data=(x_test, y_test), \n",
        "          shuffle=True)"
      ],
      "execution_count": 43,
      "outputs": [
        {
          "output_type": "stream",
          "text": [
            "Train on 50000 samples, validate on 10000 samples\n",
            "Epoch 1/100\n",
            "50000/50000 [==============================] - 11s 220us/step - loss: 2.0856 - acc: 0.2380 - val_loss: 1.8485 - val_acc: 0.3250\n",
            "Epoch 2/100\n",
            "50000/50000 [==============================] - 10s 195us/step - loss: 1.7657 - acc: 0.3591 - val_loss: 1.7569 - val_acc: 0.3668\n",
            "Epoch 3/100\n",
            "50000/50000 [==============================] - 10s 196us/step - loss: 1.6683 - acc: 0.3989 - val_loss: 1.6297 - val_acc: 0.4142\n",
            "Epoch 4/100\n",
            "50000/50000 [==============================] - 10s 194us/step - loss: 1.6050 - acc: 0.4221 - val_loss: 1.6117 - val_acc: 0.4282\n",
            "Epoch 5/100\n",
            "50000/50000 [==============================] - 10s 196us/step - loss: 1.5449 - acc: 0.4460 - val_loss: 1.5283 - val_acc: 0.4592\n",
            "Epoch 6/100\n",
            "50000/50000 [==============================] - 10s 196us/step - loss: 1.5049 - acc: 0.4599 - val_loss: 1.5287 - val_acc: 0.4538\n",
            "Epoch 7/100\n",
            "50000/50000 [==============================] - 10s 194us/step - loss: 1.4551 - acc: 0.4764 - val_loss: 1.5238 - val_acc: 0.4519\n",
            "Epoch 8/100\n",
            "50000/50000 [==============================] - 10s 193us/step - loss: 1.4193 - acc: 0.4931 - val_loss: 1.4490 - val_acc: 0.4847\n",
            "Epoch 9/100\n",
            "50000/50000 [==============================] - 10s 195us/step - loss: 1.3769 - acc: 0.5040 - val_loss: 1.4154 - val_acc: 0.4971\n",
            "Epoch 10/100\n",
            "50000/50000 [==============================] - 10s 193us/step - loss: 1.3517 - acc: 0.5160 - val_loss: 1.3925 - val_acc: 0.5088\n",
            "Epoch 11/100\n",
            "50000/50000 [==============================] - 10s 197us/step - loss: 1.3149 - acc: 0.5273 - val_loss: 1.4494 - val_acc: 0.4870\n",
            "Epoch 12/100\n",
            "50000/50000 [==============================] - 10s 199us/step - loss: 1.2783 - acc: 0.5416 - val_loss: 1.4113 - val_acc: 0.5098\n",
            "Epoch 13/100\n",
            "50000/50000 [==============================] - 10s 203us/step - loss: 1.2514 - acc: 0.5513 - val_loss: 1.4073 - val_acc: 0.5019\n",
            "Epoch 14/100\n",
            "50000/50000 [==============================] - 10s 204us/step - loss: 1.2133 - acc: 0.5628 - val_loss: 1.4811 - val_acc: 0.4775\n",
            "Epoch 15/100\n",
            "50000/50000 [==============================] - 10s 203us/step - loss: 1.1823 - acc: 0.5768 - val_loss: 1.4159 - val_acc: 0.5149\n",
            "Epoch 16/100\n",
            "50000/50000 [==============================] - 10s 202us/step - loss: 1.1481 - acc: 0.5868 - val_loss: 1.3953 - val_acc: 0.5190\n",
            "Epoch 17/100\n",
            "50000/50000 [==============================] - 10s 201us/step - loss: 1.1111 - acc: 0.6003 - val_loss: 1.3776 - val_acc: 0.5241\n",
            "Epoch 18/100\n",
            "50000/50000 [==============================] - 10s 202us/step - loss: 1.0726 - acc: 0.6144 - val_loss: 1.4155 - val_acc: 0.5239\n",
            "Epoch 19/100\n",
            "50000/50000 [==============================] - 10s 202us/step - loss: 1.0224 - acc: 0.6315 - val_loss: 1.4565 - val_acc: 0.5136\n",
            "Epoch 20/100\n",
            "50000/50000 [==============================] - 10s 201us/step - loss: 0.9801 - acc: 0.6449 - val_loss: 1.4691 - val_acc: 0.5125\n",
            "Epoch 21/100\n",
            "50000/50000 [==============================] - 10s 201us/step - loss: 0.9314 - acc: 0.6633 - val_loss: 1.4898 - val_acc: 0.5223\n",
            "Epoch 22/100\n",
            "50000/50000 [==============================] - 10s 200us/step - loss: 0.8811 - acc: 0.6814 - val_loss: 1.5119 - val_acc: 0.5190\n",
            "Epoch 23/100\n",
            "50000/50000 [==============================] - 10s 201us/step - loss: 0.8324 - acc: 0.6991 - val_loss: 1.5697 - val_acc: 0.5108\n",
            "Epoch 24/100\n",
            "50000/50000 [==============================] - 10s 202us/step - loss: 0.7740 - acc: 0.7202 - val_loss: 1.6336 - val_acc: 0.5137\n",
            "Epoch 25/100\n",
            "50000/50000 [==============================] - 10s 201us/step - loss: 0.7221 - acc: 0.7370 - val_loss: 1.6682 - val_acc: 0.5071\n",
            "Epoch 26/100\n",
            "50000/50000 [==============================] - 10s 201us/step - loss: 0.6608 - acc: 0.7620 - val_loss: 1.7590 - val_acc: 0.5103\n",
            "Epoch 27/100\n",
            "50000/50000 [==============================] - 10s 200us/step - loss: 0.6310 - acc: 0.7722 - val_loss: 1.7979 - val_acc: 0.5128\n",
            "Epoch 28/100\n",
            "50000/50000 [==============================] - 10s 200us/step - loss: 0.5624 - acc: 0.7959 - val_loss: 2.0493 - val_acc: 0.5073\n",
            "Epoch 29/100\n",
            "50000/50000 [==============================] - 10s 200us/step - loss: 0.5082 - acc: 0.8157 - val_loss: 2.1728 - val_acc: 0.4996\n",
            "Epoch 30/100\n",
            "50000/50000 [==============================] - 10s 203us/step - loss: 0.4925 - acc: 0.8225 - val_loss: 2.1714 - val_acc: 0.5077\n",
            "Epoch 31/100\n",
            "50000/50000 [==============================] - 10s 202us/step - loss: 0.4479 - acc: 0.8384 - val_loss: 2.3244 - val_acc: 0.4945\n",
            "Epoch 32/100\n",
            "50000/50000 [==============================] - 10s 201us/step - loss: 0.4282 - acc: 0.8442 - val_loss: 2.2081 - val_acc: 0.4978\n",
            "Epoch 33/100\n",
            "50000/50000 [==============================] - 10s 203us/step - loss: 0.3626 - acc: 0.8694 - val_loss: 2.3480 - val_acc: 0.5019\n",
            "Epoch 34/100\n",
            "50000/50000 [==============================] - 10s 202us/step - loss: 0.3509 - acc: 0.8727 - val_loss: 2.6633 - val_acc: 0.4977\n",
            "Epoch 35/100\n",
            "50000/50000 [==============================] - 10s 200us/step - loss: 0.3125 - acc: 0.8873 - val_loss: 2.6963 - val_acc: 0.4980\n",
            "Epoch 36/100\n",
            "50000/50000 [==============================] - 10s 203us/step - loss: 0.2945 - acc: 0.8960 - val_loss: 2.7202 - val_acc: 0.4959\n",
            "Epoch 37/100\n",
            "50000/50000 [==============================] - 10s 204us/step - loss: 0.2708 - acc: 0.9036 - val_loss: 2.7532 - val_acc: 0.4991\n",
            "Epoch 38/100\n",
            "50000/50000 [==============================] - 10s 201us/step - loss: 0.2617 - acc: 0.9066 - val_loss: 2.8817 - val_acc: 0.5016\n",
            "Epoch 39/100\n",
            "50000/50000 [==============================] - 10s 202us/step - loss: 0.2483 - acc: 0.9120 - val_loss: 2.9396 - val_acc: 0.5022\n",
            "Epoch 40/100\n",
            "50000/50000 [==============================] - 10s 204us/step - loss: 0.2230 - acc: 0.9203 - val_loss: 3.0400 - val_acc: 0.4888\n",
            "Epoch 41/100\n",
            "50000/50000 [==============================] - 10s 204us/step - loss: 0.2398 - acc: 0.9165 - val_loss: 2.9186 - val_acc: 0.4974\n",
            "Epoch 42/100\n",
            "50000/50000 [==============================] - 10s 202us/step - loss: 0.2078 - acc: 0.9277 - val_loss: 3.0091 - val_acc: 0.5026\n",
            "Epoch 43/100\n",
            "50000/50000 [==============================] - 10s 203us/step - loss: 0.2013 - acc: 0.9296 - val_loss: 3.2157 - val_acc: 0.4978\n",
            "Epoch 44/100\n",
            "50000/50000 [==============================] - 10s 203us/step - loss: 0.2073 - acc: 0.9275 - val_loss: 3.1578 - val_acc: 0.4969\n",
            "Epoch 45/100\n",
            "50000/50000 [==============================] - 10s 203us/step - loss: 0.1708 - acc: 0.9392 - val_loss: 3.1962 - val_acc: 0.4971\n",
            "Epoch 46/100\n",
            "50000/50000 [==============================] - 10s 204us/step - loss: 0.1688 - acc: 0.9413 - val_loss: 3.3043 - val_acc: 0.4986\n",
            "Epoch 47/100\n",
            "50000/50000 [==============================] - 10s 203us/step - loss: 0.1638 - acc: 0.9433 - val_loss: 3.3604 - val_acc: 0.5067\n",
            "Epoch 48/100\n",
            "50000/50000 [==============================] - 10s 202us/step - loss: 0.1692 - acc: 0.9424 - val_loss: 3.1834 - val_acc: 0.4993\n",
            "Epoch 49/100\n",
            "50000/50000 [==============================] - 10s 200us/step - loss: 0.1610 - acc: 0.9452 - val_loss: 3.3052 - val_acc: 0.5010\n",
            "Epoch 50/100\n",
            "50000/50000 [==============================] - 10s 201us/step - loss: 0.1607 - acc: 0.9444 - val_loss: 3.1616 - val_acc: 0.5033\n",
            "Epoch 51/100\n",
            "50000/50000 [==============================] - 10s 202us/step - loss: 0.1518 - acc: 0.9471 - val_loss: 3.3712 - val_acc: 0.4981\n",
            "Epoch 52/100\n",
            "50000/50000 [==============================] - 10s 206us/step - loss: 0.1613 - acc: 0.9453 - val_loss: 3.3205 - val_acc: 0.4927\n",
            "Epoch 53/100\n",
            "50000/50000 [==============================] - 10s 204us/step - loss: 0.1515 - acc: 0.9480 - val_loss: 3.3238 - val_acc: 0.4982\n",
            "Epoch 54/100\n",
            "50000/50000 [==============================] - 10s 203us/step - loss: 0.1276 - acc: 0.9563 - val_loss: 3.4567 - val_acc: 0.5014\n",
            "Epoch 55/100\n",
            "50000/50000 [==============================] - 10s 202us/step - loss: 0.1447 - acc: 0.9512 - val_loss: 3.4648 - val_acc: 0.4993\n",
            "Epoch 56/100\n",
            "50000/50000 [==============================] - 10s 202us/step - loss: 0.1241 - acc: 0.9590 - val_loss: 3.5372 - val_acc: 0.4885\n",
            "Epoch 57/100\n",
            "50000/50000 [==============================] - 10s 206us/step - loss: 0.1167 - acc: 0.9605 - val_loss: 3.6425 - val_acc: 0.4974\n",
            "Epoch 58/100\n",
            "50000/50000 [==============================] - 10s 203us/step - loss: 0.1367 - acc: 0.9530 - val_loss: 3.4542 - val_acc: 0.5014\n",
            "Epoch 59/100\n",
            "50000/50000 [==============================] - 10s 200us/step - loss: 0.1299 - acc: 0.9565 - val_loss: 3.3549 - val_acc: 0.5085\n",
            "Epoch 60/100\n",
            "50000/50000 [==============================] - 10s 202us/step - loss: 0.1045 - acc: 0.9657 - val_loss: 3.5972 - val_acc: 0.5077\n",
            "Epoch 61/100\n",
            "50000/50000 [==============================] - 10s 199us/step - loss: 0.1289 - acc: 0.9559 - val_loss: 3.5259 - val_acc: 0.5021\n",
            "Epoch 62/100\n",
            "50000/50000 [==============================] - 10s 202us/step - loss: 0.0976 - acc: 0.9668 - val_loss: 3.5935 - val_acc: 0.5040\n",
            "Epoch 63/100\n",
            "50000/50000 [==============================] - 10s 201us/step - loss: 0.1380 - acc: 0.9535 - val_loss: 3.3836 - val_acc: 0.5026\n",
            "Epoch 64/100\n",
            "50000/50000 [==============================] - 10s 205us/step - loss: 0.1039 - acc: 0.9650 - val_loss: 3.5808 - val_acc: 0.5027\n",
            "Epoch 65/100\n",
            "50000/50000 [==============================] - 10s 204us/step - loss: 0.1095 - acc: 0.9635 - val_loss: 3.6582 - val_acc: 0.4919\n",
            "Epoch 66/100\n",
            "50000/50000 [==============================] - 10s 202us/step - loss: 0.1142 - acc: 0.9628 - val_loss: 3.5963 - val_acc: 0.5023\n",
            "Epoch 67/100\n",
            "50000/50000 [==============================] - 10s 205us/step - loss: 0.1199 - acc: 0.9583 - val_loss: 3.6264 - val_acc: 0.4988\n",
            "Epoch 68/100\n",
            "50000/50000 [==============================] - 10s 209us/step - loss: 0.1213 - acc: 0.9592 - val_loss: 3.5751 - val_acc: 0.4974\n",
            "Epoch 69/100\n",
            "50000/50000 [==============================] - 10s 200us/step - loss: 0.1086 - acc: 0.9633 - val_loss: 3.6494 - val_acc: 0.5089\n",
            "Epoch 70/100\n",
            "50000/50000 [==============================] - 10s 201us/step - loss: 0.1129 - acc: 0.9616 - val_loss: 3.3905 - val_acc: 0.5040\n",
            "Epoch 71/100\n",
            "50000/50000 [==============================] - 10s 201us/step - loss: 0.0746 - acc: 0.9757 - val_loss: 3.7339 - val_acc: 0.4989\n",
            "Epoch 72/100\n",
            "50000/50000 [==============================] - 10s 201us/step - loss: 0.1097 - acc: 0.9638 - val_loss: 3.6127 - val_acc: 0.4953\n",
            "Epoch 73/100\n",
            "50000/50000 [==============================] - 10s 200us/step - loss: 0.0947 - acc: 0.9687 - val_loss: 3.6863 - val_acc: 0.5049\n",
            "Epoch 74/100\n",
            "50000/50000 [==============================] - 10s 201us/step - loss: 0.1128 - acc: 0.9623 - val_loss: 3.5749 - val_acc: 0.4926\n",
            "Epoch 75/100\n",
            "50000/50000 [==============================] - 10s 201us/step - loss: 0.0862 - acc: 0.9711 - val_loss: 3.6815 - val_acc: 0.5050\n",
            "Epoch 76/100\n",
            "50000/50000 [==============================] - 10s 204us/step - loss: 0.0867 - acc: 0.9707 - val_loss: 3.7761 - val_acc: 0.4995\n",
            "Epoch 77/100\n",
            "50000/50000 [==============================] - 10s 199us/step - loss: 0.0991 - acc: 0.9682 - val_loss: 3.6701 - val_acc: 0.5014\n",
            "Epoch 78/100\n",
            "50000/50000 [==============================] - 10s 194us/step - loss: 0.1012 - acc: 0.9667 - val_loss: 3.4468 - val_acc: 0.4949\n",
            "Epoch 79/100\n",
            "50000/50000 [==============================] - 10s 196us/step - loss: 0.0927 - acc: 0.9688 - val_loss: 3.6267 - val_acc: 0.4978\n",
            "Epoch 80/100\n",
            "50000/50000 [==============================] - 10s 198us/step - loss: 0.0987 - acc: 0.9665 - val_loss: 3.7791 - val_acc: 0.4954\n",
            "Epoch 81/100\n",
            "50000/50000 [==============================] - 10s 202us/step - loss: 0.0855 - acc: 0.9712 - val_loss: 3.8080 - val_acc: 0.4967\n",
            "Epoch 82/100\n",
            "50000/50000 [==============================] - 10s 200us/step - loss: 0.0844 - acc: 0.9723 - val_loss: 3.7516 - val_acc: 0.4948\n",
            "Epoch 83/100\n",
            "50000/50000 [==============================] - 10s 196us/step - loss: 0.1034 - acc: 0.9674 - val_loss: 3.4705 - val_acc: 0.4981\n",
            "Epoch 84/100\n",
            "50000/50000 [==============================] - 10s 193us/step - loss: 0.0873 - acc: 0.9707 - val_loss: 3.6307 - val_acc: 0.4995\n",
            "Epoch 85/100\n",
            "50000/50000 [==============================] - 10s 194us/step - loss: 0.0904 - acc: 0.9693 - val_loss: 3.7288 - val_acc: 0.4983\n",
            "Epoch 86/100\n",
            "50000/50000 [==============================] - 10s 194us/step - loss: 0.0872 - acc: 0.9718 - val_loss: 3.7347 - val_acc: 0.5025\n",
            "Epoch 87/100\n",
            "50000/50000 [==============================] - 10s 193us/step - loss: 0.0945 - acc: 0.9688 - val_loss: 3.6002 - val_acc: 0.4909\n",
            "Epoch 88/100\n",
            "50000/50000 [==============================] - 10s 194us/step - loss: 0.0774 - acc: 0.9741 - val_loss: 3.8423 - val_acc: 0.5055\n",
            "Epoch 89/100\n",
            "50000/50000 [==============================] - 10s 194us/step - loss: 0.0920 - acc: 0.9705 - val_loss: 3.6596 - val_acc: 0.4966\n",
            "Epoch 90/100\n",
            "50000/50000 [==============================] - 10s 196us/step - loss: 0.0896 - acc: 0.9713 - val_loss: 3.7831 - val_acc: 0.5021\n",
            "Epoch 91/100\n",
            "50000/50000 [==============================] - 10s 201us/step - loss: 0.0814 - acc: 0.9738 - val_loss: 3.6940 - val_acc: 0.5025\n",
            "Epoch 92/100\n",
            "50000/50000 [==============================] - 10s 202us/step - loss: 0.0713 - acc: 0.9770 - val_loss: 3.7940 - val_acc: 0.5068\n",
            "Epoch 93/100\n",
            "50000/50000 [==============================] - 10s 203us/step - loss: 0.0837 - acc: 0.9731 - val_loss: 3.6023 - val_acc: 0.5004\n",
            "Epoch 94/100\n",
            "50000/50000 [==============================] - 10s 202us/step - loss: 0.0583 - acc: 0.9816 - val_loss: 3.9638 - val_acc: 0.4963\n",
            "Epoch 95/100\n",
            "50000/50000 [==============================] - 10s 203us/step - loss: 0.0923 - acc: 0.9698 - val_loss: 3.7261 - val_acc: 0.4918\n",
            "Epoch 96/100\n",
            "50000/50000 [==============================] - 10s 202us/step - loss: 0.0759 - acc: 0.9754 - val_loss: 3.8438 - val_acc: 0.4902\n",
            "Epoch 97/100\n",
            "50000/50000 [==============================] - 10s 201us/step - loss: 0.0926 - acc: 0.9701 - val_loss: 3.6620 - val_acc: 0.4939\n",
            "Epoch 98/100\n",
            "50000/50000 [==============================] - 10s 202us/step - loss: 0.0702 - acc: 0.9778 - val_loss: 3.8333 - val_acc: 0.5019\n",
            "Epoch 99/100\n",
            "50000/50000 [==============================] - 10s 204us/step - loss: 0.0735 - acc: 0.9754 - val_loss: 3.7376 - val_acc: 0.4970\n",
            "Epoch 100/100\n",
            "50000/50000 [==============================] - 10s 203us/step - loss: 0.0666 - acc: 0.9779 - val_loss: 3.9036 - val_acc: 0.4942\n"
          ],
          "name": "stdout"
        },
        {
          "output_type": "execute_result",
          "data": {
            "text/plain": [
              "<keras.callbacks.History at 0x7f8872bd6da0>"
            ]
          },
          "metadata": {
            "tags": []
          },
          "execution_count": 43
        }
      ]
    },
    {
      "cell_type": "code",
      "metadata": {
        "id": "_dw5MTm7etMu",
        "colab_type": "code",
        "colab": {
          "base_uri": "https://localhost:8080/",
          "height": 545
        },
        "outputId": "1a7ecdfd-7ee7-4a12-f7f0-0a6e4f2a37a8"
      },
      "source": [
        "# 訓練模型並檢視驗證集的結果\n",
        "import matplotlib.pyplot as plt\n",
        "\n",
        "train_loss = model2.history.history[\"loss\"]\n",
        "valid_loss = model2.history.history[\"val_loss\"]\n",
        "\n",
        "train_acc = model2.history.history[\"acc\"]\n",
        "valid_acc = model2.history.history[\"val_acc\"]\n",
        "\n",
        "plt.plot(range(len(train_loss)), train_loss, label=\"train loss\")\n",
        "plt.plot(range(len(valid_loss)), valid_loss, label=\"valid loss\")\n",
        "plt.legend()\n",
        "plt.title(\"Loss\")\n",
        "plt.show()\n",
        "\n",
        "plt.plot(range(len(train_acc)), train_acc, label=\"train accuracy\")\n",
        "plt.plot(range(len(valid_acc)), valid_acc, label=\"valid accuracy\")\n",
        "plt.legend()\n",
        "plt.title(\"Accuracy\")\n",
        "plt.show()"
      ],
      "execution_count": 44,
      "outputs": [
        {
          "output_type": "display_data",
          "data": {
            "image/png": "[encoded data removed]",
            "text/plain": [
              "<Figure size 432x288 with 1 Axes>"
            ]
          },
          "metadata": {
            "tags": []
          }
        },
        {
          "output_type": "display_data",
          "data": {
            "image/png": "[encoded data removed]",
            "text/plain": [
              "<Figure size 432x288 with 1 Axes>"
            ]
          },
          "metadata": {
            "tags": []
          }
        }
      ]
    },
    {
      "cell_type": "markdown",
      "metadata": {
        "id": "U221JvH18uUA",
        "colab_type": "text"
      },
      "source": [
        "Valid Loss 反而較高  \n",
        "train accuracy 爬升較快"
      ]
    },
    {
      "cell_type": "code",
      "metadata": {
        "id": "5W58lDW84DdK",
        "colab_type": "code",
        "colab": {}
      },
      "source": [
        ""
      ],
      "execution_count": 0,
      "outputs": []
    }
  ]
}
